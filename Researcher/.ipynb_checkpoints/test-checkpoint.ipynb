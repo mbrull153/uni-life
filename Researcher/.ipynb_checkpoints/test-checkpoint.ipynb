{
 "cells": [
  {
   "cell_type": "markdown",
   "metadata": {},
   "source": [
    "# Python\n",
    "Python is a general propose programing language. In these workshops we will use Python 3.6. Python is an interpreted language as JavaScript and in opposition to Java or C which need to be compiled to run; this implies that some of the errors detected during the source compilation will not be noticed and will generate exceptions during execution.\n",
    "\n",
    "In this notebook we are going to see some very basic examples of how to use Python and some of its libraries, to get a detailed view of the language check https://docs.python.org/3/tutorial/\n",
    "\n",
    "## Variables and types\n",
    "Python is a strongly typed language. Python has 4 basic types: integer number `int`, decimal numbers `float`, booleans `bool` and text strings `str`. When we define a variable, we will not specify the type."
   ]
  },
  {
   "cell_type": "code",
   "execution_count": 1,
   "metadata": {},
   "outputs": [
    {
     "name": "stdout",
     "output_type": "stream",
     "text": [
      "Hello World!\n"
     ]
    }
   ],
   "source": [
    "# This is a comment\n",
    "# Comments starts with the character #\n",
    "\n",
    "# This frame is a cell which can be executed individually. To execute a cell press Ctrl+Enter\n",
    "\n",
    "print(\"Hello World!\")"
   ]
  },
  {
   "cell_type": "code",
   "execution_count": 2,
   "metadata": {},
   "outputs": [],
   "source": [
    "# An integer\n",
    "myInt = 10\n",
    "\n",
    "# A float value\n",
    "myFloat = 3.14\n",
    "\n",
    "# A boolean\n",
    "myBool = True\n",
    "\n",
    "# A string, you can use simple quotes ' or double quotes \"\n",
    "myStr = \"example1\"\n",
    "myStr2 = 'example2'\n"
   ]
  },
  {
   "cell_type": "markdown",
   "metadata": {},
   "source": [
    "To write in the standard output, in other words to print something, we will use the function `print()`"
   ]
  },
  {
   "cell_type": "code",
   "execution_count": 3,
   "metadata": {},
   "outputs": [
    {
     "name": "stdout",
     "output_type": "stream",
     "text": [
      "10\n",
      "3.14\n",
      "True\n",
      "example1\n",
      "example2\n",
      "example1 10\n"
     ]
    }
   ],
   "source": [
    "print(myInt)\n",
    "print(myFloat)\n",
    "print(myBool)\n",
    "print(myStr)\n",
    "print(myStr2)\n",
    "\n",
    "# As Python is strongly typed variables will not change its type automatically, so, for example, if we want to concatenate\n",
    "# an int with an str, we have to convert the int into a str first\n",
    "print(myStr + \" \" + str(myInt))"
   ]
  },
  {
   "cell_type": "markdown",
   "metadata": {},
   "source": [
    "## Basic operations"
   ]
  },
  {
   "cell_type": "code",
   "execution_count": 4,
   "metadata": {},
   "outputs": [
    {
     "name": "stdout",
     "output_type": "stream",
     "text": [
      "8\n",
      "-2\n",
      "15\n",
      "0.6\n",
      "243\n"
     ]
    }
   ],
   "source": [
    "# Add\n",
    "print(3 + 5)\n",
    "\n",
    "# Subtract\n",
    "print(3 - 5)\n",
    "\n",
    "# Multiply\n",
    "print(3 * 5)\n",
    "\n",
    "# Divide\n",
    "print(3 / 5)\n",
    "\n",
    "# Power \n",
    "print(3 ** 5)"
   ]
  },
  {
   "cell_type": "markdown",
   "metadata": {},
   "source": [
    "## Lists"
   ]
  },
  {
   "cell_type": "code",
   "execution_count": 5,
   "metadata": {},
   "outputs": [
    {
     "name": "stdout",
     "output_type": "stream",
     "text": [
      "1\n",
      "APSV\n",
      "[1, 2]\n",
      "[3, True]\n",
      "[1, 2]\n",
      "[3, True, 'APSV']\n"
     ]
    }
   ],
   "source": [
    "myList = [1, 2, 3, True, \"APSV\"]\n",
    "\n",
    "# Access an element in certain position\n",
    "print(myList[0])\n",
    "\n",
    "# We can access elements at the end by using negative index. -1 is the last value, -2 the previous one, etc\n",
    "print(myList[-1])\n",
    "\n",
    "# We can obtain a sublist using this syntax myList[start:end]\n",
    "# If start is not specified the beginning of the list will be used, analogously with end and the end of the list\n",
    "print(myList[0:2])\n",
    "print(myList[-3:-1])\n",
    "print(myList[:2])\n",
    "print(myList[2:])"
   ]
  },
  {
   "cell_type": "code",
   "execution_count": 6,
   "metadata": {},
   "outputs": [
    {
     "name": "stdout",
     "output_type": "stream",
     "text": [
      "[4, 2, 3, True, 'APSV']\n",
      "[4, 2, 3, True, 'APSV', 'CRIS']\n",
      "[4, 23, 2, 3, True, 'APSV', 'CRIS']\n",
      "[4, 23, 2, 3, True, 'APSV']\n",
      "[4, 2, 3, True, 'APSV']\n",
      "[4, 2, True, 'APSV']\n",
      "4\n"
     ]
    }
   ],
   "source": [
    "# To modify a value\n",
    "myList[0] = 4\n",
    "print(myList)\n",
    "\n",
    "# To add elements at the end of the list\n",
    "myList.append(\"CRIS\")\n",
    "print(myList)\n",
    "\n",
    "# To add elements in a certain position\n",
    "myList.insert(1,23)\n",
    "print(myList)\n",
    "\n",
    "# To remove the last element\n",
    "lastElement = myList.pop()\n",
    "print(myList)\n",
    "\n",
    "# To remove a certain element\n",
    "del(myList[1])\n",
    "print(myList)\n",
    "\n",
    "# To remove an element by value\n",
    "myList.remove(3)\n",
    "print(myList)\n",
    "\n",
    "# To obtain the length of any collection\n",
    "print(len(myList))"
   ]
  },
  {
   "cell_type": "markdown",
   "metadata": {},
   "source": [
    "## Dictionaries\n",
    "Dictionaries are collections of key-value pairs. These collections can be accessed like a list but using the keys instead of the indexes.\n",
    "\n",
    "The values can have different types, even is common to have dictionaries inside dictionaries (eg. to work with a json)."
   ]
  },
  {
   "cell_type": "code",
   "execution_count": 7,
   "metadata": {},
   "outputs": [
    {
     "name": "stdout",
     "output_type": "stream",
     "text": [
      "{'key': 'value', 'APSV': 23, 'arr': [1, 2, 3]}\n",
      "[1, 2, 3]\n"
     ]
    }
   ],
   "source": [
    "# Dictionaries are marked with {} characters\n",
    "# The syntax to set a key-value pair is \"key\": \"value\"\n",
    "myDict = { \"key\": \"value\", \"APSV\": 23, \"arr\" : [1,2,3] }\n",
    "print(myDict)\n",
    "\n",
    "# Access by key\n",
    "print(myDict[\"arr\"])"
   ]
  },
  {
   "cell_type": "markdown",
   "metadata": {},
   "source": [
    "## Boolean operations"
   ]
  },
  {
   "cell_type": "code",
   "execution_count": 8,
   "metadata": {},
   "outputs": [
    {
     "name": "stdout",
     "output_type": "stream",
     "text": [
      "False\n",
      "True\n",
      "False\n",
      "True\n"
     ]
    }
   ],
   "source": [
    "# AND\n",
    "print(myInt <5 and myBool)\n",
    "\n",
    "# OR\n",
    "print(myInt >5 or myBool)\n",
    "\n",
    "# Negate\n",
    "print(not myBool)\n",
    "\n",
    "# Check element in list\n",
    "print(4 in myList)"
   ]
  },
  {
   "cell_type": "markdown",
   "metadata": {},
   "source": [
    "## Flow control\n",
    "In Python, code blocks are defined by their indentation level in opposition of other languages which surrounds the blocks with `{}`."
   ]
  },
  {
   "cell_type": "code",
   "execution_count": 9,
   "metadata": {},
   "outputs": [
    {
     "name": "stdout",
     "output_type": "stream",
     "text": [
      "myInt is greater than 5\n"
     ]
    }
   ],
   "source": [
    "# Conditional\n",
    "if myInt > 5:\n",
    "    print(\"myInt is greater than 5\")"
   ]
  },
  {
   "cell_type": "code",
   "execution_count": 10,
   "metadata": {},
   "outputs": [
    {
     "name": "stdout",
     "output_type": "stream",
     "text": [
      "myInt is greater than 5\n"
     ]
    }
   ],
   "source": [
    "# Conditional with else\n",
    "if myInt < 5:\n",
    "    print(\"myInt is less than 5\")\n",
    "else:\n",
    "    print(\"myInt is greater than 5\")"
   ]
  },
  {
   "cell_type": "code",
   "execution_count": 11,
   "metadata": {},
   "outputs": [
    {
     "name": "stdout",
     "output_type": "stream",
     "text": [
      "myInt is less than 15\n"
     ]
    }
   ],
   "source": [
    "# Nested conditionals\n",
    "if myInt < 5:\n",
    "    print(\"myInt is less than 5\")\n",
    "elif myInt < 15:\n",
    "    print(\"myInt is less than 15\")\n",
    "else:\n",
    "    print(\"myInt is greater than 15\")"
   ]
  },
  {
   "cell_type": "code",
   "execution_count": 12,
   "metadata": {},
   "outputs": [
    {
     "name": "stdout",
     "output_type": "stream",
     "text": [
      "4\n",
      "2\n",
      "True\n",
      "APSV\n"
     ]
    }
   ],
   "source": [
    "# For loop to iterate over list elements\n",
    "for i in myList:\n",
    "    print(i)"
   ]
  },
  {
   "cell_type": "code",
   "execution_count": 13,
   "metadata": {},
   "outputs": [
    {
     "name": "stdout",
     "output_type": "stream",
     "text": [
      "0 - 4\n",
      "1 - 2\n",
      "2 - True\n",
      "3 - APSV\n"
     ]
    }
   ],
   "source": [
    "# For loop to iterate over values in a range\n",
    "for i in range(len(myList)):\n",
    "    print(str(i) + \" - \" + str(myList[i]))"
   ]
  },
  {
   "cell_type": "code",
   "execution_count": 14,
   "metadata": {},
   "outputs": [
    {
     "name": "stdout",
     "output_type": "stream",
     "text": [
      "0\n",
      "1\n",
      "2\n",
      "3\n",
      "4\n",
      "5\n",
      "6\n",
      "7\n",
      "8\n",
      "9\n"
     ]
    }
   ],
   "source": [
    "# While loop\n",
    "a = 0\n",
    "while a < 10:\n",
    "    print(a)\n",
    "    a += 1"
   ]
  },
  {
   "cell_type": "code",
   "execution_count": 15,
   "metadata": {},
   "outputs": [
    {
     "name": "stdout",
     "output_type": "stream",
     "text": [
      "1 is odd\n",
      "3 is odd\n",
      "5 is odd\n",
      "7 is odd\n",
      "9 is odd\n"
     ]
    }
   ],
   "source": [
    "# Break and continue\n",
    "a = 0\n",
    "while True:\n",
    "    a += 1\n",
    "    if a > 10:\n",
    "        break\n",
    "    if a % 2 == 0:\n",
    "        continue\n",
    "    print(a, \"is odd\")"
   ]
  },
  {
   "cell_type": "markdown",
   "metadata": {},
   "source": [
    "# Methods\n",
    "To define a method in python we will use the following syntax `def methodName(arg1, arg2 = \"default value\", arg3)`."
   ]
  },
  {
   "cell_type": "code",
   "execution_count": 16,
   "metadata": {},
   "outputs": [
    {
     "name": "stdout",
     "output_type": "stream",
     "text": [
      "5\n",
      "3\n"
     ]
    }
   ],
   "source": [
    "def sumValues(a, b=1):\n",
    "    return a + b\n",
    "\n",
    "print(sumValues(2,3))\n",
    "print(sumValues(2))"
   ]
  },
  {
   "cell_type": "markdown",
   "metadata": {},
   "source": [
    "## Import modules\n",
    "In Python external dependencies are usually called modules, to import them we will use `import moduleName`\n",
    "\n",
    "If you are interested in know more about Python or and additional modules you may need to install them, to do that Python have a command named `pip` to install external libraries (similar to `npm` in Javascript) that you can run in a terminal.\n",
    "\n",
    "`pip install [name of library]`"
   ]
  },
  {
   "cell_type": "code",
   "execution_count": 17,
   "metadata": {
    "scrolled": true
   },
   "outputs": [
    {
     "name": "stdout",
     "output_type": "stream",
     "text": [
      "1.4142135623730951\n",
      "0.07025855160859495\n"
     ]
    }
   ],
   "source": [
    "import math\n",
    "print(math.sqrt(2))\n",
    "import random\n",
    "print(random.random())"
   ]
  },
  {
   "cell_type": "markdown",
   "metadata": {},
   "source": [
    "## Errors\n",
    "Until now, all the code that we have executed have run correctly, but when we do more complex things, we can get execution errors. Now we are going to run code with errors to see what kind of errors can we found and how they look"
   ]
  },
  {
   "cell_type": "code",
   "execution_count": 18,
   "metadata": {},
   "outputs": [
    {
     "ename": "NameError",
     "evalue": "name 'var33' is not defined",
     "output_type": "error",
     "traceback": [
      "\u001b[0;31m---------------------------------------------------------------------------\u001b[0m",
      "\u001b[0;31mNameError\u001b[0m                                 Traceback (most recent call last)",
      "\u001b[0;32m<ipython-input-18-77ca63c450d1>\u001b[0m in \u001b[0;36m<module>\u001b[0;34m\u001b[0m\n\u001b[1;32m      1\u001b[0m \u001b[0;31m# Name error\u001b[0m\u001b[0;34m\u001b[0m\u001b[0;34m\u001b[0m\u001b[0;34m\u001b[0m\u001b[0m\n\u001b[1;32m      2\u001b[0m \u001b[0;31m# This error is usually caused by syntax errors\u001b[0m\u001b[0;34m\u001b[0m\u001b[0;34m\u001b[0m\u001b[0;34m\u001b[0m\u001b[0m\n\u001b[0;32m----> 3\u001b[0;31m \u001b[0mprint\u001b[0m\u001b[0;34m(\u001b[0m\u001b[0mvar33\u001b[0m\u001b[0;34m)\u001b[0m\u001b[0;34m\u001b[0m\u001b[0;34m\u001b[0m\u001b[0m\n\u001b[0m",
      "\u001b[0;31mNameError\u001b[0m: name 'var33' is not defined"
     ]
    }
   ],
   "source": [
    "# Name error\n",
    "# This error is usually caused by syntax errors\n",
    "print(var33)"
   ]
  },
  {
   "cell_type": "code",
   "execution_count": 19,
   "metadata": {
    "scrolled": true
   },
   "outputs": [
    {
     "ename": "TypeError",
     "evalue": "can only concatenate str (not \"int\") to str",
     "output_type": "error",
     "traceback": [
      "\u001b[0;31m---------------------------------------------------------------------------\u001b[0m",
      "\u001b[0;31mTypeError\u001b[0m                                 Traceback (most recent call last)",
      "\u001b[0;32m<ipython-input-19-92793966c4e9>\u001b[0m in \u001b[0;36m<module>\u001b[0;34m\u001b[0m\n\u001b[1;32m      1\u001b[0m \u001b[0;31m# Syntax error\u001b[0m\u001b[0;34m\u001b[0m\u001b[0;34m\u001b[0m\u001b[0;34m\u001b[0m\u001b[0m\n\u001b[1;32m      2\u001b[0m \u001b[0;31m# Usually related with the variable types\u001b[0m\u001b[0;34m\u001b[0m\u001b[0;34m\u001b[0m\u001b[0;34m\u001b[0m\u001b[0m\n\u001b[0;32m----> 3\u001b[0;31m \u001b[0mprint\u001b[0m\u001b[0;34m(\u001b[0m\u001b[0;34m\"hello \"\u001b[0m \u001b[0;34m+\u001b[0m \u001b[0;36m3\u001b[0m\u001b[0;34m)\u001b[0m\u001b[0;34m\u001b[0m\u001b[0;34m\u001b[0m\u001b[0m\n\u001b[0m",
      "\u001b[0;31mTypeError\u001b[0m: can only concatenate str (not \"int\") to str"
     ]
    }
   ],
   "source": [
    "# Syntax error\n",
    "# Usually related with the variable types\n",
    "print(\"hello \" + 3)"
   ]
  },
  {
   "cell_type": "code",
   "execution_count": 20,
   "metadata": {},
   "outputs": [
    {
     "ename": "ZeroDivisionError",
     "evalue": "division by zero",
     "output_type": "error",
     "traceback": [
      "\u001b[0;31m---------------------------------------------------------------------------\u001b[0m",
      "\u001b[0;31mZeroDivisionError\u001b[0m                         Traceback (most recent call last)",
      "\u001b[0;32m<ipython-input-20-37dfd9aa2dff>\u001b[0m in \u001b[0;36m<module>\u001b[0;34m\u001b[0m\n\u001b[1;32m      1\u001b[0m \u001b[0;31m# ZeroDivisionError\u001b[0m\u001b[0;34m\u001b[0m\u001b[0;34m\u001b[0m\u001b[0;34m\u001b[0m\u001b[0m\n\u001b[0;32m----> 2\u001b[0;31m \u001b[0mprint\u001b[0m\u001b[0;34m(\u001b[0m\u001b[0;36m1\u001b[0m \u001b[0;34m/\u001b[0m \u001b[0;36m0\u001b[0m\u001b[0;34m)\u001b[0m\u001b[0;34m\u001b[0m\u001b[0;34m\u001b[0m\u001b[0m\n\u001b[0m",
      "\u001b[0;31mZeroDivisionError\u001b[0m: division by zero"
     ]
    }
   ],
   "source": [
    "# ZeroDivisionError\n",
    "print(1 / 0)"
   ]
  },
  {
   "cell_type": "code",
   "execution_count": 21,
   "metadata": {},
   "outputs": [
    {
     "ename": "IndexError",
     "evalue": "list index out of range",
     "output_type": "error",
     "traceback": [
      "\u001b[0;31m---------------------------------------------------------------------------\u001b[0m",
      "\u001b[0;31mIndexError\u001b[0m                                Traceback (most recent call last)",
      "\u001b[0;32m<ipython-input-21-1c63dbb38530>\u001b[0m in \u001b[0;36m<module>\u001b[0;34m\u001b[0m\n\u001b[1;32m      2\u001b[0m \u001b[0;31m# This happens when we try to access to a index out of bounds or an undefined index\u001b[0m\u001b[0;34m\u001b[0m\u001b[0;34m\u001b[0m\u001b[0;34m\u001b[0m\u001b[0m\n\u001b[1;32m      3\u001b[0m \u001b[0ma\u001b[0m \u001b[0;34m=\u001b[0m \u001b[0;34m[\u001b[0m\u001b[0;36m1\u001b[0m\u001b[0;34m,\u001b[0m \u001b[0;36m2\u001b[0m\u001b[0;34m]\u001b[0m\u001b[0;34m\u001b[0m\u001b[0;34m\u001b[0m\u001b[0m\n\u001b[0;32m----> 4\u001b[0;31m \u001b[0mprint\u001b[0m\u001b[0;34m(\u001b[0m\u001b[0ma\u001b[0m\u001b[0;34m[\u001b[0m\u001b[0;36m4\u001b[0m\u001b[0;34m]\u001b[0m\u001b[0;34m)\u001b[0m\u001b[0;34m\u001b[0m\u001b[0;34m\u001b[0m\u001b[0m\n\u001b[0m",
      "\u001b[0;31mIndexError\u001b[0m: list index out of range"
     ]
    }
   ],
   "source": [
    "# IndexError\n",
    "# This happens when we try to access to a index out of bounds or an undefined index\n",
    "a = [1, 2]\n",
    "print(a[4])"
   ]
  },
  {
   "cell_type": "markdown",
   "metadata": {},
   "source": [
    "## Classes\n",
    "As Java and other object oriented languages, Python can use classes. These classes can be instantiated to create object of that class.\n",
    "\n",
    "https://docs.python.org/3/tutorial/classes.html"
   ]
  },
  {
   "cell_type": "code",
   "execution_count": 22,
   "metadata": {},
   "outputs": [
    {
     "name": "stdout",
     "output_type": "stream",
     "text": [
      "1 2\n",
      "2.23606797749979\n"
     ]
    }
   ],
   "source": [
    "class Complex:\n",
    "    # The __init__ method is the constructor of the class\n",
    "    def __init__(self, realpart, imagpart):\n",
    "        self.r = realpart\n",
    "        self.i = imagpart\n",
    "    # All methods should declare first a parameter named self, which is the object itself\n",
    "    def mod(self):\n",
    "        return math.sqrt(self.r**2+self.i**2)\n",
    "\n",
    "c = Complex(1,2)\n",
    "print(c.r,c.i)\n",
    "print(c.mod())"
   ]
  },
  {
   "cell_type": "markdown",
   "metadata": {},
   "source": [
    "## Problems\n",
    "### Problem 1\n",
    "Design a method to calculate the cosine distance between two lists of floats ``x`` and ``y``. The cosine distance or cosine similarity is a measure of the angle between two vectors https://en.wikipedia.org/wiki/Cosine_similarity.\n",
    "\n",
    "$D =\\cos(\\theta) = {\\mathbf{A} \\cdot \\mathbf{B} \\over \\|\\mathbf{A}\\| \\|\\mathbf{B}\\|} = \\frac{ \\sum\\limits_{i=1}^{n}{A_i  B_i} }{ \\sqrt{\\sum\\limits_{i=1}^{n}{A_i^2}}  \\sqrt{\\sum\\limits_{i=1}^{n}{B_i^2}} } $"
   ]
  },
  {
   "cell_type": "code",
   "execution_count": 24,
   "metadata": {},
   "outputs": [],
   "source": [
    "import math\n",
    "\n",
    "def cos_distance( x, y ):\n",
    "    ab = 0\n",
    "    a2 = 0\n",
    "    b2 = 0\n",
    "    \n",
    "    for i in range(len(x)):\n",
    "        ab += x[i]*y[i]\n",
    "        a2 += x[i]*x[i]\n",
    "        b2 += y[i]*y[i]\n",
    "        \n",
    "    return ab /(math.sqrt(a2)*math.sqrt(b2))"
   ]
  },
  {
   "cell_type": "code",
   "execution_count": 25,
   "metadata": {},
   "outputs": [
    {
     "name": "stdout",
     "output_type": "stream",
     "text": [
      "0.7142857142857143\n"
     ]
    }
   ],
   "source": [
    "# Try it\n",
    "print(cos_distance([1,2,3], [3,2,1]))"
   ]
  },
  {
   "cell_type": "markdown",
   "metadata": {},
   "source": [
    "### Problem 2\n",
    "Design a method that creates a dictionary with ``n`` vectors identified with keys ``v1, v2, ... vn``. The vectors should have dimension ``m`` and their components should be random numbers between 0 and 10 (these numbers can be generated with ``random.random()*10``)"
   ]
  },
  {
   "cell_type": "code",
   "execution_count": 26,
   "metadata": {},
   "outputs": [],
   "source": [
    "import random\n",
    "\n",
    "def generate_vectors( n, m ):\n",
    "    vectors = {}\n",
    "    for i in range(n):\n",
    "        vec = []\n",
    "        for j in range(m):\n",
    "            vec.insert(j,random.random()*10)\n",
    "        vectors[\"v\" + str(i)] = vec\n",
    "            \n",
    "    return vectors"
   ]
  },
  {
   "cell_type": "code",
   "execution_count": 27,
   "metadata": {},
   "outputs": [
    {
     "name": "stdout",
     "output_type": "stream",
     "text": [
      "{'v0': [8.8750583750648, 7.938609947866409, 7.84895815567034], 'v1': [3.226473080385055, 0.48455310880173297, 2.4195634319786397]}\n"
     ]
    }
   ],
   "source": [
    "# Try it\n",
    "print(generate_vectors(2, 3))"
   ]
  },
  {
   "cell_type": "markdown",
   "metadata": {},
   "source": [
    "### Problem 3\n",
    "Design a method that receives a dictionary of vectors and returns a matrix (list of lists) with the distance between each pair of vectors.\n",
    "\n",
    "```python\n",
    "vectors = {\"v1\": [], \"v2\": [], \"v3\": []}\n",
    "\n",
    "distances = [[cos_distance(v1,v1), cos_distance(v1,v2), cos_distance(v1,v3)],\n",
    "             [cos_distance(v2,v1), cos_distance(v2,v2), cos_distance(v2,v3)],\n",
    "             [cos_distance(v3,v1), cos_distance(v3,v2), cos_distance(v3,v3)]]\n",
    "```"
   ]
  },
  {
   "cell_type": "code",
   "execution_count": 28,
   "metadata": {},
   "outputs": [],
   "source": [
    "import random\n",
    "import math\n",
    "\n",
    "def distance_matrix( vect ):\n",
    "    result = []\n",
    "    for i in range (len(vect)):\n",
    "        dist = []\n",
    "        for j in range (len(vect)):\n",
    "            dist.append(cos_distance(vect[\"v\" + str [i]],vect[\"v\" + str[j]]))\n",
    "        result.append(dist)\n",
    "    return result"
   ]
  },
  {
   "cell_type": "code",
   "execution_count": 29,
   "metadata": {},
   "outputs": [
    {
     "ename": "TypeError",
     "evalue": "'type' object is not subscriptable",
     "output_type": "error",
     "traceback": [
      "\u001b[0;31m---------------------------------------------------------------------------\u001b[0m",
      "\u001b[0;31mTypeError\u001b[0m                                 Traceback (most recent call last)",
      "\u001b[0;32m<ipython-input-29-051d9f3f6f99>\u001b[0m in \u001b[0;36m<module>\u001b[0;34m\u001b[0m\n\u001b[1;32m      1\u001b[0m \u001b[0;31m# Try it\u001b[0m\u001b[0;34m\u001b[0m\u001b[0;34m\u001b[0m\u001b[0;34m\u001b[0m\u001b[0m\n\u001b[0;32m----> 2\u001b[0;31m \u001b[0mprint\u001b[0m\u001b[0;34m(\u001b[0m\u001b[0mdistance_matrix\u001b[0m\u001b[0;34m(\u001b[0m \u001b[0;34m{\u001b[0m\u001b[0;34m\"v0\"\u001b[0m\u001b[0;34m:\u001b[0m \u001b[0;34m[\u001b[0m\u001b[0;36m1\u001b[0m\u001b[0;34m,\u001b[0m\u001b[0;36m2\u001b[0m\u001b[0;34m,\u001b[0m\u001b[0;36m3\u001b[0m\u001b[0;34m]\u001b[0m\u001b[0;34m,\u001b[0m \u001b[0;34m\"v1\"\u001b[0m\u001b[0;34m:\u001b[0m \u001b[0;34m[\u001b[0m\u001b[0;36m2\u001b[0m\u001b[0;34m,\u001b[0m\u001b[0;36m3\u001b[0m\u001b[0;34m,\u001b[0m\u001b[0;36m1\u001b[0m\u001b[0;34m]\u001b[0m\u001b[0;34m,\u001b[0m \u001b[0;34m\"v2\"\u001b[0m\u001b[0;34m:\u001b[0m \u001b[0;34m[\u001b[0m\u001b[0;36m3\u001b[0m\u001b[0;34m,\u001b[0m\u001b[0;36m1\u001b[0m\u001b[0;34m,\u001b[0m\u001b[0;36m2\u001b[0m\u001b[0;34m]\u001b[0m\u001b[0;34m}\u001b[0m \u001b[0;34m)\u001b[0m\u001b[0;34m)\u001b[0m\u001b[0;34m\u001b[0m\u001b[0;34m\u001b[0m\u001b[0m\n\u001b[0m",
      "\u001b[0;32m<ipython-input-28-2a0b48d1c7b4>\u001b[0m in \u001b[0;36mdistance_matrix\u001b[0;34m(vect)\u001b[0m\n\u001b[1;32m      7\u001b[0m         \u001b[0mdist\u001b[0m \u001b[0;34m=\u001b[0m \u001b[0;34m[\u001b[0m\u001b[0;34m]\u001b[0m\u001b[0;34m\u001b[0m\u001b[0;34m\u001b[0m\u001b[0m\n\u001b[1;32m      8\u001b[0m         \u001b[0;32mfor\u001b[0m \u001b[0mj\u001b[0m \u001b[0;32min\u001b[0m \u001b[0mrange\u001b[0m \u001b[0;34m(\u001b[0m\u001b[0mlen\u001b[0m\u001b[0;34m(\u001b[0m\u001b[0mvect\u001b[0m\u001b[0;34m)\u001b[0m\u001b[0;34m)\u001b[0m\u001b[0;34m:\u001b[0m\u001b[0;34m\u001b[0m\u001b[0;34m\u001b[0m\u001b[0m\n\u001b[0;32m----> 9\u001b[0;31m             \u001b[0mdist\u001b[0m\u001b[0;34m.\u001b[0m\u001b[0mappend\u001b[0m\u001b[0;34m(\u001b[0m\u001b[0mcos_distance\u001b[0m\u001b[0;34m(\u001b[0m\u001b[0mvect\u001b[0m\u001b[0;34m[\u001b[0m\u001b[0;34m\"v\"\u001b[0m \u001b[0;34m+\u001b[0m \u001b[0mstr\u001b[0m \u001b[0;34m[\u001b[0m\u001b[0mi\u001b[0m\u001b[0;34m]\u001b[0m\u001b[0;34m]\u001b[0m\u001b[0;34m,\u001b[0m\u001b[0mvect\u001b[0m\u001b[0;34m[\u001b[0m\u001b[0;34m\"v\"\u001b[0m \u001b[0;34m+\u001b[0m \u001b[0mstr\u001b[0m\u001b[0;34m[\u001b[0m\u001b[0mj\u001b[0m\u001b[0;34m]\u001b[0m\u001b[0;34m]\u001b[0m\u001b[0;34m)\u001b[0m\u001b[0;34m)\u001b[0m\u001b[0;34m\u001b[0m\u001b[0;34m\u001b[0m\u001b[0m\n\u001b[0m\u001b[1;32m     10\u001b[0m         \u001b[0mresult\u001b[0m\u001b[0;34m.\u001b[0m\u001b[0mappend\u001b[0m\u001b[0;34m(\u001b[0m\u001b[0mdist\u001b[0m\u001b[0;34m)\u001b[0m\u001b[0;34m\u001b[0m\u001b[0;34m\u001b[0m\u001b[0m\n\u001b[1;32m     11\u001b[0m     \u001b[0;32mreturn\u001b[0m \u001b[0mresult\u001b[0m\u001b[0;34m\u001b[0m\u001b[0;34m\u001b[0m\u001b[0m\n",
      "\u001b[0;31mTypeError\u001b[0m: 'type' object is not subscriptable"
     ]
    }
   ],
   "source": [
    "# Try it\n",
    "print(distance_matrix( {\"v0\": [1,2,3], \"v1\": [2,3,1], \"v2\": [3,1,2]} ))"
   ]
  },
  {
   "cell_type": "markdown",
   "metadata": {},
   "source": [
    "### Problem 4\n",
    "Design a method that receives a matrix of numbers and return the minimum value"
   ]
  },
  {
   "cell_type": "code",
   "execution_count": 30,
   "metadata": {},
   "outputs": [],
   "source": [
    "def get_min( distances ):\n",
    "    min_value = distances[0][0]\n",
    "    for i in distances:\n",
    "        for j in i:\n",
    "            min_value = min(min_value, j)\n",
    "    return min_value"
   ]
  },
  {
   "cell_type": "code",
   "execution_count": 31,
   "metadata": {},
   "outputs": [
    {
     "name": "stdout",
     "output_type": "stream",
     "text": [
      "0.1\n"
     ]
    }
   ],
   "source": [
    "# Try it\n",
    "print(get_min([[.1,.2,.3],[.4,.5,.6],[.7,.8,.9]]))"
   ]
  },
  {
   "cell_type": "code",
   "execution_count": null,
   "metadata": {},
   "outputs": [],
   "source": [
    "# All together!\n",
    "\n",
    "# Generate 10 vectors of dimension 10\n",
    "\n",
    "# Calculate the distance between all vectors\n",
    "\n",
    "# Get the minimum distance"
   ]
  },
  {
   "cell_type": "markdown",
   "metadata": {},
   "source": [
    "___\n",
    "# Numpy and Matplotlib\n",
    "__NumPy__ (http://www.numpy.org/) is the fundamental package for scientific computing with Python. It contains among other things:\n",
    "- a powerful N-dimensional array object\n",
    "- sophisticated (broadcasting) functions\n",
    "- tools for integrating C/C++ and Fortran code\n",
    "- useful linear algebra, Fourier transform, and random number capabilities\n",
    "\n",
    "Besides its obvious scientific uses, NumPy can also be used as an efficient multi-dimensional container of generic data. Arbitrary data-types can be defined. This allows NumPy to seamlessly and speedily integrate with a wide variety of databases.\n",
    "\n",
    "__Matplotlib__ (https://matplotlib.org/) is a Python 2D plotting library which produces publication quality figures in a variety of hardcopy formats and interactive environments across platforms.\n",
    "\n",
    "\n",
    "We are not going to use NumPy directly, but some of the libraries we are going to use need it to work.\n",
    "\n",
    "We are using Matplotlib to create many kinds of charts and visualize our data. There are many ways to generate a plot with this library but we are going to follow a common step to generate all charts (even if in some cases this is not the best process)."
   ]
  },
  {
   "cell_type": "code",
   "execution_count": 32,
   "metadata": {},
   "outputs": [],
   "source": [
    "# To import these libraries we use these lines\n",
    "import numpy as np\n",
    "import matplotlib.pyplot as plt"
   ]
  },
  {
   "cell_type": "code",
   "execution_count": null,
   "metadata": {},
   "outputs": [],
   "source": [
    "# To create a new figure, we are going to use always the next steps\n",
    "# Note that the method returns 2 values, fig and ax, this can be usually found in python\n",
    "fig, ax = plt.subplots(nrows=2,ncols=2,figsize=(7,5))\n",
    "# The three parameters, nrows, ncols and figsize are optionaly defined\n",
    "# We can define a matrix of subplots by changing the values of nrows and ncols\n",
    "# We can modify the size of the matrix with the arguments of figsize\n",
    "# If we don't specify this parameter, the figure will have the minimum size to fit all the drawings\n",
    "\n",
    "# Here we will define the charts, labels, grid, etc\n",
    "\n",
    "# Finally we should tell matplotlib to show the figure we have defined\n",
    "plt.show(fig)"
   ]
  },
  {
   "cell_type": "code",
   "execution_count": null,
   "metadata": {},
   "outputs": [],
   "source": [
    "# Variable ax is a numpy array with all the subplots that we define\n",
    "# We can access to each subplot by its coordinates\n",
    "ax[0,0] # This is the same as ax[0][0]"
   ]
  },
  {
   "cell_type": "code",
   "execution_count": null,
   "metadata": {},
   "outputs": [],
   "source": [
    "fig, ax = plt.subplots(nrows=2,ncols=2,figsize=(7,5))\n",
    "\n",
    "# Sample function\n",
    "t = np.arange(0.0, 2.0, 0.01)\n",
    "s = 1 + np.sin(2 * np.pi * t)\n",
    "\n",
    "# To plot a line in a certain subplot we can use\n",
    "ax[0,0].plot(t,s) # t are the horizontal values and s the vertical ones\n",
    "ax[1,0].plot(s,'g') # If we define only one series it will be taken as the vertical values\n",
    "# We can define de color of a plot after the values of the line\n",
    "\n",
    "plt.show(fig)"
   ]
  },
  {
   "cell_type": "markdown",
   "metadata": {},
   "source": [
    "## Plots\n",
    "There are a huge number of different plots available in matplotlib, we are going to see the most basic ones\n",
    "https://matplotlib.org/api/axes_api.html#plotting\n",
    "\n",
    "### Line plot\n",
    "https://matplotlib.org/api/_as_gen/matplotlib.axes.Axes.plot.html?highlight=plot#matplotlib.axes.Axes.plot\n",
    "\n",
    "We can define a string after de data to modify the style of the line which will be plotted. This strings are defined in this way ``'[color][marker][line style]``, for example ``'b--'`` is a dashed blue line or ``'ro'`` is a sequence of red circles.\n",
    "\n",
    "There are many options to modify the plot style:\n",
    "\n",
    "**Colors**\n",
    "\n",
    "|character|color  |\n",
    "| --- | --- |\n",
    "|``'b'``  |blue   |\n",
    "|``'g'``  |green  |\n",
    "|``'r'``  |red    |\n",
    "|``'c'``  |cyan   |\n",
    "|``'m'``  |magenta|\n",
    "|``'y'``  |yellow |\n",
    "|``'k'``  |black  |\n",
    "|``'w'``  |white  |\n",
    "\n",
    "**Markers**\n",
    "\n",
    "|character |description |\n",
    "| --- | --- |\n",
    "|``'.'``|point marker         |\n",
    "|``','``|pixel marker         |\n",
    "|``'o'``|circle marker        |\n",
    "|``'v'``|triangle_down marker |\n",
    "|``'^'``|triangle_up marker   |\n",
    "|``'<'``|triangle_left marker |\n",
    "|``'>'``|triangle_right marker|\n",
    "|``'1'``|tri_down marker      |\n",
    "|``'2'``|tri_up marker        |\n",
    "|``'3'``|tri_left marker      |\n",
    "|``'4'``|tri_right marker     |\n",
    "|``'s'``|square marker        |\n",
    "|``'p'``|pentagon marker      |\n",
    "|``'*'``|star marker          |\n",
    "|``'h'``|hexagon1 marker      |\n",
    "|``'H'``|hexagon2 marker      |\n",
    "|``'+'``|plus marker          |\n",
    "|``'x'``|x marker             |\n",
    "|``'D'``|diamond marker       |\n",
    "|``'d'``|thin_diamond marker  |\n",
    "|``'_'``|hline marker         |\n",
    "\n",
    "**Line Styles**   \n",
    "\n",
    "|character|description|\n",
    "| --- | --- |\n",
    "|``'-'`` |solid line style   |\n",
    "|``'--'``|dashed line style  |\n",
    "|``'-.'``|dash-dot line style|\n",
    "|``':'`` |dotted line style  |\n"
   ]
  },
  {
   "cell_type": "code",
   "execution_count": null,
   "metadata": {},
   "outputs": [],
   "source": [
    "fig, ax = plt.subplots(figsize=(7,5))\n",
    "\n",
    "# Plot\n",
    "ax.plot(t,s) \n",
    "ax.plot(t,2*s,'g--') # We can plot several lines in the same chart\n",
    "ax.plot(t,4*s,'r,')\n",
    "\n",
    "plt.show(fig)"
   ]
  },
  {
   "cell_type": "markdown",
   "metadata": {},
   "source": [
    "### Bar plot\n",
    "https://matplotlib.org/api/_as_gen/matplotlib.pyplot.bar.html"
   ]
  },
  {
   "cell_type": "code",
   "execution_count": null,
   "metadata": {},
   "outputs": [],
   "source": [
    "fig, ax = plt.subplots(figsize=(7,5))\n",
    "\n",
    "# Sample data about programing language popularity\n",
    "x = [\"Python\", \"Java\", \"Javascript\", \"C#\", \"PHP\"]\n",
    "y = [25.13,21.98,8.35,7.5,7.36]\n",
    "\n",
    "# Plot\n",
    "ax.bar(x,y) \n",
    "\n",
    "plt.show(fig)"
   ]
  },
  {
   "cell_type": "markdown",
   "metadata": {},
   "source": [
    "### Scatter plot\n",
    "https://matplotlib.org/api/_as_gen/matplotlib.axes.Axes.scatter.html#matplotlib.axes.Axes.scatter"
   ]
  },
  {
   "cell_type": "code",
   "execution_count": null,
   "metadata": {},
   "outputs": [],
   "source": [
    "fig, ax = plt.subplots(figsize=(7,5))\n",
    "\n",
    "# Sample data\n",
    "x = np.arange(0, 10, .1)\n",
    "y = (x+np.random.rand(100))**2\n",
    "\n",
    "# Plot\n",
    "ax.scatter(x,y) \n",
    "ax.scatter(x,-y)\n",
    "\n",
    "plt.show(fig)"
   ]
  },
  {
   "cell_type": "markdown",
   "metadata": {},
   "source": [
    "### Histogram plot\n",
    "https://matplotlib.org/api/_as_gen/matplotlib.pyplot.hist.html#matplotlib.pyplot.hist"
   ]
  },
  {
   "cell_type": "code",
   "execution_count": null,
   "metadata": {
    "scrolled": true
   },
   "outputs": [],
   "source": [
    "fig, ax = plt.subplots(figsize=(7,5))\n",
    "\n",
    "# Sample data\n",
    "marks = [5.9, 7.9, 7.4, 6.2, 5.7, 8.3, 6  , 6.4, 8.1, 7.1, 5.7, 6.8, 6.2, 6.9, 7.2, 6.8, 7.3, 8.3, 5.3, 7.2, 5.8, \n",
    "         5.3, 6.8, 6.9, 5.5, 5.6, 7.7, 8.4, 6.5, 4.4, 6.8, 9.3, 5.7, 9.5, 7.1, 5.9, 8.2, 9  , 6.6, 6.8, 4.9, 6.9, \n",
    "         6.2, 6.8, 9.1, 5.8, 7.3, 4.7, 7.4, 3.1, 8.5, 7.9, 5.8, 7.9, 5.1, 5.2, 7.8, 6.3, 6.5, 5.3, 7.5, 6.8, 6.6, \n",
    "         6.7, 7.8, 7.6, 10 , 5.8, 8.1, 7.8, 8.5, 5.4, 8.1, 3.6, 6  , 8  , 6.1, 4.9, 6.3, 5.2, 7.3, 7  , 6.7, 5.9, \n",
    "         4.2, 5.2, 8.5, 9.2, 7.1, 8.7, 6.6, 8  , 6.9, 5  , 5.9, 8.1, 7  , 8.2, 7.7, 4.2]\n",
    "\n",
    "# Plot\n",
    "ax.hist(marks)\n",
    "\n",
    "plt.show(fig)"
   ]
  },
  {
   "cell_type": "markdown",
   "metadata": {},
   "source": [
    "## Axes modifications and labels\n",
    "\n",
    "If we do not configure anything, matplotlib will generate the axes scales just big enough to fit the data. But in sometimes we may want to define a certain range (eg. if we are plotting exams marks, we may want to plot form 0 to 10 in the horizontal axe) or we may want to use a different precission.\n",
    "\n",
    "In addition, is a good practice to include labels in both axes and a title over the chart"
   ]
  },
  {
   "cell_type": "code",
   "execution_count": null,
   "metadata": {},
   "outputs": [],
   "source": [
    "fig, ax = plt.subplots(figsize=(7,5))\n",
    "\n",
    "ax.hist(marks)\n",
    "\n",
    "# We can specify the ranges of bot axes\n",
    "ax.set_xlim(0, 10)\n",
    "ax.set_ylim(0, 30)\n",
    "\n",
    "# We can also specify the divisions of the axes\n",
    "ax.set_yticks(np.arange(0,32,2))\n",
    "\n",
    "# Activate the grid\n",
    "ax.grid()\n",
    "\n",
    "# Set a title\n",
    "ax.set_title(\"Histogram of last exam's marks\")\n",
    "\n",
    "# Set axes labels\n",
    "ax.set_xlabel(\"Grade\")\n",
    "ax.set_ylabel(\"Number of students\")\n",
    "\n",
    "plt.show(fig)"
   ]
  },
  {
   "cell_type": "markdown",
   "metadata": {},
   "source": [
    "## Exporting images\n",
    "We can export our images to use them anywhere. It is always suggested to use vector formats (like svg or eps) if it is possible."
   ]
  },
  {
   "cell_type": "code",
   "execution_count": null,
   "metadata": {},
   "outputs": [],
   "source": [
    "# We specify the file name and the format\n",
    "# bbox_inches='tight' removes the margins in the image\n",
    "plt.savefig(\"marksHistogram.svg\", format=\"svg\", bbox_inches='tight')"
   ]
  },
  {
   "cell_type": "markdown",
   "metadata": {},
   "source": [
    "## Problems\n",
    "\n",
    "### Problem 1\n",
    "Generate a list of vectors with the method `generate_vectors` that we previously coded. Plot one chart for each vector; each of those charts should be a bar chart with the distances to the other vectors (tip: use the method `distance_matrix`)"
   ]
  },
  {
   "cell_type": "code",
   "execution_count": null,
   "metadata": {},
   "outputs": [],
   "source": [
    "vectors = generate_vectors(2,3)\n",
    "distances = distance_matrix(vectors)\n",
    "x=[]\n",
    "y=[]\n",
    "for i in range(len(distances)):\n",
    "    x.append(\"v\"+str[i])\n",
    "    p=[]\n",
    "    for j in range(len(distances)):\n",
    "        p.append(distances[i][j])\n",
    "    y.append(y)\n",
    "\n",
    "fig=[]\n",
    "for k in range(len(y)):\n",
    "    fig, ax = plt.subplots(figsize=(7,len(y)))   \n",
    "    ax.bar(x,y[k]) \n",
    "\n",
    "plt.show(fig)\n",
    "\n",
    "\n",
    "        \n"
   ]
  },
  {
   "cell_type": "markdown",
   "metadata": {},
   "source": [
    "### Problem 2\n",
    "Combine two kinds of charts (line, bars, scatter, etc) in one plot"
   ]
  },
  {
   "cell_type": "code",
   "execution_count": null,
   "metadata": {},
   "outputs": [],
   "source": [
    "fig, ax = plt.subplots(figsize=(7,5))\n",
    "\n",
    "# Sample data\n",
    "x = np.arange(0, 10, .1)\n",
    "y = (x+np.random.rand(100)-.5)**2\n",
    "\n",
    "# Plot\n",
    "ax.scatter(x,y) \n",
    "ax.plot(x,x**2,'r')\n",
    "\n",
    "plt.show(fig)"
   ]
  },
  {
   "cell_type": "markdown",
   "metadata": {},
   "source": [
    "___\n",
    "# Pandas\n",
    "## Python Data Analysis Library\n",
    "pandas is an open source, BSD-licensed library providing high-performance, easy-to-use data structures and data analysis tools for the Python programming language.\n",
    "https://pandas.pydata.org/\n",
    "\n",
    "The basic data structure of Pandas is the dataframe. A dataframe is a collection of tabulated data, similar to a SQL table. Dataframes must always have an index column.\n",
    "\n",
    "The introductory guide of pandas covers more contents than those which we are going to use in this case, but it is recommended to give a quick view to it: https://pandas.pydata.org/pandas-docs/version/0.23.4/10min.html"
   ]
  },
  {
   "cell_type": "code",
   "execution_count": null,
   "metadata": {},
   "outputs": [],
   "source": [
    "import pandas as pd"
   ]
  },
  {
   "cell_type": "markdown",
   "metadata": {
    "collapsed": true
   },
   "source": [
    "### Load data\n",
    "We can load data into dataframes from different sources\n",
    "https://pandas.pydata.org/pandas-docs/stable/io.html"
   ]
  },
  {
   "cell_type": "code",
   "execution_count": null,
   "metadata": {},
   "outputs": [],
   "source": [
    "# The path of the file starts in the same directory of the notebook\n",
    "researchers = pd.read_csv(\"researchers.csv\")\n",
    "publications = pd.read_json(\"publications.json\")"
   ]
  },
  {
   "cell_type": "markdown",
   "metadata": {
    "collapsed": true
   },
   "source": [
    "### Index\n",
    "By default the index of a dataframe is a column with incrementing integers. "
   ]
  },
  {
   "cell_type": "code",
   "execution_count": null,
   "metadata": {},
   "outputs": [],
   "source": [
    "# Accessing the rows with index within the specified range\n",
    "researchers[1:3]"
   ]
  },
  {
   "cell_type": "code",
   "execution_count": null,
   "metadata": {},
   "outputs": [],
   "source": [
    "# To get a single row we must use the method iloc\n",
    "researchers.iloc[1]"
   ]
  },
  {
   "cell_type": "code",
   "execution_count": null,
   "metadata": {},
   "outputs": [],
   "source": [
    "# Getting the index column as a list\n",
    "researchers.index"
   ]
  },
  {
   "cell_type": "markdown",
   "metadata": {
    "collapsed": true
   },
   "source": [
    "### Describe data\n",
    "When we evaluate a dataframe, pandas will show a table with it contents. If there are many rows, it only shows the beginning and the end."
   ]
  },
  {
   "cell_type": "code",
   "execution_count": null,
   "metadata": {},
   "outputs": [],
   "source": [
    "researchers"
   ]
  },
  {
   "cell_type": "markdown",
   "metadata": {},
   "source": [
    "We can use the method describe to know more about one column or the whole dataset. If the column has numerical values it will calculate some statistical measures like the average, the count, max or min. In the other hand, if the values are strings it will count the unique values and return the most repeated one."
   ]
  },
  {
   "cell_type": "code",
   "execution_count": null,
   "metadata": {},
   "outputs": [],
   "source": [
    "publications.describe()"
   ]
  },
  {
   "cell_type": "code",
   "execution_count": null,
   "metadata": {},
   "outputs": [],
   "source": [
    "researchers[\"name\"].describe()"
   ]
  },
  {
   "cell_type": "code",
   "execution_count": null,
   "metadata": {},
   "outputs": [],
   "source": [
    "# List columns and their types\n",
    "researchers.dtypes"
   ]
  },
  {
   "cell_type": "markdown",
   "metadata": {},
   "source": [
    "### Searching data\n",
    "We will need to get the rows that matches some conditions, we will do that with the loc function"
   ]
  },
  {
   "cell_type": "code",
   "execution_count": null,
   "metadata": {},
   "outputs": [],
   "source": [
    "# Searching all researchers with less than 2 publications\n",
    "researchers.loc[researchers[\"document-count\"]<2]"
   ]
  },
  {
   "cell_type": "code",
   "execution_count": null,
   "metadata": {},
   "outputs": [],
   "source": [
    "# Searching for a researcher whom name contains the string 'Ruiz'\n",
    "researchers.loc[researchers[\"name\"].str.contains(\"Ruiz\")]"
   ]
  },
  {
   "cell_type": "markdown",
   "metadata": {
    "collapsed": true
   },
   "source": [
    "### Access to data column\n",
    "We can retrieve the columns data as if the dataframe was a dictionary"
   ]
  },
  {
   "cell_type": "code",
   "execution_count": null,
   "metadata": {},
   "outputs": [],
   "source": [
    "# Get a single column\n",
    "researchers[\"eid\"]"
   ]
  },
  {
   "cell_type": "code",
   "execution_count": null,
   "metadata": {},
   "outputs": [],
   "source": [
    "# Get multiple columns (this returns a dataframe with the selected columns)\n",
    "researchers[[\"name\",\"eid\"]]"
   ]
  },
  {
   "cell_type": "code",
   "execution_count": null,
   "metadata": {},
   "outputs": [],
   "source": [
    "# Get unique values from a column\n",
    "researchers[\"document-count\"].unique()"
   ]
  },
  {
   "cell_type": "markdown",
   "metadata": {},
   "source": [
    "### Modifing data in a column"
   ]
  },
  {
   "cell_type": "code",
   "execution_count": null,
   "metadata": {},
   "outputs": [],
   "source": [
    "# We can apply a method to each value in a column\n",
    "def sum_two(x):\n",
    "    return x+2\n",
    "print(\"Original\")\n",
    "print(researchers[\"document-count\"])\n",
    "print(\"Modified\")\n",
    "# Apply and the name of the method we want to execute over each value\n",
    "print(researchers[\"document-count\"].apply(sum_two))"
   ]
  },
  {
   "cell_type": "code",
   "execution_count": null,
   "metadata": {},
   "outputs": [],
   "source": [
    "# ADVANCED\n",
    "# We can do the same by using lambdas\n",
    "print(researchers[\"document-count\"].apply(lambda x: x+2))"
   ]
  },
  {
   "cell_type": "markdown",
   "metadata": {},
   "source": [
    "### Creating new columns"
   ]
  },
  {
   "cell_type": "code",
   "execution_count": null,
   "metadata": {},
   "outputs": [],
   "source": [
    "researchers[\"newDocumentCount\"] = researchers[\"document-count\"].apply(sum_two)"
   ]
  },
  {
   "cell_type": "markdown",
   "metadata": {
    "collapsed": true
   },
   "source": [
    "### Group by\n",
    "We can execute group by orders similar to SQL.\n",
    "\n",
    "http://pandas.pydata.org/pandas-docs/stable/groupby.html"
   ]
  },
  {
   "cell_type": "code",
   "execution_count": null,
   "metadata": {},
   "outputs": [],
   "source": [
    "# Group by publication name and counting the number of values for each column\n",
    "publications.groupby(publications[\"publicationName\"]).count()\n",
    "# There are many predefined aggregating functions like: first,last, median, sum, avg, max, min, etc"
   ]
  },
  {
   "cell_type": "markdown",
   "metadata": {
    "collapsed": true
   },
   "source": [
    "### Join dataframes\n",
    "There are methods to perform joins of two or more dataframes, but these methods can be difficult to understand. In these workshops we are goint to perform only one merge, and the code to do it wil be provided.\n",
    "\n",
    "Just for curisosity the guide of all join types can be glanced thorugh: http://pandas.pydata.org/pandas-docs/stable/merging.html#merging-join"
   ]
  },
  {
   "cell_type": "code",
   "execution_count": null,
   "metadata": {
    "scrolled": false
   },
   "outputs": [],
   "source": [
    "# This join will creates a new dataframe wich contains one row for each researcher and each publication of that researcher\n",
    "# Including those publications in which is not the first author\n",
    "\n",
    "# Create a row for each author of each publication\n",
    "publications_expanded = publications.authors.apply(pd.Series) \\\n",
    "    .merge(publications, right_index = True, left_index = True) \\\n",
    "    .melt(id_vars = publications.columns, value_name = \"researcher_id\") \\\n",
    "    .dropna(subset=[\"researcher_id\"])\n",
    "\n",
    "# Change the type of the index to int\n",
    "publications_expanded[\"researcher_id\"] = publications_expanded[\"researcher_id\"].astype(\"int64\")\n",
    "\n",
    "# Merge both dataframes\n",
    "data = pd.merge(researchers, publications_expanded, on=\"researcher_id\")\n",
    "\n",
    "data"
   ]
  },
  {
   "cell_type": "markdown",
   "metadata": {
    "collapsed": true
   },
   "source": [
    "### Plotting"
   ]
  },
  {
   "cell_type": "code",
   "execution_count": null,
   "metadata": {
    "scrolled": false
   },
   "outputs": [],
   "source": [
    "fig, ax = plt.subplots(figsize=(7,5))\n",
    "# We just need to specify the column we want to plot\n",
    "ax.hist(researchers['document-count'])\n",
    "plt.show(fig)"
   ]
  },
  {
   "cell_type": "markdown",
   "metadata": {},
   "source": [
    "Dataframes has a plot method which internally uses matplotlib, in some cases we can just call `myData.plot()` or `myData.plot.[plot type]()` https://pandas.pydata.org/pandas-docs/stable/visualization.html.\n",
    "\n",
    "Try to use some of those plots"
   ]
  },
  {
   "cell_type": "code",
   "execution_count": null,
   "metadata": {},
   "outputs": [],
   "source": [
    "publications.groupby(publications['type'])[\"title\"].count().plot.bar()"
   ]
  },
  {
   "cell_type": "markdown",
   "metadata": {},
   "source": [
    "### Save data\n",
    "Saving a dataframe is quite similar to load data, we will use the methods ``dataframe.to_csv(filename)`` or ``dataframe.to_json(filename)``"
   ]
  },
  {
   "cell_type": "code",
   "execution_count": null,
   "metadata": {},
   "outputs": [],
   "source": [
    "researchers.to_json(\"researchers2.json\")"
   ]
  },
  {
   "cell_type": "markdown",
   "metadata": {},
   "source": [
    "## Problems\n",
    "### Problem 1\n",
    "Calculate the number of publications and researchers"
   ]
  },
  {
   "cell_type": "code",
   "execution_count": null,
   "metadata": {},
   "outputs": [],
   "source": [
    "print(\"There are \"+ str(len(publications)) + \" publications\")\n",
    "print(\"There are \"+ str(len(researchers)) + \" researchers\")"
   ]
  },
  {
   "cell_type": "markdown",
   "metadata": {},
   "source": [
    "### Problem 2\n",
    "Count the number of different authors that appear in the publications dataframe"
   ]
  },
  {
   "cell_type": "code",
   "execution_count": null,
   "metadata": {},
   "outputs": [],
   "source": [
    "print(\"There are \"+ str(len(data.researcher_id.unique())) + \" authors\")"
   ]
  },
  {
   "cell_type": "markdown",
   "metadata": {},
   "source": [
    "### Problem 3\n",
    "Plot the top30 publications with more citations (tip: you can use the method `sort_values` https://pandas.pydata.org/pandas-docs/stable/generated/pandas.DataFrame.sort_values.html)"
   ]
  },
  {
   "cell_type": "code",
   "execution_count": null,
   "metadata": {},
   "outputs": [],
   "source": [
    "publications.sort_values(\"citations\", ascending = True)[:30]"
   ]
  },
  {
   "cell_type": "markdown",
   "metadata": {},
   "source": [
    "### Problem 4\n",
    "Calculate the number of publications of any kind of each researcher by counting their publications. Then, calculate the number of article type publications of each researcher."
   ]
  },
  {
   "cell_type": "code",
   "execution_count": null,
   "metadata": {},
   "outputs": [],
   "source": [
    "data.groupby(\"researcher_id\")[\"researcher_id\"].count()"
   ]
  },
  {
   "cell_type": "code",
   "execution_count": null,
   "metadata": {},
   "outputs": [],
   "source": [
    "data[data.type==\"Article\"].groupby(\"researcher_id\")[\"researcher_id\"].count()"
   ]
  },
  {
   "cell_type": "code",
   "execution_count": null,
   "metadata": {},
   "outputs": [],
   "source": []
  }
 ],
 "metadata": {
  "celltoolbar": "Raw Cell Format",
  "kernelspec": {
   "display_name": "Python 3",
   "language": "python",
   "name": "python3"
  },
  "language_info": {
   "codemirror_mode": {
    "name": "ipython",
    "version": 3
   },
   "file_extension": ".py",
   "mimetype": "text/x-python",
   "name": "python",
   "nbconvert_exporter": "python",
   "pygments_lexer": "ipython3",
   "version": "3.7.5"
  }
 },
 "nbformat": 4,
 "nbformat_minor": 2
}
