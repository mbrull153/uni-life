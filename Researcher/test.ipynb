{
 "cells": [
  {
   "cell_type": "markdown",
   "metadata": {},
   "source": [
    "# Python\n",
    "Python is a general propose programing language. In these workshops we will use Python 3.6. Python is an interpreted language as JavaScript and in opposition to Java or C which need to be compiled to run; this implies that some of the errors detected during the source compilation will not be noticed and will generate exceptions during execution.\n",
    "\n",
    "In this notebook we are going to see some very basic examples of how to use Python and some of its libraries, to get a detailed view of the language check https://docs.python.org/3/tutorial/\n",
    "\n",
    "## Variables and types\n",
    "Python is a strongly typed language. Python has 4 basic types: integer number `int`, decimal numbers `float`, booleans `bool` and text strings `str`. When we define a variable, we will not specify the type."
   ]
  },
  {
   "cell_type": "code",
   "execution_count": 1,
   "metadata": {},
   "outputs": [
    {
     "name": "stdout",
     "output_type": "stream",
     "text": [
      "Hello World!\n"
     ]
    }
   ],
   "source": [
    "# This is a comment\n",
    "# Comments starts with the character #\n",
    "\n",
    "# This frame is a cell which can be executed individually. To execute a cell press Ctrl+Enter\n",
    "\n",
    "print(\"Hello World!\")"
   ]
  },
  {
   "cell_type": "code",
   "execution_count": 2,
   "metadata": {},
   "outputs": [],
   "source": [
    "# An integer\n",
    "myInt = 10\n",
    "\n",
    "# A float value\n",
    "myFloat = 3.14\n",
    "\n",
    "# A boolean\n",
    "myBool = True\n",
    "\n",
    "# A string, you can use simple quotes ' or double quotes \"\n",
    "myStr = \"example1\"\n",
    "myStr2 = 'example2'\n"
   ]
  },
  {
   "cell_type": "markdown",
   "metadata": {},
   "source": [
    "To write in the standard output, in other words to print something, we will use the function `print()`"
   ]
  },
  {
   "cell_type": "code",
   "execution_count": 3,
   "metadata": {},
   "outputs": [
    {
     "name": "stdout",
     "output_type": "stream",
     "text": [
      "10\n",
      "3.14\n",
      "True\n",
      "example1\n",
      "example2\n",
      "example1 10\n"
     ]
    }
   ],
   "source": [
    "print(myInt)\n",
    "print(myFloat)\n",
    "print(myBool)\n",
    "print(myStr)\n",
    "print(myStr2)\n",
    "\n",
    "# As Python is strongly typed variables will not change its type automatically, so, for example, if we want to concatenate\n",
    "# an int with an str, we have to convert the int into a str first\n",
    "print(myStr + \" \" + str(myInt))"
   ]
  },
  {
   "cell_type": "markdown",
   "metadata": {},
   "source": [
    "## Basic operations"
   ]
  },
  {
   "cell_type": "code",
   "execution_count": 4,
   "metadata": {},
   "outputs": [
    {
     "name": "stdout",
     "output_type": "stream",
     "text": [
      "8\n",
      "-2\n",
      "15\n",
      "0.6\n",
      "243\n"
     ]
    }
   ],
   "source": [
    "# Add\n",
    "print(3 + 5)\n",
    "\n",
    "# Subtract\n",
    "print(3 - 5)\n",
    "\n",
    "# Multiply\n",
    "print(3 * 5)\n",
    "\n",
    "# Divide\n",
    "print(3 / 5)\n",
    "\n",
    "# Power \n",
    "print(3 ** 5)"
   ]
  },
  {
   "cell_type": "markdown",
   "metadata": {},
   "source": [
    "## Lists"
   ]
  },
  {
   "cell_type": "code",
   "execution_count": 5,
   "metadata": {},
   "outputs": [
    {
     "name": "stdout",
     "output_type": "stream",
     "text": [
      "1\n",
      "APSV\n",
      "[1, 2]\n",
      "[3, True]\n",
      "[1, 2]\n",
      "[3, True, 'APSV']\n"
     ]
    }
   ],
   "source": [
    "myList = [1, 2, 3, True, \"APSV\"]\n",
    "\n",
    "# Access an element in certain position\n",
    "print(myList[0])\n",
    "\n",
    "# We can access elements at the end by using negative index. -1 is the last value, -2 the previous one, etc\n",
    "print(myList[-1])\n",
    "\n",
    "# We can obtain a sublist using this syntax myList[start:end]\n",
    "# If start is not specified the beginning of the list will be used, analogously with end and the end of the list\n",
    "print(myList[0:2])\n",
    "print(myList[-3:-1])\n",
    "print(myList[:2])\n",
    "print(myList[2:])"
   ]
  },
  {
   "cell_type": "code",
   "execution_count": 6,
   "metadata": {},
   "outputs": [
    {
     "name": "stdout",
     "output_type": "stream",
     "text": [
      "[4, 2, 3, True, 'APSV']\n",
      "[4, 2, 3, True, 'APSV', 'CRIS']\n",
      "[4, 23, 2, 3, True, 'APSV', 'CRIS']\n",
      "[4, 23, 2, 3, True, 'APSV']\n",
      "[4, 2, 3, True, 'APSV']\n",
      "[4, 2, True, 'APSV']\n",
      "4\n"
     ]
    }
   ],
   "source": [
    "# To modify a value\n",
    "myList[0] = 4\n",
    "print(myList)\n",
    "\n",
    "# To add elements at the end of the list\n",
    "myList.append(\"CRIS\")\n",
    "print(myList)\n",
    "\n",
    "# To add elements in a certain position\n",
    "myList.insert(1,23)\n",
    "print(myList)\n",
    "\n",
    "# To remove the last element\n",
    "lastElement = myList.pop()\n",
    "print(myList)\n",
    "\n",
    "# To remove a certain element\n",
    "del(myList[1])\n",
    "print(myList)\n",
    "\n",
    "# To remove an element by value\n",
    "myList.remove(3)\n",
    "print(myList)\n",
    "\n",
    "# To obtain the length of any collection\n",
    "print(len(myList))"
   ]
  },
  {
   "cell_type": "markdown",
   "metadata": {},
   "source": [
    "## Dictionaries\n",
    "Dictionaries are collections of key-value pairs. These collections can be accessed like a list but using the keys instead of the indexes.\n",
    "\n",
    "The values can have different types, even is common to have dictionaries inside dictionaries (eg. to work with a json)."
   ]
  },
  {
   "cell_type": "code",
   "execution_count": 7,
   "metadata": {},
   "outputs": [
    {
     "name": "stdout",
     "output_type": "stream",
     "text": [
      "{'key': 'value', 'APSV': 23, 'arr': [1, 2, 3]}\n",
      "[1, 2, 3]\n"
     ]
    }
   ],
   "source": [
    "# Dictionaries are marked with {} characters\n",
    "# The syntax to set a key-value pair is \"key\": \"value\"\n",
    "myDict = { \"key\": \"value\", \"APSV\": 23, \"arr\" : [1,2,3] }\n",
    "print(myDict)\n",
    "\n",
    "# Access by key\n",
    "print(myDict[\"arr\"])"
   ]
  },
  {
   "cell_type": "markdown",
   "metadata": {},
   "source": [
    "## Boolean operations"
   ]
  },
  {
   "cell_type": "code",
   "execution_count": 8,
   "metadata": {},
   "outputs": [
    {
     "name": "stdout",
     "output_type": "stream",
     "text": [
      "False\n",
      "True\n",
      "False\n",
      "True\n"
     ]
    }
   ],
   "source": [
    "# AND\n",
    "print(myInt <5 and myBool)\n",
    "\n",
    "# OR\n",
    "print(myInt >5 or myBool)\n",
    "\n",
    "# Negate\n",
    "print(not myBool)\n",
    "\n",
    "# Check element in list\n",
    "print(4 in myList)"
   ]
  },
  {
   "cell_type": "markdown",
   "metadata": {},
   "source": [
    "## Flow control\n",
    "In Python, code blocks are defined by their indentation level in opposition of other languages which surrounds the blocks with `{}`."
   ]
  },
  {
   "cell_type": "code",
   "execution_count": 9,
   "metadata": {},
   "outputs": [
    {
     "name": "stdout",
     "output_type": "stream",
     "text": [
      "myInt is greater than 5\n"
     ]
    }
   ],
   "source": [
    "# Conditional\n",
    "if myInt > 5:\n",
    "    print(\"myInt is greater than 5\")"
   ]
  },
  {
   "cell_type": "code",
   "execution_count": 10,
   "metadata": {},
   "outputs": [
    {
     "name": "stdout",
     "output_type": "stream",
     "text": [
      "myInt is greater than 5\n"
     ]
    }
   ],
   "source": [
    "# Conditional with else\n",
    "if myInt < 5:\n",
    "    print(\"myInt is less than 5\")\n",
    "else:\n",
    "    print(\"myInt is greater than 5\")"
   ]
  },
  {
   "cell_type": "code",
   "execution_count": 11,
   "metadata": {},
   "outputs": [
    {
     "name": "stdout",
     "output_type": "stream",
     "text": [
      "myInt is less than 15\n"
     ]
    }
   ],
   "source": [
    "# Nested conditionals\n",
    "if myInt < 5:\n",
    "    print(\"myInt is less than 5\")\n",
    "elif myInt < 15:\n",
    "    print(\"myInt is less than 15\")\n",
    "else:\n",
    "    print(\"myInt is greater than 15\")"
   ]
  },
  {
   "cell_type": "code",
   "execution_count": 12,
   "metadata": {},
   "outputs": [
    {
     "name": "stdout",
     "output_type": "stream",
     "text": [
      "4\n",
      "2\n",
      "True\n",
      "APSV\n"
     ]
    }
   ],
   "source": [
    "# For loop to iterate over list elements\n",
    "for i in myList:\n",
    "    print(i)"
   ]
  },
  {
   "cell_type": "code",
   "execution_count": 13,
   "metadata": {},
   "outputs": [
    {
     "name": "stdout",
     "output_type": "stream",
     "text": [
      "0 - 4\n",
      "1 - 2\n",
      "2 - True\n",
      "3 - APSV\n"
     ]
    }
   ],
   "source": [
    "# For loop to iterate over values in a range\n",
    "for i in range(len(myList)):\n",
    "    print(str(i) + \" - \" + str(myList[i]))"
   ]
  },
  {
   "cell_type": "code",
   "execution_count": 14,
   "metadata": {},
   "outputs": [
    {
     "name": "stdout",
     "output_type": "stream",
     "text": [
      "0\n",
      "1\n",
      "2\n",
      "3\n",
      "4\n",
      "5\n",
      "6\n",
      "7\n",
      "8\n",
      "9\n"
     ]
    }
   ],
   "source": [
    "# While loop\n",
    "a = 0\n",
    "while a < 10:\n",
    "    print(a)\n",
    "    a += 1"
   ]
  },
  {
   "cell_type": "code",
   "execution_count": 15,
   "metadata": {},
   "outputs": [
    {
     "name": "stdout",
     "output_type": "stream",
     "text": [
      "1 is odd\n",
      "3 is odd\n",
      "5 is odd\n",
      "7 is odd\n",
      "9 is odd\n"
     ]
    }
   ],
   "source": [
    "# Break and continue\n",
    "a = 0\n",
    "while True:\n",
    "    a += 1\n",
    "    if a > 10:\n",
    "        break\n",
    "    if a % 2 == 0:\n",
    "        continue\n",
    "    print(a, \"is odd\")"
   ]
  },
  {
   "cell_type": "markdown",
   "metadata": {},
   "source": [
    "# Methods\n",
    "To define a method in python we will use the following syntax `def methodName(arg1, arg2 = \"default value\", arg3)`."
   ]
  },
  {
   "cell_type": "code",
   "execution_count": 16,
   "metadata": {},
   "outputs": [
    {
     "name": "stdout",
     "output_type": "stream",
     "text": [
      "5\n",
      "3\n"
     ]
    }
   ],
   "source": [
    "def sumValues(a, b=1):\n",
    "    return a + b\n",
    "\n",
    "print(sumValues(2,3))\n",
    "print(sumValues(2))"
   ]
  },
  {
   "cell_type": "markdown",
   "metadata": {},
   "source": [
    "## Import modules\n",
    "In Python external dependencies are usually called modules, to import them we will use `import moduleName`\n",
    "\n",
    "If you are interested in know more about Python or and additional modules you may need to install them, to do that Python have a command named `pip` to install external libraries (similar to `npm` in Javascript) that you can run in a terminal.\n",
    "\n",
    "`pip install [name of library]`"
   ]
  },
  {
   "cell_type": "code",
   "execution_count": 17,
   "metadata": {
    "scrolled": true
   },
   "outputs": [
    {
     "name": "stdout",
     "output_type": "stream",
     "text": [
      "1.4142135623730951\n",
      "0.07025855160859495\n"
     ]
    }
   ],
   "source": [
    "import math\n",
    "print(math.sqrt(2))\n",
    "import random\n",
    "print(random.random())"
   ]
  },
  {
   "cell_type": "markdown",
   "metadata": {},
   "source": [
    "## Errors\n",
    "Until now, all the code that we have executed have run correctly, but when we do more complex things, we can get execution errors. Now we are going to run code with errors to see what kind of errors can we found and how they look"
   ]
  },
  {
   "cell_type": "code",
   "execution_count": 18,
   "metadata": {},
   "outputs": [
    {
     "ename": "NameError",
     "evalue": "name 'var33' is not defined",
     "output_type": "error",
     "traceback": [
      "\u001b[0;31m---------------------------------------------------------------------------\u001b[0m",
      "\u001b[0;31mNameError\u001b[0m                                 Traceback (most recent call last)",
      "\u001b[0;32m<ipython-input-18-77ca63c450d1>\u001b[0m in \u001b[0;36m<module>\u001b[0;34m\u001b[0m\n\u001b[1;32m      1\u001b[0m \u001b[0;31m# Name error\u001b[0m\u001b[0;34m\u001b[0m\u001b[0;34m\u001b[0m\u001b[0;34m\u001b[0m\u001b[0m\n\u001b[1;32m      2\u001b[0m \u001b[0;31m# This error is usually caused by syntax errors\u001b[0m\u001b[0;34m\u001b[0m\u001b[0;34m\u001b[0m\u001b[0;34m\u001b[0m\u001b[0m\n\u001b[0;32m----> 3\u001b[0;31m \u001b[0mprint\u001b[0m\u001b[0;34m(\u001b[0m\u001b[0mvar33\u001b[0m\u001b[0;34m)\u001b[0m\u001b[0;34m\u001b[0m\u001b[0;34m\u001b[0m\u001b[0m\n\u001b[0m",
      "\u001b[0;31mNameError\u001b[0m: name 'var33' is not defined"
     ]
    }
   ],
   "source": [
    "# Name error\n",
    "# This error is usually caused by syntax errors\n",
    "print(var33)"
   ]
  },
  {
   "cell_type": "code",
   "execution_count": 19,
   "metadata": {
    "scrolled": true
   },
   "outputs": [
    {
     "ename": "TypeError",
     "evalue": "can only concatenate str (not \"int\") to str",
     "output_type": "error",
     "traceback": [
      "\u001b[0;31m---------------------------------------------------------------------------\u001b[0m",
      "\u001b[0;31mTypeError\u001b[0m                                 Traceback (most recent call last)",
      "\u001b[0;32m<ipython-input-19-92793966c4e9>\u001b[0m in \u001b[0;36m<module>\u001b[0;34m\u001b[0m\n\u001b[1;32m      1\u001b[0m \u001b[0;31m# Syntax error\u001b[0m\u001b[0;34m\u001b[0m\u001b[0;34m\u001b[0m\u001b[0;34m\u001b[0m\u001b[0m\n\u001b[1;32m      2\u001b[0m \u001b[0;31m# Usually related with the variable types\u001b[0m\u001b[0;34m\u001b[0m\u001b[0;34m\u001b[0m\u001b[0;34m\u001b[0m\u001b[0m\n\u001b[0;32m----> 3\u001b[0;31m \u001b[0mprint\u001b[0m\u001b[0;34m(\u001b[0m\u001b[0;34m\"hello \"\u001b[0m \u001b[0;34m+\u001b[0m \u001b[0;36m3\u001b[0m\u001b[0;34m)\u001b[0m\u001b[0;34m\u001b[0m\u001b[0;34m\u001b[0m\u001b[0m\n\u001b[0m",
      "\u001b[0;31mTypeError\u001b[0m: can only concatenate str (not \"int\") to str"
     ]
    }
   ],
   "source": [
    "# Syntax error\n",
    "# Usually related with the variable types\n",
    "print(\"hello \" + 3)"
   ]
  },
  {
   "cell_type": "code",
   "execution_count": 20,
   "metadata": {},
   "outputs": [
    {
     "ename": "ZeroDivisionError",
     "evalue": "division by zero",
     "output_type": "error",
     "traceback": [
      "\u001b[0;31m---------------------------------------------------------------------------\u001b[0m",
      "\u001b[0;31mZeroDivisionError\u001b[0m                         Traceback (most recent call last)",
      "\u001b[0;32m<ipython-input-20-37dfd9aa2dff>\u001b[0m in \u001b[0;36m<module>\u001b[0;34m\u001b[0m\n\u001b[1;32m      1\u001b[0m \u001b[0;31m# ZeroDivisionError\u001b[0m\u001b[0;34m\u001b[0m\u001b[0;34m\u001b[0m\u001b[0;34m\u001b[0m\u001b[0m\n\u001b[0;32m----> 2\u001b[0;31m \u001b[0mprint\u001b[0m\u001b[0;34m(\u001b[0m\u001b[0;36m1\u001b[0m \u001b[0;34m/\u001b[0m \u001b[0;36m0\u001b[0m\u001b[0;34m)\u001b[0m\u001b[0;34m\u001b[0m\u001b[0;34m\u001b[0m\u001b[0m\n\u001b[0m",
      "\u001b[0;31mZeroDivisionError\u001b[0m: division by zero"
     ]
    }
   ],
   "source": [
    "# ZeroDivisionError\n",
    "print(1 / 0)"
   ]
  },
  {
   "cell_type": "code",
   "execution_count": 21,
   "metadata": {},
   "outputs": [
    {
     "ename": "IndexError",
     "evalue": "list index out of range",
     "output_type": "error",
     "traceback": [
      "\u001b[0;31m---------------------------------------------------------------------------\u001b[0m",
      "\u001b[0;31mIndexError\u001b[0m                                Traceback (most recent call last)",
      "\u001b[0;32m<ipython-input-21-1c63dbb38530>\u001b[0m in \u001b[0;36m<module>\u001b[0;34m\u001b[0m\n\u001b[1;32m      2\u001b[0m \u001b[0;31m# This happens when we try to access to a index out of bounds or an undefined index\u001b[0m\u001b[0;34m\u001b[0m\u001b[0;34m\u001b[0m\u001b[0;34m\u001b[0m\u001b[0m\n\u001b[1;32m      3\u001b[0m \u001b[0ma\u001b[0m \u001b[0;34m=\u001b[0m \u001b[0;34m[\u001b[0m\u001b[0;36m1\u001b[0m\u001b[0;34m,\u001b[0m \u001b[0;36m2\u001b[0m\u001b[0;34m]\u001b[0m\u001b[0;34m\u001b[0m\u001b[0;34m\u001b[0m\u001b[0m\n\u001b[0;32m----> 4\u001b[0;31m \u001b[0mprint\u001b[0m\u001b[0;34m(\u001b[0m\u001b[0ma\u001b[0m\u001b[0;34m[\u001b[0m\u001b[0;36m4\u001b[0m\u001b[0;34m]\u001b[0m\u001b[0;34m)\u001b[0m\u001b[0;34m\u001b[0m\u001b[0;34m\u001b[0m\u001b[0m\n\u001b[0m",
      "\u001b[0;31mIndexError\u001b[0m: list index out of range"
     ]
    }
   ],
   "source": [
    "# IndexError\n",
    "# This happens when we try to access to a index out of bounds or an undefined index\n",
    "a = [1, 2]\n",
    "print(a[4])"
   ]
  },
  {
   "cell_type": "markdown",
   "metadata": {},
   "source": [
    "## Classes\n",
    "As Java and other object oriented languages, Python can use classes. These classes can be instantiated to create object of that class.\n",
    "\n",
    "https://docs.python.org/3/tutorial/classes.html"
   ]
  },
  {
   "cell_type": "code",
   "execution_count": 22,
   "metadata": {},
   "outputs": [
    {
     "name": "stdout",
     "output_type": "stream",
     "text": [
      "1 2\n",
      "2.23606797749979\n"
     ]
    }
   ],
   "source": [
    "class Complex:\n",
    "    # The __init__ method is the constructor of the class\n",
    "    def __init__(self, realpart, imagpart):\n",
    "        self.r = realpart\n",
    "        self.i = imagpart\n",
    "    # All methods should declare first a parameter named self, which is the object itself\n",
    "    def mod(self):\n",
    "        return math.sqrt(self.r**2+self.i**2)\n",
    "\n",
    "c = Complex(1,2)\n",
    "print(c.r,c.i)\n",
    "print(c.mod())"
   ]
  },
  {
   "cell_type": "markdown",
   "metadata": {},
   "source": [
    "## Problems\n",
    "### Problem 1\n",
    "Design a method to calculate the cosine distance between two lists of floats ``x`` and ``y``. The cosine distance or cosine similarity is a measure of the angle between two vectors https://en.wikipedia.org/wiki/Cosine_similarity.\n",
    "\n",
    "$D =\\cos(\\theta) = {\\mathbf{A} \\cdot \\mathbf{B} \\over \\|\\mathbf{A}\\| \\|\\mathbf{B}\\|} = \\frac{ \\sum\\limits_{i=1}^{n}{A_i  B_i} }{ \\sqrt{\\sum\\limits_{i=1}^{n}{A_i^2}}  \\sqrt{\\sum\\limits_{i=1}^{n}{B_i^2}} } $"
   ]
  },
  {
   "cell_type": "code",
   "execution_count": 24,
   "metadata": {},
   "outputs": [],
   "source": [
    "import math\n",
    "\n",
    "def cos_distance( x, y ):\n",
    "    ab = 0\n",
    "    a2 = 0\n",
    "    b2 = 0\n",
    "    \n",
    "    for i in range(len(x)):\n",
    "        ab += x[i]*y[i]\n",
    "        a2 += x[i]*x[i]\n",
    "        b2 += y[i]*y[i]\n",
    "        \n",
    "    return ab /(math.sqrt(a2)*math.sqrt(b2))"
   ]
  },
  {
   "cell_type": "code",
   "execution_count": 25,
   "metadata": {},
   "outputs": [
    {
     "name": "stdout",
     "output_type": "stream",
     "text": [
      "0.7142857142857143\n"
     ]
    }
   ],
   "source": [
    "# Try it\n",
    "print(cos_distance([1,2,3], [3,2,1]))"
   ]
  },
  {
   "cell_type": "markdown",
   "metadata": {},
   "source": [
    "### Problem 2\n",
    "Design a method that creates a dictionary with ``n`` vectors identified with keys ``v1, v2, ... vn``. The vectors should have dimension ``m`` and their components should be random numbers between 0 and 10 (these numbers can be generated with ``random.random()*10``)"
   ]
  },
  {
   "cell_type": "code",
   "execution_count": 26,
   "metadata": {},
   "outputs": [],
   "source": [
    "import random\n",
    "\n",
    "def generate_vectors( n, m ):\n",
    "    vectors = {}\n",
    "    for i in range(n):\n",
    "        vec = []\n",
    "        for j in range(m):\n",
    "            vec.insert(j,random.random()*10)\n",
    "        vectors[\"v\" + str(i)] = vec\n",
    "            \n",
    "    return vectors"
   ]
  },
  {
   "cell_type": "code",
   "execution_count": 27,
   "metadata": {},
   "outputs": [
    {
     "name": "stdout",
     "output_type": "stream",
     "text": [
      "{'v0': [8.8750583750648, 7.938609947866409, 7.84895815567034], 'v1': [3.226473080385055, 0.48455310880173297, 2.4195634319786397]}\n"
     ]
    }
   ],
   "source": [
    "# Try it\n",
    "print(generate_vectors(2, 3))"
   ]
  },
  {
   "cell_type": "markdown",
   "metadata": {},
   "source": [
    "### Problem 3\n",
    "Design a method that receives a dictionary of vectors and returns a matrix (list of lists) with the distance between each pair of vectors.\n",
    "\n",
    "```python\n",
    "vectors = {\"v1\": [], \"v2\": [], \"v3\": []}\n",
    "\n",
    "distances = [[cos_distance(v1,v1), cos_distance(v1,v2), cos_distance(v1,v3)],\n",
    "             [cos_distance(v2,v1), cos_distance(v2,v2), cos_distance(v2,v3)],\n",
    "             [cos_distance(v3,v1), cos_distance(v3,v2), cos_distance(v3,v3)]]\n",
    "```"
   ]
  },
  {
   "cell_type": "code",
   "execution_count": 28,
   "metadata": {},
   "outputs": [],
   "source": [
    "import random\n",
    "import math\n",
    "\n",
    "def distance_matrix( vect ):\n",
    "    result = []\n",
    "    for i in range (len(vect)):\n",
    "        dist = []\n",
    "        for j in range (len(vect)):\n",
    "            dist.append(cos_distance(vect[\"v\" + str [i]],vect[\"v\" + str[j]]))\n",
    "        result.append(dist)\n",
    "    return result"
   ]
  },
  {
   "cell_type": "code",
   "execution_count": 29,
   "metadata": {},
   "outputs": [
    {
     "ename": "TypeError",
     "evalue": "'type' object is not subscriptable",
     "output_type": "error",
     "traceback": [
      "\u001b[0;31m---------------------------------------------------------------------------\u001b[0m",
      "\u001b[0;31mTypeError\u001b[0m                                 Traceback (most recent call last)",
      "\u001b[0;32m<ipython-input-29-051d9f3f6f99>\u001b[0m in \u001b[0;36m<module>\u001b[0;34m\u001b[0m\n\u001b[1;32m      1\u001b[0m \u001b[0;31m# Try it\u001b[0m\u001b[0;34m\u001b[0m\u001b[0;34m\u001b[0m\u001b[0;34m\u001b[0m\u001b[0m\n\u001b[0;32m----> 2\u001b[0;31m \u001b[0mprint\u001b[0m\u001b[0;34m(\u001b[0m\u001b[0mdistance_matrix\u001b[0m\u001b[0;34m(\u001b[0m \u001b[0;34m{\u001b[0m\u001b[0;34m\"v0\"\u001b[0m\u001b[0;34m:\u001b[0m \u001b[0;34m[\u001b[0m\u001b[0;36m1\u001b[0m\u001b[0;34m,\u001b[0m\u001b[0;36m2\u001b[0m\u001b[0;34m,\u001b[0m\u001b[0;36m3\u001b[0m\u001b[0;34m]\u001b[0m\u001b[0;34m,\u001b[0m \u001b[0;34m\"v1\"\u001b[0m\u001b[0;34m:\u001b[0m \u001b[0;34m[\u001b[0m\u001b[0;36m2\u001b[0m\u001b[0;34m,\u001b[0m\u001b[0;36m3\u001b[0m\u001b[0;34m,\u001b[0m\u001b[0;36m1\u001b[0m\u001b[0;34m]\u001b[0m\u001b[0;34m,\u001b[0m \u001b[0;34m\"v2\"\u001b[0m\u001b[0;34m:\u001b[0m \u001b[0;34m[\u001b[0m\u001b[0;36m3\u001b[0m\u001b[0;34m,\u001b[0m\u001b[0;36m1\u001b[0m\u001b[0;34m,\u001b[0m\u001b[0;36m2\u001b[0m\u001b[0;34m]\u001b[0m\u001b[0;34m}\u001b[0m \u001b[0;34m)\u001b[0m\u001b[0;34m)\u001b[0m\u001b[0;34m\u001b[0m\u001b[0;34m\u001b[0m\u001b[0m\n\u001b[0m",
      "\u001b[0;32m<ipython-input-28-2a0b48d1c7b4>\u001b[0m in \u001b[0;36mdistance_matrix\u001b[0;34m(vect)\u001b[0m\n\u001b[1;32m      7\u001b[0m         \u001b[0mdist\u001b[0m \u001b[0;34m=\u001b[0m \u001b[0;34m[\u001b[0m\u001b[0;34m]\u001b[0m\u001b[0;34m\u001b[0m\u001b[0;34m\u001b[0m\u001b[0m\n\u001b[1;32m      8\u001b[0m         \u001b[0;32mfor\u001b[0m \u001b[0mj\u001b[0m \u001b[0;32min\u001b[0m \u001b[0mrange\u001b[0m \u001b[0;34m(\u001b[0m\u001b[0mlen\u001b[0m\u001b[0;34m(\u001b[0m\u001b[0mvect\u001b[0m\u001b[0;34m)\u001b[0m\u001b[0;34m)\u001b[0m\u001b[0;34m:\u001b[0m\u001b[0;34m\u001b[0m\u001b[0;34m\u001b[0m\u001b[0m\n\u001b[0;32m----> 9\u001b[0;31m             \u001b[0mdist\u001b[0m\u001b[0;34m.\u001b[0m\u001b[0mappend\u001b[0m\u001b[0;34m(\u001b[0m\u001b[0mcos_distance\u001b[0m\u001b[0;34m(\u001b[0m\u001b[0mvect\u001b[0m\u001b[0;34m[\u001b[0m\u001b[0;34m\"v\"\u001b[0m \u001b[0;34m+\u001b[0m \u001b[0mstr\u001b[0m \u001b[0;34m[\u001b[0m\u001b[0mi\u001b[0m\u001b[0;34m]\u001b[0m\u001b[0;34m]\u001b[0m\u001b[0;34m,\u001b[0m\u001b[0mvect\u001b[0m\u001b[0;34m[\u001b[0m\u001b[0;34m\"v\"\u001b[0m \u001b[0;34m+\u001b[0m \u001b[0mstr\u001b[0m\u001b[0;34m[\u001b[0m\u001b[0mj\u001b[0m\u001b[0;34m]\u001b[0m\u001b[0;34m]\u001b[0m\u001b[0;34m)\u001b[0m\u001b[0;34m)\u001b[0m\u001b[0;34m\u001b[0m\u001b[0;34m\u001b[0m\u001b[0m\n\u001b[0m\u001b[1;32m     10\u001b[0m         \u001b[0mresult\u001b[0m\u001b[0;34m.\u001b[0m\u001b[0mappend\u001b[0m\u001b[0;34m(\u001b[0m\u001b[0mdist\u001b[0m\u001b[0;34m)\u001b[0m\u001b[0;34m\u001b[0m\u001b[0;34m\u001b[0m\u001b[0m\n\u001b[1;32m     11\u001b[0m     \u001b[0;32mreturn\u001b[0m \u001b[0mresult\u001b[0m\u001b[0;34m\u001b[0m\u001b[0;34m\u001b[0m\u001b[0m\n",
      "\u001b[0;31mTypeError\u001b[0m: 'type' object is not subscriptable"
     ]
    }
   ],
   "source": [
    "# Try it\n",
    "print(distance_matrix( {\"v0\": [1,2,3], \"v1\": [2,3,1], \"v2\": [3,1,2]} ))"
   ]
  },
  {
   "cell_type": "markdown",
   "metadata": {},
   "source": [
    "### Problem 4\n",
    "Design a method that receives a matrix of numbers and return the minimum value"
   ]
  },
  {
   "cell_type": "code",
   "execution_count": 30,
   "metadata": {},
   "outputs": [],
   "source": [
    "def get_min( distances ):\n",
    "    min_value = distances[0][0]\n",
    "    for i in distances:\n",
    "        for j in i:\n",
    "            min_value = min(min_value, j)\n",
    "    return min_value"
   ]
  },
  {
   "cell_type": "code",
   "execution_count": 31,
   "metadata": {},
   "outputs": [
    {
     "name": "stdout",
     "output_type": "stream",
     "text": [
      "0.1\n"
     ]
    }
   ],
   "source": [
    "# Try it\n",
    "print(get_min([[.1,.2,.3],[.4,.5,.6],[.7,.8,.9]]))"
   ]
  },
  {
   "cell_type": "code",
   "execution_count": null,
   "metadata": {},
   "outputs": [],
   "source": [
    "# All together!\n",
    "\n",
    "# Generate 10 vectors of dimension 10\n",
    "\n",
    "# Calculate the distance between all vectors\n",
    "\n",
    "# Get the minimum distance"
   ]
  },
  {
   "cell_type": "markdown",
   "metadata": {},
   "source": [
    "___\n",
    "# Numpy and Matplotlib\n",
    "__NumPy__ (http://www.numpy.org/) is the fundamental package for scientific computing with Python. It contains among other things:\n",
    "- a powerful N-dimensional array object\n",
    "- sophisticated (broadcasting) functions\n",
    "- tools for integrating C/C++ and Fortran code\n",
    "- useful linear algebra, Fourier transform, and random number capabilities\n",
    "\n",
    "Besides its obvious scientific uses, NumPy can also be used as an efficient multi-dimensional container of generic data. Arbitrary data-types can be defined. This allows NumPy to seamlessly and speedily integrate with a wide variety of databases.\n",
    "\n",
    "__Matplotlib__ (https://matplotlib.org/) is a Python 2D plotting library which produces publication quality figures in a variety of hardcopy formats and interactive environments across platforms.\n",
    "\n",
    "\n",
    "We are not going to use NumPy directly, but some of the libraries we are going to use need it to work.\n",
    "\n",
    "We are using Matplotlib to create many kinds of charts and visualize our data. There are many ways to generate a plot with this library but we are going to follow a common step to generate all charts (even if in some cases this is not the best process)."
   ]
  },
  {
   "cell_type": "code",
   "execution_count": 32,
   "metadata": {},
   "outputs": [],
   "source": [
    "# To import these libraries we use these lines\n",
    "import numpy as np\n",
    "import matplotlib.pyplot as plt"
   ]
  },
  {
   "cell_type": "code",
   "execution_count": 33,
   "metadata": {},
   "outputs": [
    {
     "data": {
      "image/png": "[encoded data removed]",
      "text/plain": [
       "<Figure size 504x360 with 4 Axes>"
      ]
     },
     "metadata": {
      "needs_background": "light"
     },
     "output_type": "display_data"
    }
   ],
   "source": [
    "# To create a new figure, we are going to use always the next steps\n",
    "# Note that the method returns 2 values, fig and ax, this can be usually found in python\n",
    "fig, ax = plt.subplots(nrows=2,ncols=2,figsize=(7,5))\n",
    "# The three parameters, nrows, ncols and figsize are optionaly defined\n",
    "# We can define a matrix of subplots by changing the values of nrows and ncols\n",
    "# We can modify the size of the matrix with the arguments of figsize\n",
    "# If we don't specify this parameter, the figure will have the minimum size to fit all the drawings\n",
    "\n",
    "# Here we will define the charts, labels, grid, etc\n",
    "\n",
    "# Finally we should tell matplotlib to show the figure we have defined\n",
    "plt.show(fig)"
   ]
  },
  {
   "cell_type": "code",
   "execution_count": 34,
   "metadata": {},
   "outputs": [
    {
     "data": {
      "text/plain": [
       "<matplotlib.axes._subplots.AxesSubplot at 0x10b946f90>"
      ]
     },
     "execution_count": 34,
     "metadata": {},
     "output_type": "execute_result"
    }
   ],
   "source": [
    "# Variable ax is a numpy array with all the subplots that we define\n",
    "# We can access to each subplot by its coordinates\n",
    "ax[0,0] # This is the same as ax[0][0]"
   ]
  },
  {
   "cell_type": "code",
   "execution_count": 35,
   "metadata": {},
   "outputs": [
    {
     "data": {
      "image/png": "[encoded data removed]",
      "text/plain": [
       "<Figure size 504x360 with 4 Axes>"
      ]
     },
     "metadata": {
      "needs_background": "light"
     },
     "output_type": "display_data"
    }
   ],
   "source": [
    "fig, ax = plt.subplots(nrows=2,ncols=2,figsize=(7,5))\n",
    "\n",
    "# Sample function\n",
    "t = np.arange(0.0, 2.0, 0.01)\n",
    "s = 1 + np.sin(2 * np.pi * t)\n",
    "\n",
    "# To plot a line in a certain subplot we can use\n",
    "ax[0,0].plot(t,s) # t are the horizontal values and s the vertical ones\n",
    "ax[1,0].plot(s,'g') # If we define only one series it will be taken as the vertical values\n",
    "# We can define de color of a plot after the values of the line\n",
    "\n",
    "plt.show(fig)"
   ]
  },
  {
   "cell_type": "markdown",
   "metadata": {},
   "source": [
    "## Plots\n",
    "There are a huge number of different plots available in matplotlib, we are going to see the most basic ones\n",
    "https://matplotlib.org/api/axes_api.html#plotting\n",
    "\n",
    "### Line plot\n",
    "https://matplotlib.org/api/_as_gen/matplotlib.axes.Axes.plot.html?highlight=plot#matplotlib.axes.Axes.plot\n",
    "\n",
    "We can define a string after de data to modify the style of the line which will be plotted. This strings are defined in this way ``'[color][marker][line style]``, for example ``'b--'`` is a dashed blue line or ``'ro'`` is a sequence of red circles.\n",
    "\n",
    "There are many options to modify the plot style:\n",
    "\n",
    "**Colors**\n",
    "\n",
    "|character|color  |\n",
    "| --- | --- |\n",
    "|``'b'``  |blue   |\n",
    "|``'g'``  |green  |\n",
    "|``'r'``  |red    |\n",
    "|``'c'``  |cyan   |\n",
    "|``'m'``  |magenta|\n",
    "|``'y'``  |yellow |\n",
    "|``'k'``  |black  |\n",
    "|``'w'``  |white  |\n",
    "\n",
    "**Markers**\n",
    "\n",
    "|character |description |\n",
    "| --- | --- |\n",
    "|``'.'``|point marker         |\n",
    "|``','``|pixel marker         |\n",
    "|``'o'``|circle marker        |\n",
    "|``'v'``|triangle_down marker |\n",
    "|``'^'``|triangle_up marker   |\n",
    "|``'<'``|triangle_left marker |\n",
    "|``'>'``|triangle_right marker|\n",
    "|``'1'``|tri_down marker      |\n",
    "|``'2'``|tri_up marker        |\n",
    "|``'3'``|tri_left marker      |\n",
    "|``'4'``|tri_right marker     |\n",
    "|``'s'``|square marker        |\n",
    "|``'p'``|pentagon marker      |\n",
    "|``'*'``|star marker          |\n",
    "|``'h'``|hexagon1 marker      |\n",
    "|``'H'``|hexagon2 marker      |\n",
    "|``'+'``|plus marker          |\n",
    "|``'x'``|x marker             |\n",
    "|``'D'``|diamond marker       |\n",
    "|``'d'``|thin_diamond marker  |\n",
    "|``'_'``|hline marker         |\n",
    "\n",
    "**Line Styles**   \n",
    "\n",
    "|character|description|\n",
    "| --- | --- |\n",
    "|``'-'`` |solid line style   |\n",
    "|``'--'``|dashed line style  |\n",
    "|``'-.'``|dash-dot line style|\n",
    "|``':'`` |dotted line style  |\n"
   ]
  },
  {
   "cell_type": "code",
   "execution_count": 36,
   "metadata": {},
   "outputs": [
    {
     "data": {
      "image/png": "[encoded data removed]",
      "text/plain": [
       "<Figure size 504x360 with 1 Axes>"
      ]
     },
     "metadata": {
      "needs_background": "light"
     },
     "output_type": "display_data"
    }
   ],
   "source": [
    "fig, ax = plt.subplots(figsize=(7,5))\n",
    "\n",
    "# Plot\n",
    "ax.plot(t,s) \n",
    "ax.plot(t,2*s,'g--') # We can plot several lines in the same chart\n",
    "ax.plot(t,4*s,'r,')\n",
    "\n",
    "plt.show(fig)"
   ]
  },
  {
   "cell_type": "markdown",
   "metadata": {},
   "source": [
    "### Bar plot\n",
    "https://matplotlib.org/api/_as_gen/matplotlib.pyplot.bar.html"
   ]
  },
  {
   "cell_type": "code",
   "execution_count": 37,
   "metadata": {},
   "outputs": [
    {
     "data": {
      "image/png": "[encoded data removed]",
      "text/plain": [
       "<Figure size 504x360 with 1 Axes>"
      ]
     },
     "metadata": {
      "needs_background": "light"
     },
     "output_type": "display_data"
    }
   ],
   "source": [
    "fig, ax = plt.subplots(figsize=(7,5))\n",
    "\n",
    "# Sample data about programing language popularity\n",
    "x = [\"Python\", \"Java\", \"Javascript\", \"C#\", \"PHP\"]\n",
    "y = [25.13,21.98,8.35,7.5,7.36]\n",
    "\n",
    "# Plot\n",
    "ax.bar(x,y) \n",
    "\n",
    "plt.show(fig)"
   ]
  },
  {
   "cell_type": "markdown",
   "metadata": {},
   "source": [
    "### Scatter plot\n",
    "https://matplotlib.org/api/_as_gen/matplotlib.axes.Axes.scatter.html#matplotlib.axes.Axes.scatter"
   ]
  },
  {
   "cell_type": "code",
   "execution_count": 38,
   "metadata": {},
   "outputs": [
    {
     "data": {
      "image/png": "[encoded data removed]",
      "text/plain": [
       "<Figure size 504x360 with 1 Axes>"
      ]
     },
     "metadata": {
      "needs_background": "light"
     },
     "output_type": "display_data"
    }
   ],
   "source": [
    "fig, ax = plt.subplots(figsize=(7,5))\n",
    "\n",
    "# Sample data\n",
    "x = np.arange(0, 10, .1)\n",
    "y = (x+np.random.rand(100))**2\n",
    "\n",
    "# Plot\n",
    "ax.scatter(x,y) \n",
    "ax.scatter(x,-y)\n",
    "\n",
    "plt.show(fig)"
   ]
  },
  {
   "cell_type": "markdown",
   "metadata": {},
   "source": [
    "### Histogram plot\n",
    "https://matplotlib.org/api/_as_gen/matplotlib.pyplot.hist.html#matplotlib.pyplot.hist"
   ]
  },
  {
   "cell_type": "code",
   "execution_count": 39,
   "metadata": {
    "scrolled": true
   },
   "outputs": [
    {
     "data": {
      "image/png": "[encoded data removed]",
      "text/plain": [
       "<Figure size 504x360 with 1 Axes>"
      ]
     },
     "metadata": {
      "needs_background": "light"
     },
     "output_type": "display_data"
    }
   ],
   "source": [
    "fig, ax = plt.subplots(figsize=(7,5))\n",
    "\n",
    "# Sample data\n",
    "marks = [5.9, 7.9, 7.4, 6.2, 5.7, 8.3, 6  , 6.4, 8.1, 7.1, 5.7, 6.8, 6.2, 6.9, 7.2, 6.8, 7.3, 8.3, 5.3, 7.2, 5.8, \n",
    "         5.3, 6.8, 6.9, 5.5, 5.6, 7.7, 8.4, 6.5, 4.4, 6.8, 9.3, 5.7, 9.5, 7.1, 5.9, 8.2, 9  , 6.6, 6.8, 4.9, 6.9, \n",
    "         6.2, 6.8, 9.1, 5.8, 7.3, 4.7, 7.4, 3.1, 8.5, 7.9, 5.8, 7.9, 5.1, 5.2, 7.8, 6.3, 6.5, 5.3, 7.5, 6.8, 6.6, \n",
    "         6.7, 7.8, 7.6, 10 , 5.8, 8.1, 7.8, 8.5, 5.4, 8.1, 3.6, 6  , 8  , 6.1, 4.9, 6.3, 5.2, 7.3, 7  , 6.7, 5.9, \n",
    "         4.2, 5.2, 8.5, 9.2, 7.1, 8.7, 6.6, 8  , 6.9, 5  , 5.9, 8.1, 7  , 8.2, 7.7, 4.2]\n",
    "\n",
    "# Plot\n",
    "ax.hist(marks)\n",
    "\n",
    "plt.show(fig)"
   ]
  },
  {
   "cell_type": "markdown",
   "metadata": {},
   "source": [
    "## Axes modifications and labels\n",
    "\n",
    "If we do not configure anything, matplotlib will generate the axes scales just big enough to fit the data. But in sometimes we may want to define a certain range (eg. if we are plotting exams marks, we may want to plot form 0 to 10 in the horizontal axe) or we may want to use a different precission.\n",
    "\n",
    "In addition, is a good practice to include labels in both axes and a title over the chart"
   ]
  },
  {
   "cell_type": "code",
   "execution_count": 40,
   "metadata": {},
   "outputs": [
    {
     "data": {
      "image/png": "[encoded data removed]",
      "text/plain": [
       "<Figure size 504x360 with 1 Axes>"
      ]
     },
     "metadata": {
      "needs_background": "light"
     },
     "output_type": "display_data"
    }
   ],
   "source": [
    "fig, ax = plt.subplots(figsize=(7,5))\n",
    "\n",
    "ax.hist(marks)\n",
    "\n",
    "# We can specify the ranges of bot axes\n",
    "ax.set_xlim(0, 10)\n",
    "ax.set_ylim(0, 30)\n",
    "\n",
    "# We can also specify the divisions of the axes\n",
    "ax.set_yticks(np.arange(0,32,2))\n",
    "\n",
    "# Activate the grid\n",
    "ax.grid()\n",
    "\n",
    "# Set a title\n",
    "ax.set_title(\"Histogram of last exam's marks\")\n",
    "\n",
    "# Set axes labels\n",
    "ax.set_xlabel(\"Grade\")\n",
    "ax.set_ylabel(\"Number of students\")\n",
    "\n",
    "plt.show(fig)"
   ]
  },
  {
   "cell_type": "markdown",
   "metadata": {},
   "source": [
    "## Exporting images\n",
    "We can export our images to use them anywhere. It is always suggested to use vector formats (like svg or eps) if it is possible."
   ]
  },
  {
   "cell_type": "code",
   "execution_count": 41,
   "metadata": {},
   "outputs": [
    {
     "data": {
      "text/plain": [
       "<Figure size 432x288 with 0 Axes>"
      ]
     },
     "metadata": {},
     "output_type": "display_data"
    }
   ],
   "source": [
    "# We specify the file name and the format\n",
    "# bbox_inches='tight' removes the margins in the image\n",
    "plt.savefig(\"marksHistogram.svg\", format=\"svg\", bbox_inches='tight')"
   ]
  },
  {
   "cell_type": "markdown",
   "metadata": {},
   "source": [
    "## Problems\n",
    "\n",
    "### Problem 1\n",
    "Generate a list of vectors with the method `generate_vectors` that we previously coded. Plot one chart for each vector; each of those charts should be a bar chart with the distances to the other vectors (tip: use the method `distance_matrix`)"
   ]
  },
  {
   "cell_type": "code",
   "execution_count": 42,
   "metadata": {},
   "outputs": [
    {
     "ename": "TypeError",
     "evalue": "'type' object is not subscriptable",
     "output_type": "error",
     "traceback": [
      "\u001b[0;31m---------------------------------------------------------------------------\u001b[0m",
      "\u001b[0;31mTypeError\u001b[0m                                 Traceback (most recent call last)",
      "\u001b[0;32m<ipython-input-42-21870d1d5bc8>\u001b[0m in \u001b[0;36m<module>\u001b[0;34m\u001b[0m\n\u001b[1;32m      1\u001b[0m \u001b[0mvectors\u001b[0m \u001b[0;34m=\u001b[0m \u001b[0mgenerate_vectors\u001b[0m\u001b[0;34m(\u001b[0m\u001b[0;36m2\u001b[0m\u001b[0;34m,\u001b[0m\u001b[0;36m3\u001b[0m\u001b[0;34m)\u001b[0m\u001b[0;34m\u001b[0m\u001b[0;34m\u001b[0m\u001b[0m\n\u001b[0;32m----> 2\u001b[0;31m \u001b[0mdistances\u001b[0m \u001b[0;34m=\u001b[0m \u001b[0mdistance_matrix\u001b[0m\u001b[0;34m(\u001b[0m\u001b[0mvectors\u001b[0m\u001b[0;34m)\u001b[0m\u001b[0;34m\u001b[0m\u001b[0;34m\u001b[0m\u001b[0m\n\u001b[0m\u001b[1;32m      3\u001b[0m \u001b[0mx\u001b[0m\u001b[0;34m=\u001b[0m\u001b[0;34m[\u001b[0m\u001b[0;34m]\u001b[0m\u001b[0;34m\u001b[0m\u001b[0;34m\u001b[0m\u001b[0m\n\u001b[1;32m      4\u001b[0m \u001b[0my\u001b[0m\u001b[0;34m=\u001b[0m\u001b[0;34m[\u001b[0m\u001b[0;34m]\u001b[0m\u001b[0;34m\u001b[0m\u001b[0;34m\u001b[0m\u001b[0m\n\u001b[1;32m      5\u001b[0m \u001b[0;32mfor\u001b[0m \u001b[0mi\u001b[0m \u001b[0;32min\u001b[0m \u001b[0mrange\u001b[0m\u001b[0;34m(\u001b[0m\u001b[0mlen\u001b[0m\u001b[0;34m(\u001b[0m\u001b[0mdistances\u001b[0m\u001b[0;34m)\u001b[0m\u001b[0;34m)\u001b[0m\u001b[0;34m:\u001b[0m\u001b[0;34m\u001b[0m\u001b[0;34m\u001b[0m\u001b[0m\n",
      "\u001b[0;32m<ipython-input-28-2a0b48d1c7b4>\u001b[0m in \u001b[0;36mdistance_matrix\u001b[0;34m(vect)\u001b[0m\n\u001b[1;32m      7\u001b[0m         \u001b[0mdist\u001b[0m \u001b[0;34m=\u001b[0m \u001b[0;34m[\u001b[0m\u001b[0;34m]\u001b[0m\u001b[0;34m\u001b[0m\u001b[0;34m\u001b[0m\u001b[0m\n\u001b[1;32m      8\u001b[0m         \u001b[0;32mfor\u001b[0m \u001b[0mj\u001b[0m \u001b[0;32min\u001b[0m \u001b[0mrange\u001b[0m \u001b[0;34m(\u001b[0m\u001b[0mlen\u001b[0m\u001b[0;34m(\u001b[0m\u001b[0mvect\u001b[0m\u001b[0;34m)\u001b[0m\u001b[0;34m)\u001b[0m\u001b[0;34m:\u001b[0m\u001b[0;34m\u001b[0m\u001b[0;34m\u001b[0m\u001b[0m\n\u001b[0;32m----> 9\u001b[0;31m             \u001b[0mdist\u001b[0m\u001b[0;34m.\u001b[0m\u001b[0mappend\u001b[0m\u001b[0;34m(\u001b[0m\u001b[0mcos_distance\u001b[0m\u001b[0;34m(\u001b[0m\u001b[0mvect\u001b[0m\u001b[0;34m[\u001b[0m\u001b[0;34m\"v\"\u001b[0m \u001b[0;34m+\u001b[0m \u001b[0mstr\u001b[0m \u001b[0;34m[\u001b[0m\u001b[0mi\u001b[0m\u001b[0;34m]\u001b[0m\u001b[0;34m]\u001b[0m\u001b[0;34m,\u001b[0m\u001b[0mvect\u001b[0m\u001b[0;34m[\u001b[0m\u001b[0;34m\"v\"\u001b[0m \u001b[0;34m+\u001b[0m \u001b[0mstr\u001b[0m\u001b[0;34m[\u001b[0m\u001b[0mj\u001b[0m\u001b[0;34m]\u001b[0m\u001b[0;34m]\u001b[0m\u001b[0;34m)\u001b[0m\u001b[0;34m)\u001b[0m\u001b[0;34m\u001b[0m\u001b[0;34m\u001b[0m\u001b[0m\n\u001b[0m\u001b[1;32m     10\u001b[0m         \u001b[0mresult\u001b[0m\u001b[0;34m.\u001b[0m\u001b[0mappend\u001b[0m\u001b[0;34m(\u001b[0m\u001b[0mdist\u001b[0m\u001b[0;34m)\u001b[0m\u001b[0;34m\u001b[0m\u001b[0;34m\u001b[0m\u001b[0m\n\u001b[1;32m     11\u001b[0m     \u001b[0;32mreturn\u001b[0m \u001b[0mresult\u001b[0m\u001b[0;34m\u001b[0m\u001b[0;34m\u001b[0m\u001b[0m\n",
      "\u001b[0;31mTypeError\u001b[0m: 'type' object is not subscriptable"
     ]
    }
   ],
   "source": [
    "vectors = generate_vectors(2,3)\n",
    "distances = distance_matrix(vectors)\n",
    "x=[]\n",
    "y=[]\n",
    "for i in range(len(distances)):\n",
    "    x.append(\"v\"+str[i])\n",
    "    p=[]\n",
    "    for j in range(len(distances)):\n",
    "        p.append(distances[i][j])\n",
    "    y.append(y)\n",
    "\n",
    "fig=[]\n",
    "for k in range(len(y)):\n",
    "    fig, ax = plt.subplots(figsize=(7,len(y)))   \n",
    "    ax.bar(x,y[k]) \n",
    "\n",
    "plt.show(fig)\n",
    "\n",
    "\n",
    "        \n"
   ]
  },
  {
   "cell_type": "markdown",
   "metadata": {},
   "source": [
    "### Problem 2\n",
    "Combine two kinds of charts (line, bars, scatter, etc) in one plot"
   ]
  },
  {
   "cell_type": "code",
   "execution_count": 43,
   "metadata": {},
   "outputs": [
    {
     "data": {
      "image/png": "[encoded data removed]",
      "text/plain": [
       "<Figure size 504x360 with 1 Axes>"
      ]
     },
     "metadata": {
      "needs_background": "light"
     },
     "output_type": "display_data"
    }
   ],
   "source": [
    "fig, ax = plt.subplots(figsize=(7,5))\n",
    "\n",
    "# Sample data\n",
    "x = np.arange(0, 10, .1)\n",
    "y = (x+np.random.rand(100)-.5)**2\n",
    "\n",
    "# Plot\n",
    "ax.scatter(x,y) \n",
    "ax.plot(x,x**2,'r')\n",
    "\n",
    "plt.show(fig)"
   ]
  },
  {
   "cell_type": "markdown",
   "metadata": {},
   "source": [
    "___\n",
    "# Pandas\n",
    "## Python Data Analysis Library\n",
    "pandas is an open source, BSD-licensed library providing high-performance, easy-to-use data structures and data analysis tools for the Python programming language.\n",
    "https://pandas.pydata.org/\n",
    "\n",
    "The basic data structure of Pandas is the dataframe. A dataframe is a collection of tabulated data, similar to a SQL table. Dataframes must always have an index column.\n",
    "\n",
    "The introductory guide of pandas covers more contents than those which we are going to use in this case, but it is recommended to give a quick view to it: https://pandas.pydata.org/pandas-docs/version/0.23.4/10min.html"
   ]
  },
  {
   "cell_type": "code",
   "execution_count": 44,
   "metadata": {},
   "outputs": [],
   "source": [
    "import pandas as pd"
   ]
  },
  {
   "cell_type": "markdown",
   "metadata": {
    "collapsed": true
   },
   "source": [
    "### Load data\n",
    "We can load data into dataframes from different sources\n",
    "https://pandas.pydata.org/pandas-docs/stable/io.html"
   ]
  },
  {
   "cell_type": "code",
   "execution_count": 45,
   "metadata": {},
   "outputs": [],
   "source": [
    "# The path of the file starts in the same directory of the notebook\n",
    "researchers = pd.read_csv(\"researchers.csv\")\n",
    "publications = pd.read_json(\"publications.json\")"
   ]
  },
  {
   "cell_type": "markdown",
   "metadata": {
    "collapsed": true
   },
   "source": [
    "### Index\n",
    "By default the index of a dataframe is a column with incrementing integers. "
   ]
  },
  {
   "cell_type": "code",
   "execution_count": 46,
   "metadata": {},
   "outputs": [
    {
     "data": {
      "text/html": [
       "<div>\n",
       "<style scoped>\n",
       "    .dataframe tbody tr th:only-of-type {\n",
       "        vertical-align: middle;\n",
       "    }\n",
       "\n",
       "    .dataframe tbody tr th {\n",
       "        vertical-align: top;\n",
       "    }\n",
       "\n",
       "    .dataframe thead th {\n",
       "        text-align: right;\n",
       "    }\n",
       "</style>\n",
       "<table border=\"1\" class=\"dataframe\">\n",
       "  <thead>\n",
       "    <tr style=\"text-align: right;\">\n",
       "      <th></th>\n",
       "      <th>Unnamed: 0</th>\n",
       "      <th>researcher_id</th>\n",
       "      <th>document-count</th>\n",
       "      <th>eid</th>\n",
       "      <th>orcid</th>\n",
       "      <th>name</th>\n",
       "      <th>subject-area</th>\n",
       "    </tr>\n",
       "  </thead>\n",
       "  <tbody>\n",
       "    <tr>\n",
       "      <th>1</th>\n",
       "      <td>1</td>\n",
       "      <td>10339103300</td>\n",
       "      <td>10</td>\n",
       "      <td>9-s2.0-10339103300</td>\n",
       "      <td>NaN</td>\n",
       "      <td>Larena Jorge Bernabéu</td>\n",
       "      <td>['Engineering (all)', 'Materials Science (all)...</td>\n",
       "    </tr>\n",
       "    <tr>\n",
       "      <th>2</th>\n",
       "      <td>2</td>\n",
       "      <td>10642146600</td>\n",
       "      <td>2</td>\n",
       "      <td>9-s2.0-10642146600</td>\n",
       "      <td>NaN</td>\n",
       "      <td>Querol Aragón E.</td>\n",
       "      <td>['Environmental Science (all)', 'Chemical Engi...</td>\n",
       "    </tr>\n",
       "  </tbody>\n",
       "</table>\n",
       "</div>"
      ],
      "text/plain": [
       "   Unnamed: 0  researcher_id  document-count                 eid orcid  \\\n",
       "1           1    10339103300              10  9-s2.0-10339103300   NaN   \n",
       "2           2    10642146600               2  9-s2.0-10642146600   NaN   \n",
       "\n",
       "                    name                                       subject-area  \n",
       "1  Larena Jorge Bernabéu  ['Engineering (all)', 'Materials Science (all)...  \n",
       "2       Querol Aragón E.  ['Environmental Science (all)', 'Chemical Engi...  "
      ]
     },
     "execution_count": 46,
     "metadata": {},
     "output_type": "execute_result"
    }
   ],
   "source": [
    "# Accessing the rows with index within the specified range\n",
    "researchers[1:3]"
   ]
  },
  {
   "cell_type": "code",
   "execution_count": 47,
   "metadata": {},
   "outputs": [
    {
     "data": {
      "text/plain": [
       "Unnamed: 0                                                        1\n",
       "researcher_id                                           10339103300\n",
       "document-count                                                   10\n",
       "eid                                              9-s2.0-10339103300\n",
       "orcid                                                           NaN\n",
       "name                                          Larena Jorge Bernabéu\n",
       "subject-area      ['Engineering (all)', 'Materials Science (all)...\n",
       "Name: 1, dtype: object"
      ]
     },
     "execution_count": 47,
     "metadata": {},
     "output_type": "execute_result"
    }
   ],
   "source": [
    "# To get a single row we must use the method iloc\n",
    "researchers.iloc[1]"
   ]
  },
  {
   "cell_type": "code",
   "execution_count": 49,
   "metadata": {},
   "outputs": [
    {
     "data": {
      "text/plain": [
       "RangeIndex(start=0, stop=5000, step=1)"
      ]
     },
     "execution_count": 49,
     "metadata": {},
     "output_type": "execute_result"
    }
   ],
   "source": [
    "# Getting the index column as a list\n",
    "researchers.index"
   ]
  },
  {
   "cell_type": "markdown",
   "metadata": {
    "collapsed": true
   },
   "source": [
    "### Describe data\n",
    "When we evaluate a dataframe, pandas will show a table with it contents. If there are many rows, it only shows the beginning and the end."
   ]
  },
  {
   "cell_type": "code",
   "execution_count": 50,
   "metadata": {},
   "outputs": [
    {
     "data": {
      "text/html": [
       "<div>\n",
       "<style scoped>\n",
       "    .dataframe tbody tr th:only-of-type {\n",
       "        vertical-align: middle;\n",
       "    }\n",
       "\n",
       "    .dataframe tbody tr th {\n",
       "        vertical-align: top;\n",
       "    }\n",
       "\n",
       "    .dataframe thead th {\n",
       "        text-align: right;\n",
       "    }\n",
       "</style>\n",
       "<table border=\"1\" class=\"dataframe\">\n",
       "  <thead>\n",
       "    <tr style=\"text-align: right;\">\n",
       "      <th></th>\n",
       "      <th>Unnamed: 0</th>\n",
       "      <th>researcher_id</th>\n",
       "      <th>document-count</th>\n",
       "      <th>eid</th>\n",
       "      <th>orcid</th>\n",
       "      <th>name</th>\n",
       "      <th>subject-area</th>\n",
       "    </tr>\n",
       "  </thead>\n",
       "  <tbody>\n",
       "    <tr>\n",
       "      <th>0</th>\n",
       "      <td>0</td>\n",
       "      <td>10242585700</td>\n",
       "      <td>33</td>\n",
       "      <td>9-s2.0-10242585700</td>\n",
       "      <td>NaN</td>\n",
       "      <td>Ruckhaus Edna</td>\n",
       "      <td>['Computer Science (all)', 'Mathematics (all)'...</td>\n",
       "    </tr>\n",
       "    <tr>\n",
       "      <th>1</th>\n",
       "      <td>1</td>\n",
       "      <td>10339103300</td>\n",
       "      <td>10</td>\n",
       "      <td>9-s2.0-10339103300</td>\n",
       "      <td>NaN</td>\n",
       "      <td>Larena Jorge Bernabéu</td>\n",
       "      <td>['Engineering (all)', 'Materials Science (all)...</td>\n",
       "    </tr>\n",
       "    <tr>\n",
       "      <th>2</th>\n",
       "      <td>2</td>\n",
       "      <td>10642146600</td>\n",
       "      <td>2</td>\n",
       "      <td>9-s2.0-10642146600</td>\n",
       "      <td>NaN</td>\n",
       "      <td>Querol Aragón E.</td>\n",
       "      <td>['Environmental Science (all)', 'Chemical Engi...</td>\n",
       "    </tr>\n",
       "    <tr>\n",
       "      <th>3</th>\n",
       "      <td>3</td>\n",
       "      <td>10738897100</td>\n",
       "      <td>8</td>\n",
       "      <td>9-s2.0-10738897100</td>\n",
       "      <td>NaN</td>\n",
       "      <td>Morató M. C.</td>\n",
       "      <td>['Agricultural and Biological Sciences (all)',...</td>\n",
       "    </tr>\n",
       "    <tr>\n",
       "      <th>4</th>\n",
       "      <td>4</td>\n",
       "      <td>10739463200</td>\n",
       "      <td>2</td>\n",
       "      <td>9-s2.0-10739463200</td>\n",
       "      <td>NaN</td>\n",
       "      <td>Aracil-Santonja Rafael</td>\n",
       "      <td>['Engineering (all)', 'Medicine (all)', 'Bioch...</td>\n",
       "    </tr>\n",
       "    <tr>\n",
       "      <th>...</th>\n",
       "      <td>...</td>\n",
       "      <td>...</td>\n",
       "      <td>...</td>\n",
       "      <td>...</td>\n",
       "      <td>...</td>\n",
       "      <td>...</td>\n",
       "      <td>...</td>\n",
       "    </tr>\n",
       "    <tr>\n",
       "      <th>4995</th>\n",
       "      <td>4995</td>\n",
       "      <td>9739187500</td>\n",
       "      <td>12</td>\n",
       "      <td>9-s2.0-9739187500</td>\n",
       "      <td>0000-0002-8487-2732</td>\n",
       "      <td>Burén Stefan</td>\n",
       "      <td>['Biochemistry, Genetics and Molecular Biology...</td>\n",
       "    </tr>\n",
       "    <tr>\n",
       "      <th>4996</th>\n",
       "      <td>4996</td>\n",
       "      <td>9739675900</td>\n",
       "      <td>3</td>\n",
       "      <td>9-s2.0-9739675900</td>\n",
       "      <td>NaN</td>\n",
       "      <td>Peral Pablo Reina</td>\n",
       "      <td>['Engineering (all)', 'Computer Science (all)'...</td>\n",
       "    </tr>\n",
       "    <tr>\n",
       "      <th>4997</th>\n",
       "      <td>4997</td>\n",
       "      <td>9844650600</td>\n",
       "      <td>19</td>\n",
       "      <td>9-s2.0-9844650600</td>\n",
       "      <td>0000-0001-9969-6308</td>\n",
       "      <td>Pedrero Antonio</td>\n",
       "      <td>['Physics and Astronomy (all)', 'Engineering (...</td>\n",
       "    </tr>\n",
       "    <tr>\n",
       "      <th>4998</th>\n",
       "      <td>4998</td>\n",
       "      <td>9846432700</td>\n",
       "      <td>7</td>\n",
       "      <td>9-s2.0-9846432700</td>\n",
       "      <td>NaN</td>\n",
       "      <td>Lehugeur Benjamin</td>\n",
       "      <td>['Engineering (all)', 'Materials Science (all)...</td>\n",
       "    </tr>\n",
       "    <tr>\n",
       "      <th>4999</th>\n",
       "      <td>4999</td>\n",
       "      <td>9846695900</td>\n",
       "      <td>6</td>\n",
       "      <td>9-s2.0-9846695900</td>\n",
       "      <td>NaN</td>\n",
       "      <td>Sánchez-Álvarez José J.</td>\n",
       "      <td>['Physics and Astronomy (all)', 'Engineering (...</td>\n",
       "    </tr>\n",
       "  </tbody>\n",
       "</table>\n",
       "<p>5000 rows × 7 columns</p>\n",
       "</div>"
      ],
      "text/plain": [
       "      Unnamed: 0  researcher_id  document-count                 eid  \\\n",
       "0              0    10242585700              33  9-s2.0-10242585700   \n",
       "1              1    10339103300              10  9-s2.0-10339103300   \n",
       "2              2    10642146600               2  9-s2.0-10642146600   \n",
       "3              3    10738897100               8  9-s2.0-10738897100   \n",
       "4              4    10739463200               2  9-s2.0-10739463200   \n",
       "...          ...            ...             ...                 ...   \n",
       "4995        4995     9739187500              12   9-s2.0-9739187500   \n",
       "4996        4996     9739675900               3   9-s2.0-9739675900   \n",
       "4997        4997     9844650600              19   9-s2.0-9844650600   \n",
       "4998        4998     9846432700               7   9-s2.0-9846432700   \n",
       "4999        4999     9846695900               6   9-s2.0-9846695900   \n",
       "\n",
       "                    orcid                     name  \\\n",
       "0                     NaN            Ruckhaus Edna   \n",
       "1                     NaN    Larena Jorge Bernabéu   \n",
       "2                     NaN         Querol Aragón E.   \n",
       "3                     NaN             Morató M. C.   \n",
       "4                     NaN   Aracil-Santonja Rafael   \n",
       "...                   ...                      ...   \n",
       "4995  0000-0002-8487-2732             Burén Stefan   \n",
       "4996                  NaN        Peral Pablo Reina   \n",
       "4997  0000-0001-9969-6308          Pedrero Antonio   \n",
       "4998                  NaN        Lehugeur Benjamin   \n",
       "4999                  NaN  Sánchez-Álvarez José J.   \n",
       "\n",
       "                                           subject-area  \n",
       "0     ['Computer Science (all)', 'Mathematics (all)'...  \n",
       "1     ['Engineering (all)', 'Materials Science (all)...  \n",
       "2     ['Environmental Science (all)', 'Chemical Engi...  \n",
       "3     ['Agricultural and Biological Sciences (all)',...  \n",
       "4     ['Engineering (all)', 'Medicine (all)', 'Bioch...  \n",
       "...                                                 ...  \n",
       "4995  ['Biochemistry, Genetics and Molecular Biology...  \n",
       "4996  ['Engineering (all)', 'Computer Science (all)'...  \n",
       "4997  ['Physics and Astronomy (all)', 'Engineering (...  \n",
       "4998  ['Engineering (all)', 'Materials Science (all)...  \n",
       "4999  ['Physics and Astronomy (all)', 'Engineering (...  \n",
       "\n",
       "[5000 rows x 7 columns]"
      ]
     },
     "execution_count": 50,
     "metadata": {},
     "output_type": "execute_result"
    }
   ],
   "source": [
    "researchers"
   ]
  },
  {
   "cell_type": "markdown",
   "metadata": {},
   "source": [
    "We can use the method describe to know more about one column or the whole dataset. If the column has numerical values it will calculate some statistical measures like the average, the count, max or min. In the other hand, if the values are strings it will count the unique values and return the most repeated one."
   ]
  },
  {
   "cell_type": "code",
   "execution_count": 51,
   "metadata": {},
   "outputs": [
    {
     "data": {
      "text/html": [
       "<div>\n",
       "<style scoped>\n",
       "    .dataframe tbody tr th:only-of-type {\n",
       "        vertical-align: middle;\n",
       "    }\n",
       "\n",
       "    .dataframe tbody tr th {\n",
       "        vertical-align: top;\n",
       "    }\n",
       "\n",
       "    .dataframe thead th {\n",
       "        text-align: right;\n",
       "    }\n",
       "</style>\n",
       "<table border=\"1\" class=\"dataframe\">\n",
       "  <thead>\n",
       "    <tr style=\"text-align: right;\">\n",
       "      <th></th>\n",
       "      <th>citations</th>\n",
       "      <th>pages</th>\n",
       "      <th>publicationDate</th>\n",
       "    </tr>\n",
       "  </thead>\n",
       "  <tbody>\n",
       "    <tr>\n",
       "      <th>count</th>\n",
       "      <td>34986.000000</td>\n",
       "      <td>34986.000000</td>\n",
       "      <td>34986.000000</td>\n",
       "    </tr>\n",
       "    <tr>\n",
       "      <th>mean</th>\n",
       "      <td>12.699794</td>\n",
       "      <td>7.766478</td>\n",
       "      <td>2008.244898</td>\n",
       "    </tr>\n",
       "    <tr>\n",
       "      <th>std</th>\n",
       "      <td>33.994696</td>\n",
       "      <td>6.975033</td>\n",
       "      <td>8.163822</td>\n",
       "    </tr>\n",
       "    <tr>\n",
       "      <th>min</th>\n",
       "      <td>0.000000</td>\n",
       "      <td>0.000000</td>\n",
       "      <td>1962.000000</td>\n",
       "    </tr>\n",
       "    <tr>\n",
       "      <th>25%</th>\n",
       "      <td>1.000000</td>\n",
       "      <td>3.000000</td>\n",
       "      <td>2004.000000</td>\n",
       "    </tr>\n",
       "    <tr>\n",
       "      <th>50%</th>\n",
       "      <td>3.000000</td>\n",
       "      <td>7.000000</td>\n",
       "      <td>2010.000000</td>\n",
       "    </tr>\n",
       "    <tr>\n",
       "      <th>75%</th>\n",
       "      <td>12.000000</td>\n",
       "      <td>11.000000</td>\n",
       "      <td>2014.000000</td>\n",
       "    </tr>\n",
       "    <tr>\n",
       "      <th>max</th>\n",
       "      <td>1221.000000</td>\n",
       "      <td>100.000000</td>\n",
       "      <td>2019.000000</td>\n",
       "    </tr>\n",
       "  </tbody>\n",
       "</table>\n",
       "</div>"
      ],
      "text/plain": [
       "          citations         pages  publicationDate\n",
       "count  34986.000000  34986.000000     34986.000000\n",
       "mean      12.699794      7.766478      2008.244898\n",
       "std       33.994696      6.975033         8.163822\n",
       "min        0.000000      0.000000      1962.000000\n",
       "25%        1.000000      3.000000      2004.000000\n",
       "50%        3.000000      7.000000      2010.000000\n",
       "75%       12.000000     11.000000      2014.000000\n",
       "max     1221.000000    100.000000      2019.000000"
      ]
     },
     "execution_count": 51,
     "metadata": {},
     "output_type": "execute_result"
    }
   ],
   "source": [
    "publications.describe()"
   ]
  },
  {
   "cell_type": "code",
   "execution_count": 52,
   "metadata": {},
   "outputs": [
    {
     "data": {
      "text/plain": [
       "count                      5000\n",
       "unique                     4937\n",
       "top       García Sergio Sánchez\n",
       "freq                          4\n",
       "Name: name, dtype: object"
      ]
     },
     "execution_count": 52,
     "metadata": {},
     "output_type": "execute_result"
    }
   ],
   "source": [
    "researchers[\"name\"].describe()"
   ]
  },
  {
   "cell_type": "code",
   "execution_count": 53,
   "metadata": {},
   "outputs": [
    {
     "data": {
      "text/plain": [
       "Unnamed: 0         int64\n",
       "researcher_id      int64\n",
       "document-count     int64\n",
       "eid               object\n",
       "orcid             object\n",
       "name              object\n",
       "subject-area      object\n",
       "dtype: object"
      ]
     },
     "execution_count": 53,
     "metadata": {},
     "output_type": "execute_result"
    }
   ],
   "source": [
    "# List columns and their types\n",
    "researchers.dtypes"
   ]
  },
  {
   "cell_type": "markdown",
   "metadata": {},
   "source": [
    "### Searching data\n",
    "We will need to get the rows that matches some conditions, we will do that with the loc function"
   ]
  },
  {
   "cell_type": "code",
   "execution_count": 54,
   "metadata": {},
   "outputs": [
    {
     "data": {
      "text/html": [
       "<div>\n",
       "<style scoped>\n",
       "    .dataframe tbody tr th:only-of-type {\n",
       "        vertical-align: middle;\n",
       "    }\n",
       "\n",
       "    .dataframe tbody tr th {\n",
       "        vertical-align: top;\n",
       "    }\n",
       "\n",
       "    .dataframe thead th {\n",
       "        text-align: right;\n",
       "    }\n",
       "</style>\n",
       "<table border=\"1\" class=\"dataframe\">\n",
       "  <thead>\n",
       "    <tr style=\"text-align: right;\">\n",
       "      <th></th>\n",
       "      <th>Unnamed: 0</th>\n",
       "      <th>researcher_id</th>\n",
       "      <th>document-count</th>\n",
       "      <th>eid</th>\n",
       "      <th>orcid</th>\n",
       "      <th>name</th>\n",
       "      <th>subject-area</th>\n",
       "    </tr>\n",
       "  </thead>\n",
       "  <tbody>\n",
       "    <tr>\n",
       "      <th>6</th>\n",
       "      <td>6</td>\n",
       "      <td>11139108300</td>\n",
       "      <td>1</td>\n",
       "      <td>9-s2.0-11139108300</td>\n",
       "      <td>NaN</td>\n",
       "      <td>Del Mar De La Fuente Garcia-Soto M.</td>\n",
       "      <td>[]</td>\n",
       "    </tr>\n",
       "    <tr>\n",
       "      <th>9</th>\n",
       "      <td>9</td>\n",
       "      <td>11739357500</td>\n",
       "      <td>1</td>\n",
       "      <td>9-s2.0-11739357500</td>\n",
       "      <td>NaN</td>\n",
       "      <td>Narváez Alfonso</td>\n",
       "      <td>[]</td>\n",
       "    </tr>\n",
       "    <tr>\n",
       "      <th>20</th>\n",
       "      <td>20</td>\n",
       "      <td>12344834500</td>\n",
       "      <td>1</td>\n",
       "      <td>9-s2.0-12344834500</td>\n",
       "      <td>NaN</td>\n",
       "      <td>De La Fuente Diego Andina</td>\n",
       "      <td>[]</td>\n",
       "    </tr>\n",
       "    <tr>\n",
       "      <th>22</th>\n",
       "      <td>22</td>\n",
       "      <td>12345143000</td>\n",
       "      <td>1</td>\n",
       "      <td>9-s2.0-12345143000</td>\n",
       "      <td>NaN</td>\n",
       "      <td>Ramírez-Martínez Rocío P.</td>\n",
       "      <td>[]</td>\n",
       "    </tr>\n",
       "    <tr>\n",
       "      <th>29</th>\n",
       "      <td>29</td>\n",
       "      <td>12759025400</td>\n",
       "      <td>1</td>\n",
       "      <td>9-s2.0-12759025400</td>\n",
       "      <td>NaN</td>\n",
       "      <td>Pumariño B.</td>\n",
       "      <td>[]</td>\n",
       "    </tr>\n",
       "    <tr>\n",
       "      <th>...</th>\n",
       "      <td>...</td>\n",
       "      <td>...</td>\n",
       "      <td>...</td>\n",
       "      <td>...</td>\n",
       "      <td>...</td>\n",
       "      <td>...</td>\n",
       "      <td>...</td>\n",
       "    </tr>\n",
       "    <tr>\n",
       "      <th>4921</th>\n",
       "      <td>4921</td>\n",
       "      <td>8373614400</td>\n",
       "      <td>1</td>\n",
       "      <td>9-s2.0-8373614400</td>\n",
       "      <td>NaN</td>\n",
       "      <td>Calvo Xenia</td>\n",
       "      <td>['Agricultural and Biological Sciences (all)',...</td>\n",
       "    </tr>\n",
       "    <tr>\n",
       "      <th>4925</th>\n",
       "      <td>4925</td>\n",
       "      <td>8389212900</td>\n",
       "      <td>1</td>\n",
       "      <td>9-s2.0-8389212900</td>\n",
       "      <td>NaN</td>\n",
       "      <td>Valero C. Fonseca</td>\n",
       "      <td>[]</td>\n",
       "    </tr>\n",
       "    <tr>\n",
       "      <th>4934</th>\n",
       "      <td>4934</td>\n",
       "      <td>8576827800</td>\n",
       "      <td>1</td>\n",
       "      <td>9-s2.0-8576827800</td>\n",
       "      <td>NaN</td>\n",
       "      <td>López-Cerezo Jaime</td>\n",
       "      <td>[]</td>\n",
       "    </tr>\n",
       "    <tr>\n",
       "      <th>4942</th>\n",
       "      <td>4942</td>\n",
       "      <td>8612371100</td>\n",
       "      <td>1</td>\n",
       "      <td>9-s2.0-8612371100</td>\n",
       "      <td>NaN</td>\n",
       "      <td>García Manuel Romana</td>\n",
       "      <td>[]</td>\n",
       "    </tr>\n",
       "    <tr>\n",
       "      <th>4945</th>\n",
       "      <td>4945</td>\n",
       "      <td>8617404500</td>\n",
       "      <td>1</td>\n",
       "      <td>9-s2.0-8617404500</td>\n",
       "      <td>NaN</td>\n",
       "      <td>Barrasa Jesús</td>\n",
       "      <td>['Medicine (all)', 'Health Professions  (all)']</td>\n",
       "    </tr>\n",
       "  </tbody>\n",
       "</table>\n",
       "<p>707 rows × 7 columns</p>\n",
       "</div>"
      ],
      "text/plain": [
       "      Unnamed: 0  researcher_id  document-count                 eid orcid  \\\n",
       "6              6    11139108300               1  9-s2.0-11139108300   NaN   \n",
       "9              9    11739357500               1  9-s2.0-11739357500   NaN   \n",
       "20            20    12344834500               1  9-s2.0-12344834500   NaN   \n",
       "22            22    12345143000               1  9-s2.0-12345143000   NaN   \n",
       "29            29    12759025400               1  9-s2.0-12759025400   NaN   \n",
       "...          ...            ...             ...                 ...   ...   \n",
       "4921        4921     8373614400               1   9-s2.0-8373614400   NaN   \n",
       "4925        4925     8389212900               1   9-s2.0-8389212900   NaN   \n",
       "4934        4934     8576827800               1   9-s2.0-8576827800   NaN   \n",
       "4942        4942     8612371100               1   9-s2.0-8612371100   NaN   \n",
       "4945        4945     8617404500               1   9-s2.0-8617404500   NaN   \n",
       "\n",
       "                                     name  \\\n",
       "6     Del Mar De La Fuente Garcia-Soto M.   \n",
       "9                         Narváez Alfonso   \n",
       "20              De La Fuente Diego Andina   \n",
       "22              Ramírez-Martínez Rocío P.   \n",
       "29                            Pumariño B.   \n",
       "...                                   ...   \n",
       "4921                          Calvo Xenia   \n",
       "4925                    Valero C. Fonseca   \n",
       "4934                   López-Cerezo Jaime   \n",
       "4942                 García Manuel Romana   \n",
       "4945                        Barrasa Jesús   \n",
       "\n",
       "                                           subject-area  \n",
       "6                                                    []  \n",
       "9                                                    []  \n",
       "20                                                   []  \n",
       "22                                                   []  \n",
       "29                                                   []  \n",
       "...                                                 ...  \n",
       "4921  ['Agricultural and Biological Sciences (all)',...  \n",
       "4925                                                 []  \n",
       "4934                                                 []  \n",
       "4942                                                 []  \n",
       "4945    ['Medicine (all)', 'Health Professions  (all)']  \n",
       "\n",
       "[707 rows x 7 columns]"
      ]
     },
     "execution_count": 54,
     "metadata": {},
     "output_type": "execute_result"
    }
   ],
   "source": [
    "# Searching all researchers with less than 2 publications\n",
    "researchers.loc[researchers[\"document-count\"]<2]"
   ]
  },
  {
   "cell_type": "code",
   "execution_count": 55,
   "metadata": {},
   "outputs": [
    {
     "data": {
      "text/html": [
       "<div>\n",
       "<style scoped>\n",
       "    .dataframe tbody tr th:only-of-type {\n",
       "        vertical-align: middle;\n",
       "    }\n",
       "\n",
       "    .dataframe tbody tr th {\n",
       "        vertical-align: top;\n",
       "    }\n",
       "\n",
       "    .dataframe thead th {\n",
       "        text-align: right;\n",
       "    }\n",
       "</style>\n",
       "<table border=\"1\" class=\"dataframe\">\n",
       "  <thead>\n",
       "    <tr style=\"text-align: right;\">\n",
       "      <th></th>\n",
       "      <th>Unnamed: 0</th>\n",
       "      <th>researcher_id</th>\n",
       "      <th>document-count</th>\n",
       "      <th>eid</th>\n",
       "      <th>orcid</th>\n",
       "      <th>name</th>\n",
       "      <th>subject-area</th>\n",
       "    </tr>\n",
       "  </thead>\n",
       "  <tbody>\n",
       "    <tr>\n",
       "      <th>8</th>\n",
       "      <td>8</td>\n",
       "      <td>11439791100</td>\n",
       "      <td>57</td>\n",
       "      <td>9-s2.0-11439791100</td>\n",
       "      <td>NaN</td>\n",
       "      <td>Ruiz-Hervías Jesús</td>\n",
       "      <td>['Materials Science (all)', 'Engineering (all)...</td>\n",
       "    </tr>\n",
       "    <tr>\n",
       "      <th>152</th>\n",
       "      <td>152</td>\n",
       "      <td>15127684800</td>\n",
       "      <td>33</td>\n",
       "      <td>9-s2.0-15127684800</td>\n",
       "      <td>0000-0001-6656-6507</td>\n",
       "      <td>Ruiz-García Luis</td>\n",
       "      <td>['Agricultural and Biological Sciences (all)',...</td>\n",
       "    </tr>\n",
       "    <tr>\n",
       "      <th>190</th>\n",
       "      <td>190</td>\n",
       "      <td>15922138800</td>\n",
       "      <td>42</td>\n",
       "      <td>9-s2.0-15922138800</td>\n",
       "      <td>NaN</td>\n",
       "      <td>Condés-Ruiz Sonia</td>\n",
       "      <td>['Agricultural and Biological Sciences (all)',...</td>\n",
       "    </tr>\n",
       "    <tr>\n",
       "      <th>239</th>\n",
       "      <td>239</td>\n",
       "      <td>16315846300</td>\n",
       "      <td>3</td>\n",
       "      <td>9-s2.0-16315846300</td>\n",
       "      <td>NaN</td>\n",
       "      <td>Haro Mercedes Ruiz</td>\n",
       "      <td>['Engineering (all)', 'Earth and Planetary Sci...</td>\n",
       "    </tr>\n",
       "    <tr>\n",
       "      <th>419</th>\n",
       "      <td>419</td>\n",
       "      <td>23398467600</td>\n",
       "      <td>1</td>\n",
       "      <td>9-s2.0-23398467600</td>\n",
       "      <td>NaN</td>\n",
       "      <td>Ruiz J. C G</td>\n",
       "      <td>[]</td>\n",
       "    </tr>\n",
       "    <tr>\n",
       "      <th>447</th>\n",
       "      <td>447</td>\n",
       "      <td>23571041800</td>\n",
       "      <td>3</td>\n",
       "      <td>9-s2.0-23571041800</td>\n",
       "      <td>NaN</td>\n",
       "      <td>Ruiz-Tapiador Ildefonso</td>\n",
       "      <td>['Agricultural and Biological Sciences (all)',...</td>\n",
       "    </tr>\n",
       "    <tr>\n",
       "      <th>612</th>\n",
       "      <td>612</td>\n",
       "      <td>25629006100</td>\n",
       "      <td>4</td>\n",
       "      <td>9-s2.0-25629006100</td>\n",
       "      <td>NaN</td>\n",
       "      <td>Ruiz Rosa M.Arce</td>\n",
       "      <td>['Engineering (all)', 'Social Sciences (all)']</td>\n",
       "    </tr>\n",
       "    <tr>\n",
       "      <th>956</th>\n",
       "      <td>956</td>\n",
       "      <td>36015022900</td>\n",
       "      <td>12</td>\n",
       "      <td>9-s2.0-36015022900</td>\n",
       "      <td>0000-0001-6824-0455</td>\n",
       "      <td>Carpeño Ruiz Antonio</td>\n",
       "      <td>['Engineering (all)', 'Social Sciences (all)',...</td>\n",
       "    </tr>\n",
       "    <tr>\n",
       "      <th>988</th>\n",
       "      <td>988</td>\n",
       "      <td>36144620400</td>\n",
       "      <td>3</td>\n",
       "      <td>9-s2.0-36144620400</td>\n",
       "      <td>NaN</td>\n",
       "      <td>Ruiz-Mayor Antonio</td>\n",
       "      <td>['Computer Science (all)', 'Engineering (all)'...</td>\n",
       "    </tr>\n",
       "    <tr>\n",
       "      <th>1134</th>\n",
       "      <td>1134</td>\n",
       "      <td>36719361400</td>\n",
       "      <td>18</td>\n",
       "      <td>9-s2.0-36719361400</td>\n",
       "      <td>NaN</td>\n",
       "      <td>Ruiz-Pérez Luis Miguel</td>\n",
       "      <td>['Health Professions  (all)', 'Psychology (all...</td>\n",
       "    </tr>\n",
       "    <tr>\n",
       "      <th>1178</th>\n",
       "      <td>1178</td>\n",
       "      <td>36860405700</td>\n",
       "      <td>2</td>\n",
       "      <td>9-s2.0-36860405700</td>\n",
       "      <td>NaN</td>\n",
       "      <td>Ruiz Fernando</td>\n",
       "      <td>['Engineering (all)', 'Computer Science (all)'...</td>\n",
       "    </tr>\n",
       "    <tr>\n",
       "      <th>1712</th>\n",
       "      <td>1712</td>\n",
       "      <td>55420403300</td>\n",
       "      <td>1</td>\n",
       "      <td>9-s2.0-55420403300</td>\n",
       "      <td>NaN</td>\n",
       "      <td>Ardanaz Ruiz C.</td>\n",
       "      <td>[]</td>\n",
       "    </tr>\n",
       "    <tr>\n",
       "      <th>1954</th>\n",
       "      <td>1954</td>\n",
       "      <td>55742001000</td>\n",
       "      <td>28</td>\n",
       "      <td>9-s2.0-55742001000</td>\n",
       "      <td>NaN</td>\n",
       "      <td>Ruiz Antonio Carnerero</td>\n",
       "      <td>['Engineering (all)', 'Computer Science (all)'...</td>\n",
       "    </tr>\n",
       "    <tr>\n",
       "      <th>2000</th>\n",
       "      <td>2000</td>\n",
       "      <td>55800800500</td>\n",
       "      <td>5</td>\n",
       "      <td>9-s2.0-55800800500</td>\n",
       "      <td>NaN</td>\n",
       "      <td>Campo-Ruiz Ingrid</td>\n",
       "      <td>['Engineering (all)', 'Arts and Humanities (al...</td>\n",
       "    </tr>\n",
       "    <tr>\n",
       "      <th>2204</th>\n",
       "      <td>2204</td>\n",
       "      <td>56015668800</td>\n",
       "      <td>1</td>\n",
       "      <td>9-s2.0-56015668800</td>\n",
       "      <td>NaN</td>\n",
       "      <td>De Juan Ruiz Jesús</td>\n",
       "      <td>[]</td>\n",
       "    </tr>\n",
       "    <tr>\n",
       "      <th>2294</th>\n",
       "      <td>2294</td>\n",
       "      <td>56129253200</td>\n",
       "      <td>2</td>\n",
       "      <td>9-s2.0-56129253200</td>\n",
       "      <td>NaN</td>\n",
       "      <td>Acevedo-Ruiz Manuel</td>\n",
       "      <td>['Decision Sciences (all)', 'Social Sciences (...</td>\n",
       "    </tr>\n",
       "    <tr>\n",
       "      <th>2313</th>\n",
       "      <td>2313</td>\n",
       "      <td>56162329900</td>\n",
       "      <td>1</td>\n",
       "      <td>9-s2.0-56162329900</td>\n",
       "      <td>NaN</td>\n",
       "      <td>Sánchez Javier Ruiz</td>\n",
       "      <td>[]</td>\n",
       "    </tr>\n",
       "    <tr>\n",
       "      <th>2326</th>\n",
       "      <td>2326</td>\n",
       "      <td>56182360700</td>\n",
       "      <td>64</td>\n",
       "      <td>9-s2.0-56182360700</td>\n",
       "      <td>NaN</td>\n",
       "      <td>Ruiz-Altisent Margarita</td>\n",
       "      <td>['Agricultural and Biological Sciences (all)',...</td>\n",
       "    </tr>\n",
       "    <tr>\n",
       "      <th>2353</th>\n",
       "      <td>2353</td>\n",
       "      <td>56207248700</td>\n",
       "      <td>4</td>\n",
       "      <td>9-s2.0-56207248700</td>\n",
       "      <td>NaN</td>\n",
       "      <td>Ruiz Alberto</td>\n",
       "      <td>['Computer Science (all)', 'Mathematics (all)'...</td>\n",
       "    </tr>\n",
       "    <tr>\n",
       "      <th>2360</th>\n",
       "      <td>2360</td>\n",
       "      <td>56215359800</td>\n",
       "      <td>13</td>\n",
       "      <td>9-s2.0-56215359800</td>\n",
       "      <td>NaN</td>\n",
       "      <td>Pérez Luis Miguel Ruiz</td>\n",
       "      <td>['Psychology (all)', 'Health Professions  (all...</td>\n",
       "    </tr>\n",
       "    <tr>\n",
       "      <th>2372</th>\n",
       "      <td>2372</td>\n",
       "      <td>56226767500</td>\n",
       "      <td>5</td>\n",
       "      <td>9-s2.0-56226767500</td>\n",
       "      <td>NaN</td>\n",
       "      <td>Salmerón-Ruiz Tamara</td>\n",
       "      <td>['Engineering (all)', 'Computer Science (all)'...</td>\n",
       "    </tr>\n",
       "    <tr>\n",
       "      <th>2435</th>\n",
       "      <td>2435</td>\n",
       "      <td>56300558700</td>\n",
       "      <td>1</td>\n",
       "      <td>9-s2.0-56300558700</td>\n",
       "      <td>NaN</td>\n",
       "      <td>Arredondo-Ruiz Fernando</td>\n",
       "      <td>[]</td>\n",
       "    </tr>\n",
       "    <tr>\n",
       "      <th>2492</th>\n",
       "      <td>2492</td>\n",
       "      <td>56358776600</td>\n",
       "      <td>1</td>\n",
       "      <td>9-s2.0-56358776600</td>\n",
       "      <td>NaN</td>\n",
       "      <td>Antolín Ruiz Joaquín</td>\n",
       "      <td>[]</td>\n",
       "    </tr>\n",
       "    <tr>\n",
       "      <th>2501</th>\n",
       "      <td>2501</td>\n",
       "      <td>56372585100</td>\n",
       "      <td>9</td>\n",
       "      <td>9-s2.0-56372585100</td>\n",
       "      <td>NaN</td>\n",
       "      <td>Ruiz Diego</td>\n",
       "      <td>['Engineering (all)', 'Energy (all)', 'Environ...</td>\n",
       "    </tr>\n",
       "    <tr>\n",
       "      <th>2755</th>\n",
       "      <td>2755</td>\n",
       "      <td>56725441400</td>\n",
       "      <td>3</td>\n",
       "      <td>9-s2.0-56725441400</td>\n",
       "      <td>NaN</td>\n",
       "      <td>Piñar Francisco Javier Ruiz</td>\n",
       "      <td>['Computer Science (all)', 'Engineering (all)']</td>\n",
       "    </tr>\n",
       "    <tr>\n",
       "      <th>2759</th>\n",
       "      <td>2759</td>\n",
       "      <td>56728732700</td>\n",
       "      <td>2</td>\n",
       "      <td>9-s2.0-56728732700</td>\n",
       "      <td>NaN</td>\n",
       "      <td>Juan-Ruiz Jesǔs</td>\n",
       "      <td>['Decision Sciences (all)', 'Social Sciences (...</td>\n",
       "    </tr>\n",
       "    <tr>\n",
       "      <th>2805</th>\n",
       "      <td>2805</td>\n",
       "      <td>56816911600</td>\n",
       "      <td>3</td>\n",
       "      <td>9-s2.0-56816911600</td>\n",
       "      <td>NaN</td>\n",
       "      <td>Ruiz-Barajas S.</td>\n",
       "      <td>['Earth and Planetary Sciences (all)', 'Multid...</td>\n",
       "    </tr>\n",
       "    <tr>\n",
       "      <th>2881</th>\n",
       "      <td>2881</td>\n",
       "      <td>56970668200</td>\n",
       "      <td>1</td>\n",
       "      <td>9-s2.0-56970668200</td>\n",
       "      <td>NaN</td>\n",
       "      <td>Ruiz F.</td>\n",
       "      <td>[]</td>\n",
       "    </tr>\n",
       "    <tr>\n",
       "      <th>3012</th>\n",
       "      <td>3012</td>\n",
       "      <td>57188659192</td>\n",
       "      <td>2</td>\n",
       "      <td>9-s2.0-57188659192</td>\n",
       "      <td>NaN</td>\n",
       "      <td>Ruiz Fco Javier</td>\n",
       "      <td>['Computer Science (all)', 'Engineering (all)'...</td>\n",
       "    </tr>\n",
       "    <tr>\n",
       "      <th>3170</th>\n",
       "      <td>3170</td>\n",
       "      <td>57191247665</td>\n",
       "      <td>2</td>\n",
       "      <td>9-s2.0-57191247665</td>\n",
       "      <td>NaN</td>\n",
       "      <td>Ruiz C.</td>\n",
       "      <td>[]</td>\n",
       "    </tr>\n",
       "    <tr>\n",
       "      <th>3276</th>\n",
       "      <td>3276</td>\n",
       "      <td>57192976067</td>\n",
       "      <td>2</td>\n",
       "      <td>9-s2.0-57192976067</td>\n",
       "      <td>NaN</td>\n",
       "      <td>Ruiz Luis Miguel</td>\n",
       "      <td>['Health Professions  (all)', 'Psychology (all)']</td>\n",
       "    </tr>\n",
       "    <tr>\n",
       "      <th>3349</th>\n",
       "      <td>3349</td>\n",
       "      <td>57194034285</td>\n",
       "      <td>2</td>\n",
       "      <td>9-s2.0-57194034285</td>\n",
       "      <td>0000-0001-6288-0961</td>\n",
       "      <td>Lozano Ruiz J. A.</td>\n",
       "      <td>['Computer Science (all)', 'Engineering (all)'...</td>\n",
       "    </tr>\n",
       "    <tr>\n",
       "      <th>3460</th>\n",
       "      <td>3460</td>\n",
       "      <td>57195446182</td>\n",
       "      <td>2</td>\n",
       "      <td>9-s2.0-57195446182</td>\n",
       "      <td>NaN</td>\n",
       "      <td>Ruiz-De-Azcárate Carmen</td>\n",
       "      <td>['Computer Science (all)', 'Arts and Humanitie...</td>\n",
       "    </tr>\n",
       "    <tr>\n",
       "      <th>3663</th>\n",
       "      <td>3663</td>\n",
       "      <td>57198198737</td>\n",
       "      <td>15</td>\n",
       "      <td>9-s2.0-57198198737</td>\n",
       "      <td>NaN</td>\n",
       "      <td>Ruiz Carlos</td>\n",
       "      <td>['Computer Science (all)', 'Mathematics (all)'...</td>\n",
       "    </tr>\n",
       "    <tr>\n",
       "      <th>3700</th>\n",
       "      <td>3700</td>\n",
       "      <td>57198663890</td>\n",
       "      <td>1</td>\n",
       "      <td>9-s2.0-57198663890</td>\n",
       "      <td>NaN</td>\n",
       "      <td>Ruiz J. G.C.Gálvez</td>\n",
       "      <td>['Engineering (all)', 'Materials Science (all)']</td>\n",
       "    </tr>\n",
       "    <tr>\n",
       "      <th>3766</th>\n",
       "      <td>3766</td>\n",
       "      <td>57200218913</td>\n",
       "      <td>1</td>\n",
       "      <td>9-s2.0-57200218913</td>\n",
       "      <td>NaN</td>\n",
       "      <td>Ruiz González Mariano</td>\n",
       "      <td>['Social Sciences (all)', 'Engineering (all)']</td>\n",
       "    </tr>\n",
       "    <tr>\n",
       "      <th>3886</th>\n",
       "      <td>3886</td>\n",
       "      <td>57202338205</td>\n",
       "      <td>3</td>\n",
       "      <td>9-s2.0-57202338205</td>\n",
       "      <td>NaN</td>\n",
       "      <td>Menasalvas Ruiz Ernestina</td>\n",
       "      <td>['Medicine (all)', 'Physics and Astronomy (all...</td>\n",
       "    </tr>\n",
       "    <tr>\n",
       "      <th>4008</th>\n",
       "      <td>4008</td>\n",
       "      <td>6504376083</td>\n",
       "      <td>1</td>\n",
       "      <td>9-s2.0-6504376083</td>\n",
       "      <td>NaN</td>\n",
       "      <td>Sedano Ruiz Marifeli</td>\n",
       "      <td>['Engineering (all)', 'Computer Science (all)']</td>\n",
       "    </tr>\n",
       "    <tr>\n",
       "      <th>4009</th>\n",
       "      <td>4009</td>\n",
       "      <td>6504411892</td>\n",
       "      <td>2</td>\n",
       "      <td>9-s2.0-6504411892</td>\n",
       "      <td>NaN</td>\n",
       "      <td>Maldonado-Ruiz Javier</td>\n",
       "      <td>['Earth and Planetary Sciences (all)', 'Agricu...</td>\n",
       "    </tr>\n",
       "    <tr>\n",
       "      <th>4262</th>\n",
       "      <td>4262</td>\n",
       "      <td>6507983101</td>\n",
       "      <td>4</td>\n",
       "      <td>9-s2.0-6507983101</td>\n",
       "      <td>NaN</td>\n",
       "      <td>Ruiz-Genovés Antonio J.</td>\n",
       "      <td>['Engineering (all)', 'Materials Science (all)...</td>\n",
       "    </tr>\n",
       "    <tr>\n",
       "      <th>4329</th>\n",
       "      <td>4329</td>\n",
       "      <td>6602242147</td>\n",
       "      <td>115</td>\n",
       "      <td>9-s2.0-6602242147</td>\n",
       "      <td>0000-0002-5615-6798</td>\n",
       "      <td>Menasalvas-Ruiz Ernestina</td>\n",
       "      <td>['Computer Science (all)', 'Mathematics (all)'...</td>\n",
       "    </tr>\n",
       "    <tr>\n",
       "      <th>4372</th>\n",
       "      <td>4372</td>\n",
       "      <td>6602784243</td>\n",
       "      <td>29</td>\n",
       "      <td>9-s2.0-6602784243</td>\n",
       "      <td>NaN</td>\n",
       "      <td>Ruiz-Román J. M.</td>\n",
       "      <td>['Materials Science (all)', 'Engineering (all)...</td>\n",
       "    </tr>\n",
       "    <tr>\n",
       "      <th>4490</th>\n",
       "      <td>4490</td>\n",
       "      <td>6701399335</td>\n",
       "      <td>41</td>\n",
       "      <td>9-s2.0-6701399335</td>\n",
       "      <td>NaN</td>\n",
       "      <td>Ruiz-Prieto José M.</td>\n",
       "      <td>['Materials Science (all)', 'Engineering (all)...</td>\n",
       "    </tr>\n",
       "    <tr>\n",
       "      <th>4511</th>\n",
       "      <td>4511</td>\n",
       "      <td>6701752178</td>\n",
       "      <td>2</td>\n",
       "      <td>9-s2.0-6701752178</td>\n",
       "      <td>NaN</td>\n",
       "      <td>Ruiz-Altisent M.</td>\n",
       "      <td>['Agricultural and Biological Sciences (all)',...</td>\n",
       "    </tr>\n",
       "    <tr>\n",
       "      <th>4706</th>\n",
       "      <td>4706</td>\n",
       "      <td>7101628734</td>\n",
       "      <td>14</td>\n",
       "      <td>9-s2.0-7101628734</td>\n",
       "      <td>NaN</td>\n",
       "      <td>Ruiz Guiomar</td>\n",
       "      <td>['Physics and Astronomy (all)', 'Mathematics (...</td>\n",
       "    </tr>\n",
       "    <tr>\n",
       "      <th>4767</th>\n",
       "      <td>4767</td>\n",
       "      <td>7103183790</td>\n",
       "      <td>18</td>\n",
       "      <td>9-s2.0-7103183790</td>\n",
       "      <td>NaN</td>\n",
       "      <td>Ruiz Luis Miguel</td>\n",
       "      <td>['Psychology (all)', 'Health Professions  (all...</td>\n",
       "    </tr>\n",
       "    <tr>\n",
       "      <th>4794</th>\n",
       "      <td>4794</td>\n",
       "      <td>7202458693</td>\n",
       "      <td>14</td>\n",
       "      <td>9-s2.0-7202458693</td>\n",
       "      <td>NaN</td>\n",
       "      <td>Ruiz Constantino</td>\n",
       "      <td>['Agricultural and Biological Sciences (all)',...</td>\n",
       "    </tr>\n",
       "    <tr>\n",
       "      <th>4840</th>\n",
       "      <td>4840</td>\n",
       "      <td>7402669016</td>\n",
       "      <td>8</td>\n",
       "      <td>9-s2.0-7402669016</td>\n",
       "      <td>NaN</td>\n",
       "      <td>Ruiz Margarita A.</td>\n",
       "      <td>['Medicine (all)', 'Immunology and Microbiolog...</td>\n",
       "    </tr>\n",
       "    <tr>\n",
       "      <th>4872</th>\n",
       "      <td>4872</td>\n",
       "      <td>7801484013</td>\n",
       "      <td>15</td>\n",
       "      <td>9-s2.0-7801484013</td>\n",
       "      <td>0000-0001-8275-4233</td>\n",
       "      <td>Morales-Ruiz Juan José</td>\n",
       "      <td>['Mathematics (all)', 'Physics and Astronomy (...</td>\n",
       "    </tr>\n",
       "    <tr>\n",
       "      <th>4985</th>\n",
       "      <td>4985</td>\n",
       "      <td>9271886300</td>\n",
       "      <td>111</td>\n",
       "      <td>9-s2.0-9271886300</td>\n",
       "      <td>0000-0002-1337-0110</td>\n",
       "      <td>Ruiz Mariano</td>\n",
       "      <td>['Engineering (all)', 'Energy (all)', 'Physics...</td>\n",
       "    </tr>\n",
       "  </tbody>\n",
       "</table>\n",
       "</div>"
      ],
      "text/plain": [
       "      Unnamed: 0  researcher_id  document-count                 eid  \\\n",
       "8              8    11439791100              57  9-s2.0-11439791100   \n",
       "152          152    15127684800              33  9-s2.0-15127684800   \n",
       "190          190    15922138800              42  9-s2.0-15922138800   \n",
       "239          239    16315846300               3  9-s2.0-16315846300   \n",
       "419          419    23398467600               1  9-s2.0-23398467600   \n",
       "447          447    23571041800               3  9-s2.0-23571041800   \n",
       "612          612    25629006100               4  9-s2.0-25629006100   \n",
       "956          956    36015022900              12  9-s2.0-36015022900   \n",
       "988          988    36144620400               3  9-s2.0-36144620400   \n",
       "1134        1134    36719361400              18  9-s2.0-36719361400   \n",
       "1178        1178    36860405700               2  9-s2.0-36860405700   \n",
       "1712        1712    55420403300               1  9-s2.0-55420403300   \n",
       "1954        1954    55742001000              28  9-s2.0-55742001000   \n",
       "2000        2000    55800800500               5  9-s2.0-55800800500   \n",
       "2204        2204    56015668800               1  9-s2.0-56015668800   \n",
       "2294        2294    56129253200               2  9-s2.0-56129253200   \n",
       "2313        2313    56162329900               1  9-s2.0-56162329900   \n",
       "2326        2326    56182360700              64  9-s2.0-56182360700   \n",
       "2353        2353    56207248700               4  9-s2.0-56207248700   \n",
       "2360        2360    56215359800              13  9-s2.0-56215359800   \n",
       "2372        2372    56226767500               5  9-s2.0-56226767500   \n",
       "2435        2435    56300558700               1  9-s2.0-56300558700   \n",
       "2492        2492    56358776600               1  9-s2.0-56358776600   \n",
       "2501        2501    56372585100               9  9-s2.0-56372585100   \n",
       "2755        2755    56725441400               3  9-s2.0-56725441400   \n",
       "2759        2759    56728732700               2  9-s2.0-56728732700   \n",
       "2805        2805    56816911600               3  9-s2.0-56816911600   \n",
       "2881        2881    56970668200               1  9-s2.0-56970668200   \n",
       "3012        3012    57188659192               2  9-s2.0-57188659192   \n",
       "3170        3170    57191247665               2  9-s2.0-57191247665   \n",
       "3276        3276    57192976067               2  9-s2.0-57192976067   \n",
       "3349        3349    57194034285               2  9-s2.0-57194034285   \n",
       "3460        3460    57195446182               2  9-s2.0-57195446182   \n",
       "3663        3663    57198198737              15  9-s2.0-57198198737   \n",
       "3700        3700    57198663890               1  9-s2.0-57198663890   \n",
       "3766        3766    57200218913               1  9-s2.0-57200218913   \n",
       "3886        3886    57202338205               3  9-s2.0-57202338205   \n",
       "4008        4008     6504376083               1   9-s2.0-6504376083   \n",
       "4009        4009     6504411892               2   9-s2.0-6504411892   \n",
       "4262        4262     6507983101               4   9-s2.0-6507983101   \n",
       "4329        4329     6602242147             115   9-s2.0-6602242147   \n",
       "4372        4372     6602784243              29   9-s2.0-6602784243   \n",
       "4490        4490     6701399335              41   9-s2.0-6701399335   \n",
       "4511        4511     6701752178               2   9-s2.0-6701752178   \n",
       "4706        4706     7101628734              14   9-s2.0-7101628734   \n",
       "4767        4767     7103183790              18   9-s2.0-7103183790   \n",
       "4794        4794     7202458693              14   9-s2.0-7202458693   \n",
       "4840        4840     7402669016               8   9-s2.0-7402669016   \n",
       "4872        4872     7801484013              15   9-s2.0-7801484013   \n",
       "4985        4985     9271886300             111   9-s2.0-9271886300   \n",
       "\n",
       "                    orcid                         name  \\\n",
       "8                     NaN           Ruiz-Hervías Jesús   \n",
       "152   0000-0001-6656-6507             Ruiz-García Luis   \n",
       "190                   NaN            Condés-Ruiz Sonia   \n",
       "239                   NaN           Haro Mercedes Ruiz   \n",
       "419                   NaN                  Ruiz J. C G   \n",
       "447                   NaN      Ruiz-Tapiador Ildefonso   \n",
       "612                   NaN             Ruiz Rosa M.Arce   \n",
       "956   0000-0001-6824-0455         Carpeño Ruiz Antonio   \n",
       "988                   NaN           Ruiz-Mayor Antonio   \n",
       "1134                  NaN       Ruiz-Pérez Luis Miguel   \n",
       "1178                  NaN                Ruiz Fernando   \n",
       "1712                  NaN              Ardanaz Ruiz C.   \n",
       "1954                  NaN       Ruiz Antonio Carnerero   \n",
       "2000                  NaN            Campo-Ruiz Ingrid   \n",
       "2204                  NaN           De Juan Ruiz Jesús   \n",
       "2294                  NaN          Acevedo-Ruiz Manuel   \n",
       "2313                  NaN          Sánchez Javier Ruiz   \n",
       "2326                  NaN      Ruiz-Altisent Margarita   \n",
       "2353                  NaN                 Ruiz Alberto   \n",
       "2360                  NaN       Pérez Luis Miguel Ruiz   \n",
       "2372                  NaN         Salmerón-Ruiz Tamara   \n",
       "2435                  NaN      Arredondo-Ruiz Fernando   \n",
       "2492                  NaN         Antolín Ruiz Joaquín   \n",
       "2501                  NaN                   Ruiz Diego   \n",
       "2755                  NaN  Piñar Francisco Javier Ruiz   \n",
       "2759                  NaN              Juan-Ruiz Jesǔs   \n",
       "2805                  NaN              Ruiz-Barajas S.   \n",
       "2881                  NaN                      Ruiz F.   \n",
       "3012                  NaN              Ruiz Fco Javier   \n",
       "3170                  NaN                      Ruiz C.   \n",
       "3276                  NaN             Ruiz Luis Miguel   \n",
       "3349  0000-0001-6288-0961            Lozano Ruiz J. A.   \n",
       "3460                  NaN      Ruiz-De-Azcárate Carmen   \n",
       "3663                  NaN                  Ruiz Carlos   \n",
       "3700                  NaN           Ruiz J. G.C.Gálvez   \n",
       "3766                  NaN        Ruiz González Mariano   \n",
       "3886                  NaN    Menasalvas Ruiz Ernestina   \n",
       "4008                  NaN         Sedano Ruiz Marifeli   \n",
       "4009                  NaN        Maldonado-Ruiz Javier   \n",
       "4262                  NaN      Ruiz-Genovés Antonio J.   \n",
       "4329  0000-0002-5615-6798    Menasalvas-Ruiz Ernestina   \n",
       "4372                  NaN             Ruiz-Román J. M.   \n",
       "4490                  NaN          Ruiz-Prieto José M.   \n",
       "4511                  NaN             Ruiz-Altisent M.   \n",
       "4706                  NaN                 Ruiz Guiomar   \n",
       "4767                  NaN             Ruiz Luis Miguel   \n",
       "4794                  NaN             Ruiz Constantino   \n",
       "4840                  NaN            Ruiz Margarita A.   \n",
       "4872  0000-0001-8275-4233       Morales-Ruiz Juan José   \n",
       "4985  0000-0002-1337-0110                 Ruiz Mariano   \n",
       "\n",
       "                                           subject-area  \n",
       "8     ['Materials Science (all)', 'Engineering (all)...  \n",
       "152   ['Agricultural and Biological Sciences (all)',...  \n",
       "190   ['Agricultural and Biological Sciences (all)',...  \n",
       "239   ['Engineering (all)', 'Earth and Planetary Sci...  \n",
       "419                                                  []  \n",
       "447   ['Agricultural and Biological Sciences (all)',...  \n",
       "612      ['Engineering (all)', 'Social Sciences (all)']  \n",
       "956   ['Engineering (all)', 'Social Sciences (all)',...  \n",
       "988   ['Computer Science (all)', 'Engineering (all)'...  \n",
       "1134  ['Health Professions  (all)', 'Psychology (all...  \n",
       "1178  ['Engineering (all)', 'Computer Science (all)'...  \n",
       "1712                                                 []  \n",
       "1954  ['Engineering (all)', 'Computer Science (all)'...  \n",
       "2000  ['Engineering (all)', 'Arts and Humanities (al...  \n",
       "2204                                                 []  \n",
       "2294  ['Decision Sciences (all)', 'Social Sciences (...  \n",
       "2313                                                 []  \n",
       "2326  ['Agricultural and Biological Sciences (all)',...  \n",
       "2353  ['Computer Science (all)', 'Mathematics (all)'...  \n",
       "2360  ['Psychology (all)', 'Health Professions  (all...  \n",
       "2372  ['Engineering (all)', 'Computer Science (all)'...  \n",
       "2435                                                 []  \n",
       "2492                                                 []  \n",
       "2501  ['Engineering (all)', 'Energy (all)', 'Environ...  \n",
       "2755    ['Computer Science (all)', 'Engineering (all)']  \n",
       "2759  ['Decision Sciences (all)', 'Social Sciences (...  \n",
       "2805  ['Earth and Planetary Sciences (all)', 'Multid...  \n",
       "2881                                                 []  \n",
       "3012  ['Computer Science (all)', 'Engineering (all)'...  \n",
       "3170                                                 []  \n",
       "3276  ['Health Professions  (all)', 'Psychology (all)']  \n",
       "3349  ['Computer Science (all)', 'Engineering (all)'...  \n",
       "3460  ['Computer Science (all)', 'Arts and Humanitie...  \n",
       "3663  ['Computer Science (all)', 'Mathematics (all)'...  \n",
       "3700   ['Engineering (all)', 'Materials Science (all)']  \n",
       "3766     ['Social Sciences (all)', 'Engineering (all)']  \n",
       "3886  ['Medicine (all)', 'Physics and Astronomy (all...  \n",
       "4008    ['Engineering (all)', 'Computer Science (all)']  \n",
       "4009  ['Earth and Planetary Sciences (all)', 'Agricu...  \n",
       "4262  ['Engineering (all)', 'Materials Science (all)...  \n",
       "4329  ['Computer Science (all)', 'Mathematics (all)'...  \n",
       "4372  ['Materials Science (all)', 'Engineering (all)...  \n",
       "4490  ['Materials Science (all)', 'Engineering (all)...  \n",
       "4511  ['Agricultural and Biological Sciences (all)',...  \n",
       "4706  ['Physics and Astronomy (all)', 'Mathematics (...  \n",
       "4767  ['Psychology (all)', 'Health Professions  (all...  \n",
       "4794  ['Agricultural and Biological Sciences (all)',...  \n",
       "4840  ['Medicine (all)', 'Immunology and Microbiolog...  \n",
       "4872  ['Mathematics (all)', 'Physics and Astronomy (...  \n",
       "4985  ['Engineering (all)', 'Energy (all)', 'Physics...  "
      ]
     },
     "execution_count": 55,
     "metadata": {},
     "output_type": "execute_result"
    }
   ],
   "source": [
    "# Searching for a researcher whom name contains the string 'Ruiz'\n",
    "researchers.loc[researchers[\"name\"].str.contains(\"Ruiz\")]"
   ]
  },
  {
   "cell_type": "markdown",
   "metadata": {
    "collapsed": true
   },
   "source": [
    "### Access to data column\n",
    "We can retrieve the columns data as if the dataframe was a dictionary"
   ]
  },
  {
   "cell_type": "code",
   "execution_count": 56,
   "metadata": {},
   "outputs": [
    {
     "data": {
      "text/plain": [
       "0       9-s2.0-10242585700\n",
       "1       9-s2.0-10339103300\n",
       "2       9-s2.0-10642146600\n",
       "3       9-s2.0-10738897100\n",
       "4       9-s2.0-10739463200\n",
       "               ...        \n",
       "4995     9-s2.0-9739187500\n",
       "4996     9-s2.0-9739675900\n",
       "4997     9-s2.0-9844650600\n",
       "4998     9-s2.0-9846432700\n",
       "4999     9-s2.0-9846695900\n",
       "Name: eid, Length: 5000, dtype: object"
      ]
     },
     "execution_count": 56,
     "metadata": {},
     "output_type": "execute_result"
    }
   ],
   "source": [
    "# Get a single column\n",
    "researchers[\"eid\"]"
   ]
  },
  {
   "cell_type": "code",
   "execution_count": 57,
   "metadata": {},
   "outputs": [
    {
     "data": {
      "text/html": [
       "<div>\n",
       "<style scoped>\n",
       "    .dataframe tbody tr th:only-of-type {\n",
       "        vertical-align: middle;\n",
       "    }\n",
       "\n",
       "    .dataframe tbody tr th {\n",
       "        vertical-align: top;\n",
       "    }\n",
       "\n",
       "    .dataframe thead th {\n",
       "        text-align: right;\n",
       "    }\n",
       "</style>\n",
       "<table border=\"1\" class=\"dataframe\">\n",
       "  <thead>\n",
       "    <tr style=\"text-align: right;\">\n",
       "      <th></th>\n",
       "      <th>name</th>\n",
       "      <th>eid</th>\n",
       "    </tr>\n",
       "  </thead>\n",
       "  <tbody>\n",
       "    <tr>\n",
       "      <th>0</th>\n",
       "      <td>Ruckhaus Edna</td>\n",
       "      <td>9-s2.0-10242585700</td>\n",
       "    </tr>\n",
       "    <tr>\n",
       "      <th>1</th>\n",
       "      <td>Larena Jorge Bernabéu</td>\n",
       "      <td>9-s2.0-10339103300</td>\n",
       "    </tr>\n",
       "    <tr>\n",
       "      <th>2</th>\n",
       "      <td>Querol Aragón E.</td>\n",
       "      <td>9-s2.0-10642146600</td>\n",
       "    </tr>\n",
       "    <tr>\n",
       "      <th>3</th>\n",
       "      <td>Morató M. C.</td>\n",
       "      <td>9-s2.0-10738897100</td>\n",
       "    </tr>\n",
       "    <tr>\n",
       "      <th>4</th>\n",
       "      <td>Aracil-Santonja Rafael</td>\n",
       "      <td>9-s2.0-10739463200</td>\n",
       "    </tr>\n",
       "    <tr>\n",
       "      <th>...</th>\n",
       "      <td>...</td>\n",
       "      <td>...</td>\n",
       "    </tr>\n",
       "    <tr>\n",
       "      <th>4995</th>\n",
       "      <td>Burén Stefan</td>\n",
       "      <td>9-s2.0-9739187500</td>\n",
       "    </tr>\n",
       "    <tr>\n",
       "      <th>4996</th>\n",
       "      <td>Peral Pablo Reina</td>\n",
       "      <td>9-s2.0-9739675900</td>\n",
       "    </tr>\n",
       "    <tr>\n",
       "      <th>4997</th>\n",
       "      <td>Pedrero Antonio</td>\n",
       "      <td>9-s2.0-9844650600</td>\n",
       "    </tr>\n",
       "    <tr>\n",
       "      <th>4998</th>\n",
       "      <td>Lehugeur Benjamin</td>\n",
       "      <td>9-s2.0-9846432700</td>\n",
       "    </tr>\n",
       "    <tr>\n",
       "      <th>4999</th>\n",
       "      <td>Sánchez-Álvarez José J.</td>\n",
       "      <td>9-s2.0-9846695900</td>\n",
       "    </tr>\n",
       "  </tbody>\n",
       "</table>\n",
       "<p>5000 rows × 2 columns</p>\n",
       "</div>"
      ],
      "text/plain": [
       "                         name                 eid\n",
       "0               Ruckhaus Edna  9-s2.0-10242585700\n",
       "1       Larena Jorge Bernabéu  9-s2.0-10339103300\n",
       "2            Querol Aragón E.  9-s2.0-10642146600\n",
       "3                Morató M. C.  9-s2.0-10738897100\n",
       "4      Aracil-Santonja Rafael  9-s2.0-10739463200\n",
       "...                       ...                 ...\n",
       "4995             Burén Stefan   9-s2.0-9739187500\n",
       "4996        Peral Pablo Reina   9-s2.0-9739675900\n",
       "4997          Pedrero Antonio   9-s2.0-9844650600\n",
       "4998        Lehugeur Benjamin   9-s2.0-9846432700\n",
       "4999  Sánchez-Álvarez José J.   9-s2.0-9846695900\n",
       "\n",
       "[5000 rows x 2 columns]"
      ]
     },
     "execution_count": 57,
     "metadata": {},
     "output_type": "execute_result"
    }
   ],
   "source": [
    "# Get multiple columns (this returns a dataframe with the selected columns)\n",
    "researchers[[\"name\",\"eid\"]]"
   ]
  },
  {
   "cell_type": "code",
   "execution_count": 58,
   "metadata": {},
   "outputs": [
    {
     "data": {
      "text/plain": [
       "array([ 33,  10,   2,   8,  22,   1,   7,  57,   5,   3,  37,  21,   9,\n",
       "         6,  32,  64,  26,   4,  12,  58,  13,  74, 121,  50,  40,  14,\n",
       "       209,  29,  11,  35,  93,  24,  17,  41,  23,  42,  25,  30,  28,\n",
       "        15,  27,  39,  38,  19,  46,  54,  18,  34,  55,  16,  51,  73,\n",
       "        43,  70, 120,  60,  31,  61, 183,  36, 226, 119,  20,  45,  68,\n",
       "        88, 100, 108, 180,  72,  82,  47,  67, 187,  87,  62,  63,  59,\n",
       "       123,  52,  53,  56, 130, 158, 103,  85,  49,  80, 101,  92,  65,\n",
       "        76, 131,  44, 104,  81, 134,  91, 151, 107, 112, 105,  69,  84,\n",
       "       140,  48, 219,  78,  94,  75,  77, 136, 115, 126,  79, 122, 156,\n",
       "       102, 132, 106, 150, 278, 243, 117, 144, 237, 253,  71, 205, 335,\n",
       "       201, 168, 181,  83,  89, 113,  66, 281, 110, 133, 394,  90, 228,\n",
       "       192, 124, 265, 111])"
      ]
     },
     "execution_count": 58,
     "metadata": {},
     "output_type": "execute_result"
    }
   ],
   "source": [
    "# Get unique values from a column\n",
    "researchers[\"document-count\"].unique()"
   ]
  },
  {
   "cell_type": "markdown",
   "metadata": {},
   "source": [
    "### Modifing data in a column"
   ]
  },
  {
   "cell_type": "code",
   "execution_count": 59,
   "metadata": {},
   "outputs": [
    {
     "name": "stdout",
     "output_type": "stream",
     "text": [
      "Original\n",
      "0       33\n",
      "1       10\n",
      "2        2\n",
      "3        8\n",
      "4        2\n",
      "        ..\n",
      "4995    12\n",
      "4996     3\n",
      "4997    19\n",
      "4998     7\n",
      "4999     6\n",
      "Name: document-count, Length: 5000, dtype: int64\n",
      "Modified\n",
      "0       35\n",
      "1       12\n",
      "2        4\n",
      "3       10\n",
      "4        4\n",
      "        ..\n",
      "4995    14\n",
      "4996     5\n",
      "4997    21\n",
      "4998     9\n",
      "4999     8\n",
      "Name: document-count, Length: 5000, dtype: int64\n"
     ]
    }
   ],
   "source": [
    "# We can apply a method to each value in a column\n",
    "def sum_two(x):\n",
    "    return x+2\n",
    "print(\"Original\")\n",
    "print(researchers[\"document-count\"])\n",
    "print(\"Modified\")\n",
    "# Apply and the name of the method we want to execute over each value\n",
    "print(researchers[\"document-count\"].apply(sum_two))"
   ]
  },
  {
   "cell_type": "code",
   "execution_count": 60,
   "metadata": {},
   "outputs": [
    {
     "name": "stdout",
     "output_type": "stream",
     "text": [
      "0       35\n",
      "1       12\n",
      "2        4\n",
      "3       10\n",
      "4        4\n",
      "        ..\n",
      "4995    14\n",
      "4996     5\n",
      "4997    21\n",
      "4998     9\n",
      "4999     8\n",
      "Name: document-count, Length: 5000, dtype: int64\n"
     ]
    }
   ],
   "source": [
    "# ADVANCED\n",
    "# We can do the same by using lambdas\n",
    "print(researchers[\"document-count\"].apply(lambda x: x+2))"
   ]
  },
  {
   "cell_type": "markdown",
   "metadata": {},
   "source": [
    "### Creating new columns"
   ]
  },
  {
   "cell_type": "code",
   "execution_count": 61,
   "metadata": {},
   "outputs": [],
   "source": [
    "researchers[\"newDocumentCount\"] = researchers[\"document-count\"].apply(sum_two)"
   ]
  },
  {
   "cell_type": "markdown",
   "metadata": {
    "collapsed": true
   },
   "source": [
    "### Group by\n",
    "We can execute group by orders similar to SQL.\n",
    "\n",
    "http://pandas.pydata.org/pandas-docs/stable/groupby.html"
   ]
  },
  {
   "cell_type": "code",
   "execution_count": 62,
   "metadata": {},
   "outputs": [
    {
     "data": {
      "text/html": [
       "<div>\n",
       "<style scoped>\n",
       "    .dataframe tbody tr th:only-of-type {\n",
       "        vertical-align: middle;\n",
       "    }\n",
       "\n",
       "    .dataframe tbody tr th {\n",
       "        vertical-align: top;\n",
       "    }\n",
       "\n",
       "    .dataframe thead th {\n",
       "        text-align: right;\n",
       "    }\n",
       "</style>\n",
       "<table border=\"1\" class=\"dataframe\">\n",
       "  <thead>\n",
       "    <tr style=\"text-align: right;\">\n",
       "      <th></th>\n",
       "      <th>abstract</th>\n",
       "      <th>authors</th>\n",
       "      <th>citations</th>\n",
       "      <th>doi</th>\n",
       "      <th>eIssn</th>\n",
       "      <th>eid</th>\n",
       "      <th>isbn</th>\n",
       "      <th>issn</th>\n",
       "      <th>keywords</th>\n",
       "      <th>link</th>\n",
       "      <th>openaccess</th>\n",
       "      <th>pages</th>\n",
       "      <th>pii</th>\n",
       "      <th>publciationType</th>\n",
       "      <th>publicationDate</th>\n",
       "      <th>sponsor</th>\n",
       "      <th>title</th>\n",
       "      <th>type</th>\n",
       "    </tr>\n",
       "    <tr>\n",
       "      <th>publicationName</th>\n",
       "      <th></th>\n",
       "      <th></th>\n",
       "      <th></th>\n",
       "      <th></th>\n",
       "      <th></th>\n",
       "      <th></th>\n",
       "      <th></th>\n",
       "      <th></th>\n",
       "      <th></th>\n",
       "      <th></th>\n",
       "      <th></th>\n",
       "      <th></th>\n",
       "      <th></th>\n",
       "      <th></th>\n",
       "      <th></th>\n",
       "      <th></th>\n",
       "      <th></th>\n",
       "      <th></th>\n",
       "    </tr>\n",
       "  </thead>\n",
       "  <tbody>\n",
       "    <tr>\n",
       "      <th>\"2008 26th International Conference on Microelectronics, Proceedings, MIEL 2008\"</th>\n",
       "      <td>1</td>\n",
       "      <td>1</td>\n",
       "      <td>1</td>\n",
       "      <td>1</td>\n",
       "      <td>0</td>\n",
       "      <td>1</td>\n",
       "      <td>1</td>\n",
       "      <td>0</td>\n",
       "      <td>1</td>\n",
       "      <td>1</td>\n",
       "      <td>1</td>\n",
       "      <td>1</td>\n",
       "      <td>0</td>\n",
       "      <td>1</td>\n",
       "      <td>1</td>\n",
       "      <td>0</td>\n",
       "      <td>1</td>\n",
       "      <td>1</td>\n",
       "    </tr>\n",
       "    <tr>\n",
       "      <th>\"Physics Letters, Section B: Nuclear, Elementary Particle and High-Energy Physics\"</th>\n",
       "      <td>3</td>\n",
       "      <td>3</td>\n",
       "      <td>3</td>\n",
       "      <td>3</td>\n",
       "      <td>0</td>\n",
       "      <td>3</td>\n",
       "      <td>0</td>\n",
       "      <td>3</td>\n",
       "      <td>3</td>\n",
       "      <td>3</td>\n",
       "      <td>3</td>\n",
       "      <td>3</td>\n",
       "      <td>3</td>\n",
       "      <td>3</td>\n",
       "      <td>3</td>\n",
       "      <td>0</td>\n",
       "      <td>3</td>\n",
       "      <td>3</td>\n",
       "    </tr>\n",
       "    <tr>\n",
       "      <th>10th AIAA Aviation Technology, Integration and Operations Conference 2010, ATIO 2010</th>\n",
       "      <td>1</td>\n",
       "      <td>1</td>\n",
       "      <td>1</td>\n",
       "      <td>1</td>\n",
       "      <td>0</td>\n",
       "      <td>1</td>\n",
       "      <td>1</td>\n",
       "      <td>0</td>\n",
       "      <td>1</td>\n",
       "      <td>1</td>\n",
       "      <td>1</td>\n",
       "      <td>1</td>\n",
       "      <td>0</td>\n",
       "      <td>1</td>\n",
       "      <td>1</td>\n",
       "      <td>0</td>\n",
       "      <td>1</td>\n",
       "      <td>1</td>\n",
       "    </tr>\n",
       "    <tr>\n",
       "      <th>10th Conference of Telecommunication, Media and Internet Techno-Economics, CTTE 2011</th>\n",
       "      <td>1</td>\n",
       "      <td>1</td>\n",
       "      <td>1</td>\n",
       "      <td>0</td>\n",
       "      <td>0</td>\n",
       "      <td>1</td>\n",
       "      <td>1</td>\n",
       "      <td>0</td>\n",
       "      <td>1</td>\n",
       "      <td>1</td>\n",
       "      <td>1</td>\n",
       "      <td>1</td>\n",
       "      <td>0</td>\n",
       "      <td>1</td>\n",
       "      <td>1</td>\n",
       "      <td>0</td>\n",
       "      <td>1</td>\n",
       "      <td>1</td>\n",
       "    </tr>\n",
       "    <tr>\n",
       "      <th>10th European Conference on Turbomachinery Fluid Dynamics and Thermodynamics, ETC 2013</th>\n",
       "      <td>2</td>\n",
       "      <td>2</td>\n",
       "      <td>2</td>\n",
       "      <td>0</td>\n",
       "      <td>0</td>\n",
       "      <td>2</td>\n",
       "      <td>0</td>\n",
       "      <td>2</td>\n",
       "      <td>2</td>\n",
       "      <td>2</td>\n",
       "      <td>2</td>\n",
       "      <td>2</td>\n",
       "      <td>0</td>\n",
       "      <td>2</td>\n",
       "      <td>2</td>\n",
       "      <td>0</td>\n",
       "      <td>2</td>\n",
       "      <td>2</td>\n",
       "    </tr>\n",
       "    <tr>\n",
       "      <th>...</th>\n",
       "      <td>...</td>\n",
       "      <td>...</td>\n",
       "      <td>...</td>\n",
       "      <td>...</td>\n",
       "      <td>...</td>\n",
       "      <td>...</td>\n",
       "      <td>...</td>\n",
       "      <td>...</td>\n",
       "      <td>...</td>\n",
       "      <td>...</td>\n",
       "      <td>...</td>\n",
       "      <td>...</td>\n",
       "      <td>...</td>\n",
       "      <td>...</td>\n",
       "      <td>...</td>\n",
       "      <td>...</td>\n",
       "      <td>...</td>\n",
       "      <td>...</td>\n",
       "    </tr>\n",
       "    <tr>\n",
       "      <th>iiWAS2009 - The 11th International Conference on Information Integration and Web-based Applications and Services</th>\n",
       "      <td>1</td>\n",
       "      <td>1</td>\n",
       "      <td>1</td>\n",
       "      <td>1</td>\n",
       "      <td>0</td>\n",
       "      <td>1</td>\n",
       "      <td>1</td>\n",
       "      <td>0</td>\n",
       "      <td>1</td>\n",
       "      <td>1</td>\n",
       "      <td>1</td>\n",
       "      <td>1</td>\n",
       "      <td>0</td>\n",
       "      <td>1</td>\n",
       "      <td>1</td>\n",
       "      <td>0</td>\n",
       "      <td>1</td>\n",
       "      <td>1</td>\n",
       "    </tr>\n",
       "    <tr>\n",
       "      <th>iiWAS2010 - 12th International Conference on Information Integration and Web-Based Applications and Services</th>\n",
       "      <td>1</td>\n",
       "      <td>1</td>\n",
       "      <td>1</td>\n",
       "      <td>1</td>\n",
       "      <td>0</td>\n",
       "      <td>1</td>\n",
       "      <td>1</td>\n",
       "      <td>0</td>\n",
       "      <td>1</td>\n",
       "      <td>1</td>\n",
       "      <td>1</td>\n",
       "      <td>1</td>\n",
       "      <td>0</td>\n",
       "      <td>1</td>\n",
       "      <td>1</td>\n",
       "      <td>0</td>\n",
       "      <td>1</td>\n",
       "      <td>1</td>\n",
       "    </tr>\n",
       "    <tr>\n",
       "      <th>mBio</th>\n",
       "      <td>1</td>\n",
       "      <td>1</td>\n",
       "      <td>1</td>\n",
       "      <td>1</td>\n",
       "      <td>1</td>\n",
       "      <td>1</td>\n",
       "      <td>0</td>\n",
       "      <td>1</td>\n",
       "      <td>1</td>\n",
       "      <td>1</td>\n",
       "      <td>1</td>\n",
       "      <td>1</td>\n",
       "      <td>0</td>\n",
       "      <td>1</td>\n",
       "      <td>1</td>\n",
       "      <td>1</td>\n",
       "      <td>1</td>\n",
       "      <td>1</td>\n",
       "    </tr>\n",
       "    <tr>\n",
       "      <th>physica status solidi (a)</th>\n",
       "      <td>1</td>\n",
       "      <td>2</td>\n",
       "      <td>2</td>\n",
       "      <td>2</td>\n",
       "      <td>2</td>\n",
       "      <td>2</td>\n",
       "      <td>0</td>\n",
       "      <td>2</td>\n",
       "      <td>2</td>\n",
       "      <td>2</td>\n",
       "      <td>2</td>\n",
       "      <td>2</td>\n",
       "      <td>0</td>\n",
       "      <td>2</td>\n",
       "      <td>2</td>\n",
       "      <td>0</td>\n",
       "      <td>2</td>\n",
       "      <td>2</td>\n",
       "    </tr>\n",
       "    <tr>\n",
       "      <th>v I</th>\n",
       "      <td>4</td>\n",
       "      <td>4</td>\n",
       "      <td>4</td>\n",
       "      <td>0</td>\n",
       "      <td>0</td>\n",
       "      <td>4</td>\n",
       "      <td>0</td>\n",
       "      <td>0</td>\n",
       "      <td>4</td>\n",
       "      <td>4</td>\n",
       "      <td>4</td>\n",
       "      <td>4</td>\n",
       "      <td>0</td>\n",
       "      <td>4</td>\n",
       "      <td>4</td>\n",
       "      <td>0</td>\n",
       "      <td>4</td>\n",
       "      <td>4</td>\n",
       "    </tr>\n",
       "  </tbody>\n",
       "</table>\n",
       "<p>7815 rows × 18 columns</p>\n",
       "</div>"
      ],
      "text/plain": [
       "                                                    abstract  authors  \\\n",
       "publicationName                                                         \n",
       "\"2008 26th International Conference on Microele...         1        1   \n",
       "\"Physics Letters, Section B: Nuclear, Elementar...         3        3   \n",
       "10th AIAA Aviation Technology, Integration and ...         1        1   \n",
       "10th Conference of Telecommunication, Media and...         1        1   \n",
       "10th European Conference on Turbomachinery Flui...         2        2   \n",
       "...                                                      ...      ...   \n",
       "iiWAS2009 - The 11th International Conference o...         1        1   \n",
       "iiWAS2010 - 12th International Conference on In...         1        1   \n",
       "mBio                                                       1        1   \n",
       "physica status solidi (a)                                  1        2   \n",
       "v I                                                        4        4   \n",
       "\n",
       "                                                    citations  doi  eIssn  \\\n",
       "publicationName                                                             \n",
       "\"2008 26th International Conference on Microele...          1    1      0   \n",
       "\"Physics Letters, Section B: Nuclear, Elementar...          3    3      0   \n",
       "10th AIAA Aviation Technology, Integration and ...          1    1      0   \n",
       "10th Conference of Telecommunication, Media and...          1    0      0   \n",
       "10th European Conference on Turbomachinery Flui...          2    0      0   \n",
       "...                                                       ...  ...    ...   \n",
       "iiWAS2009 - The 11th International Conference o...          1    1      0   \n",
       "iiWAS2010 - 12th International Conference on In...          1    1      0   \n",
       "mBio                                                        1    1      1   \n",
       "physica status solidi (a)                                   2    2      2   \n",
       "v I                                                         4    0      0   \n",
       "\n",
       "                                                    eid  isbn  issn  keywords  \\\n",
       "publicationName                                                                 \n",
       "\"2008 26th International Conference on Microele...    1     1     0         1   \n",
       "\"Physics Letters, Section B: Nuclear, Elementar...    3     0     3         3   \n",
       "10th AIAA Aviation Technology, Integration and ...    1     1     0         1   \n",
       "10th Conference of Telecommunication, Media and...    1     1     0         1   \n",
       "10th European Conference on Turbomachinery Flui...    2     0     2         2   \n",
       "...                                                 ...   ...   ...       ...   \n",
       "iiWAS2009 - The 11th International Conference o...    1     1     0         1   \n",
       "iiWAS2010 - 12th International Conference on In...    1     1     0         1   \n",
       "mBio                                                  1     0     1         1   \n",
       "physica status solidi (a)                             2     0     2         2   \n",
       "v I                                                   4     0     0         4   \n",
       "\n",
       "                                                    link  openaccess  pages  \\\n",
       "publicationName                                                               \n",
       "\"2008 26th International Conference on Microele...     1           1      1   \n",
       "\"Physics Letters, Section B: Nuclear, Elementar...     3           3      3   \n",
       "10th AIAA Aviation Technology, Integration and ...     1           1      1   \n",
       "10th Conference of Telecommunication, Media and...     1           1      1   \n",
       "10th European Conference on Turbomachinery Flui...     2           2      2   \n",
       "...                                                  ...         ...    ...   \n",
       "iiWAS2009 - The 11th International Conference o...     1           1      1   \n",
       "iiWAS2010 - 12th International Conference on In...     1           1      1   \n",
       "mBio                                                   1           1      1   \n",
       "physica status solidi (a)                              2           2      2   \n",
       "v I                                                    4           4      4   \n",
       "\n",
       "                                                    pii  publciationType  \\\n",
       "publicationName                                                            \n",
       "\"2008 26th International Conference on Microele...    0                1   \n",
       "\"Physics Letters, Section B: Nuclear, Elementar...    3                3   \n",
       "10th AIAA Aviation Technology, Integration and ...    0                1   \n",
       "10th Conference of Telecommunication, Media and...    0                1   \n",
       "10th European Conference on Turbomachinery Flui...    0                2   \n",
       "...                                                 ...              ...   \n",
       "iiWAS2009 - The 11th International Conference o...    0                1   \n",
       "iiWAS2010 - 12th International Conference on In...    0                1   \n",
       "mBio                                                  0                1   \n",
       "physica status solidi (a)                             0                2   \n",
       "v I                                                   0                4   \n",
       "\n",
       "                                                    publicationDate  sponsor  \\\n",
       "publicationName                                                                \n",
       "\"2008 26th International Conference on Microele...                1        0   \n",
       "\"Physics Letters, Section B: Nuclear, Elementar...                3        0   \n",
       "10th AIAA Aviation Technology, Integration and ...                1        0   \n",
       "10th Conference of Telecommunication, Media and...                1        0   \n",
       "10th European Conference on Turbomachinery Flui...                2        0   \n",
       "...                                                             ...      ...   \n",
       "iiWAS2009 - The 11th International Conference o...                1        0   \n",
       "iiWAS2010 - 12th International Conference on In...                1        0   \n",
       "mBio                                                              1        1   \n",
       "physica status solidi (a)                                         2        0   \n",
       "v I                                                               4        0   \n",
       "\n",
       "                                                    title  type  \n",
       "publicationName                                                  \n",
       "\"2008 26th International Conference on Microele...      1     1  \n",
       "\"Physics Letters, Section B: Nuclear, Elementar...      3     3  \n",
       "10th AIAA Aviation Technology, Integration and ...      1     1  \n",
       "10th Conference of Telecommunication, Media and...      1     1  \n",
       "10th European Conference on Turbomachinery Flui...      2     2  \n",
       "...                                                   ...   ...  \n",
       "iiWAS2009 - The 11th International Conference o...      1     1  \n",
       "iiWAS2010 - 12th International Conference on In...      1     1  \n",
       "mBio                                                    1     1  \n",
       "physica status solidi (a)                               2     2  \n",
       "v I                                                     4     4  \n",
       "\n",
       "[7815 rows x 18 columns]"
      ]
     },
     "execution_count": 62,
     "metadata": {},
     "output_type": "execute_result"
    }
   ],
   "source": [
    "# Group by publication name and counting the number of values for each column\n",
    "publications.groupby(publications[\"publicationName\"]).count()\n",
    "# There are many predefined aggregating functions like: first,last, median, sum, avg, max, min, etc"
   ]
  },
  {
   "cell_type": "markdown",
   "metadata": {
    "collapsed": true
   },
   "source": [
    "### Join dataframes\n",
    "There are methods to perform joins of two or more dataframes, but these methods can be difficult to understand. In these workshops we are goint to perform only one merge, and the code to do it wil be provided.\n",
    "\n",
    "Just for curisosity the guide of all join types can be glanced thorugh: http://pandas.pydata.org/pandas-docs/stable/merging.html#merging-join"
   ]
  },
  {
   "cell_type": "code",
   "execution_count": 63,
   "metadata": {
    "scrolled": false
   },
   "outputs": [
    {
     "data": {
      "text/html": [
       "<div>\n",
       "<style scoped>\n",
       "    .dataframe tbody tr th:only-of-type {\n",
       "        vertical-align: middle;\n",
       "    }\n",
       "\n",
       "    .dataframe tbody tr th {\n",
       "        vertical-align: top;\n",
       "    }\n",
       "\n",
       "    .dataframe thead th {\n",
       "        text-align: right;\n",
       "    }\n",
       "</style>\n",
       "<table border=\"1\" class=\"dataframe\">\n",
       "  <thead>\n",
       "    <tr style=\"text-align: right;\">\n",
       "      <th></th>\n",
       "      <th>Unnamed: 0</th>\n",
       "      <th>researcher_id</th>\n",
       "      <th>document-count</th>\n",
       "      <th>eid_x</th>\n",
       "      <th>orcid</th>\n",
       "      <th>name</th>\n",
       "      <th>subject-area</th>\n",
       "      <th>newDocumentCount</th>\n",
       "      <th>abstract</th>\n",
       "      <th>authors</th>\n",
       "      <th>...</th>\n",
       "      <th>openaccess</th>\n",
       "      <th>pages</th>\n",
       "      <th>pii</th>\n",
       "      <th>publciationType</th>\n",
       "      <th>publicationDate</th>\n",
       "      <th>publicationName</th>\n",
       "      <th>sponsor</th>\n",
       "      <th>title</th>\n",
       "      <th>type</th>\n",
       "      <th>variable</th>\n",
       "    </tr>\n",
       "  </thead>\n",
       "  <tbody>\n",
       "    <tr>\n",
       "      <th>0</th>\n",
       "      <td>0</td>\n",
       "      <td>10242585700</td>\n",
       "      <td>33</td>\n",
       "      <td>9-s2.0-10242585700</td>\n",
       "      <td>NaN</td>\n",
       "      <td>Ruckhaus Edna</td>\n",
       "      <td>['Computer Science (all)', 'Mathematics (all)'...</td>\n",
       "      <td>35</td>\n",
       "      <td>We address the problem of answering Web ontolo...</td>\n",
       "      <td>[10242585700, 57198103843, 7202765018]</td>\n",
       "      <td>...</td>\n",
       "      <td>False</td>\n",
       "      <td>16</td>\n",
       "      <td>S1471068407003225</td>\n",
       "      <td>Journal</td>\n",
       "      <td>2008</td>\n",
       "      <td>Theory and Practice of Logic Programming</td>\n",
       "      <td>None</td>\n",
       "      <td>Query evaluation and optimization in the seman...</td>\n",
       "      <td>Article</td>\n",
       "      <td>0</td>\n",
       "    </tr>\n",
       "    <tr>\n",
       "      <th>1</th>\n",
       "      <td>0</td>\n",
       "      <td>10242585700</td>\n",
       "      <td>33</td>\n",
       "      <td>9-s2.0-10242585700</td>\n",
       "      <td>NaN</td>\n",
       "      <td>Ruckhaus Edna</td>\n",
       "      <td>['Computer Science (all)', 'Mathematics (all)'...</td>\n",
       "      <td>35</td>\n",
       "      <td>Ontologies play an important role in the Seman...</td>\n",
       "      <td>[10242585700, 7202765018]</td>\n",
       "      <td>...</td>\n",
       "      <td>False</td>\n",
       "      <td>3</td>\n",
       "      <td>None</td>\n",
       "      <td>Conference Proceeding</td>\n",
       "      <td>2003</td>\n",
       "      <td>Proceedings of the Interntational Workshop on ...</td>\n",
       "      <td>None</td>\n",
       "      <td>XWebSOGO: An ontology language to describe and...</td>\n",
       "      <td>Conference Paper</td>\n",
       "      <td>0</td>\n",
       "    </tr>\n",
       "    <tr>\n",
       "      <th>2</th>\n",
       "      <td>0</td>\n",
       "      <td>10242585700</td>\n",
       "      <td>33</td>\n",
       "      <td>9-s2.0-10242585700</td>\n",
       "      <td>NaN</td>\n",
       "      <td>Ruckhaus Edna</td>\n",
       "      <td>['Computer Science (all)', 'Mathematics (all)'...</td>\n",
       "      <td>35</td>\n",
       "      <td>In real-world RDF documents, property subject ...</td>\n",
       "      <td>[10242585700, 7202765018]</td>\n",
       "      <td>...</td>\n",
       "      <td>False</td>\n",
       "      <td>11</td>\n",
       "      <td>None</td>\n",
       "      <td>Conference Proceeding</td>\n",
       "      <td>2010</td>\n",
       "      <td>CEUR Workshop Proceedings</td>\n",
       "      <td>None</td>\n",
       "      <td>The BAY-HIST prediction model for RDF documents</td>\n",
       "      <td>Conference Paper</td>\n",
       "      <td>0</td>\n",
       "    </tr>\n",
       "    <tr>\n",
       "      <th>3</th>\n",
       "      <td>0</td>\n",
       "      <td>10242585700</td>\n",
       "      <td>33</td>\n",
       "      <td>9-s2.0-10242585700</td>\n",
       "      <td>NaN</td>\n",
       "      <td>Ruckhaus Edna</td>\n",
       "      <td>['Computer Science (all)', 'Mathematics (all)'...</td>\n",
       "      <td>35</td>\n",
       "      <td>We address the problem of answering Web ontolo...</td>\n",
       "      <td>[10242585700, 57198103843, 7202765018]</td>\n",
       "      <td>...</td>\n",
       "      <td>False</td>\n",
       "      <td>15</td>\n",
       "      <td>None</td>\n",
       "      <td>Conference Proceeding</td>\n",
       "      <td>2006</td>\n",
       "      <td>CEUR Workshop Proceedings</td>\n",
       "      <td>None</td>\n",
       "      <td>Query evaluation and optimization in the seman...</td>\n",
       "      <td>Article</td>\n",
       "      <td>0</td>\n",
       "    </tr>\n",
       "    <tr>\n",
       "      <th>4</th>\n",
       "      <td>0</td>\n",
       "      <td>10242585700</td>\n",
       "      <td>33</td>\n",
       "      <td>9-s2.0-10242585700</td>\n",
       "      <td>NaN</td>\n",
       "      <td>Ruckhaus Edna</td>\n",
       "      <td>['Computer Science (all)', 'Mathematics (all)'...</td>\n",
       "      <td>35</td>\n",
       "      <td>In this paper we describe the OnEQL system, a ...</td>\n",
       "      <td>[10242585700, 57198103843, 7202765018]</td>\n",
       "      <td>...</td>\n",
       "      <td>False</td>\n",
       "      <td>13</td>\n",
       "      <td>None</td>\n",
       "      <td>Conference Proceeding</td>\n",
       "      <td>2007</td>\n",
       "      <td>CEUR Workshop Proceedings</td>\n",
       "      <td>None</td>\n",
       "      <td>OnEQL: An ontology efficient query language en...</td>\n",
       "      <td>Conference Paper</td>\n",
       "      <td>0</td>\n",
       "    </tr>\n",
       "    <tr>\n",
       "      <th>...</th>\n",
       "      <td>...</td>\n",
       "      <td>...</td>\n",
       "      <td>...</td>\n",
       "      <td>...</td>\n",
       "      <td>...</td>\n",
       "      <td>...</td>\n",
       "      <td>...</td>\n",
       "      <td>...</td>\n",
       "      <td>...</td>\n",
       "      <td>...</td>\n",
       "      <td>...</td>\n",
       "      <td>...</td>\n",
       "      <td>...</td>\n",
       "      <td>...</td>\n",
       "      <td>...</td>\n",
       "      <td>...</td>\n",
       "      <td>...</td>\n",
       "      <td>...</td>\n",
       "      <td>...</td>\n",
       "      <td>...</td>\n",
       "      <td>...</td>\n",
       "    </tr>\n",
       "    <tr>\n",
       "      <th>62506</th>\n",
       "      <td>4999</td>\n",
       "      <td>9846695900</td>\n",
       "      <td>6</td>\n",
       "      <td>9-s2.0-9846695900</td>\n",
       "      <td>NaN</td>\n",
       "      <td>Sánchez-Álvarez José J.</td>\n",
       "      <td>['Physics and Astronomy (all)', 'Engineering (...</td>\n",
       "      <td>8</td>\n",
       "      <td>This paper deals with the optimal streaky pert...</td>\n",
       "      <td>[9846695900, 55943016100, 35433609500]</td>\n",
       "      <td>...</td>\n",
       "      <td>False</td>\n",
       "      <td>0</td>\n",
       "      <td>None</td>\n",
       "      <td>Journal</td>\n",
       "      <td>2011</td>\n",
       "      <td>Physics of Fluids</td>\n",
       "      <td>None</td>\n",
       "      <td>Optimal streaks in a Falkner-Skan boundary layer</td>\n",
       "      <td>Article</td>\n",
       "      <td>0</td>\n",
       "    </tr>\n",
       "    <tr>\n",
       "      <th>62507</th>\n",
       "      <td>4999</td>\n",
       "      <td>9846695900</td>\n",
       "      <td>6</td>\n",
       "      <td>9-s2.0-9846695900</td>\n",
       "      <td>NaN</td>\n",
       "      <td>Sánchez-Álvarez José J.</td>\n",
       "      <td>['Physics and Astronomy (all)', 'Engineering (...</td>\n",
       "      <td>8</td>\n",
       "      <td>Rayleigh-Bénard convection is investigated in ...</td>\n",
       "      <td>[9846695900, 6701499845, 6507318717, 23079792200]</td>\n",
       "      <td>...</td>\n",
       "      <td>False</td>\n",
       "      <td>0</td>\n",
       "      <td>None</td>\n",
       "      <td>Journal</td>\n",
       "      <td>2014</td>\n",
       "      <td>Physical Review E - Statistical, Nonlinear, an...</td>\n",
       "      <td>National Aeronautics and Space Administration</td>\n",
       "      <td>Geometry effects on Rayleigh-Bénard convection...</td>\n",
       "      <td>Article</td>\n",
       "      <td>0</td>\n",
       "    </tr>\n",
       "    <tr>\n",
       "      <th>62508</th>\n",
       "      <td>4999</td>\n",
       "      <td>9846695900</td>\n",
       "      <td>6</td>\n",
       "      <td>9-s2.0-9846695900</td>\n",
       "      <td>NaN</td>\n",
       "      <td>Sánchez-Álvarez José J.</td>\n",
       "      <td>['Physics and Astronomy (all)', 'Engineering (...</td>\n",
       "      <td>8</td>\n",
       "      <td>The Küppers-Lortz instability occurs in rotati...</td>\n",
       "      <td>[9846695900, 6701499845, 6602877725, 23079792200]</td>\n",
       "      <td>...</td>\n",
       "      <td>False</td>\n",
       "      <td>0</td>\n",
       "      <td>None</td>\n",
       "      <td>Journal</td>\n",
       "      <td>2005</td>\n",
       "      <td>Physical Review E - Statistical, Nonlinear, an...</td>\n",
       "      <td>None</td>\n",
       "      <td>Square patterns in rotating Rayleigh-Bénard co...</td>\n",
       "      <td>Article</td>\n",
       "      <td>0</td>\n",
       "    </tr>\n",
       "    <tr>\n",
       "      <th>62509</th>\n",
       "      <td>4999</td>\n",
       "      <td>9846695900</td>\n",
       "      <td>6</td>\n",
       "      <td>9-s2.0-9846695900</td>\n",
       "      <td>NaN</td>\n",
       "      <td>Sánchez-Álvarez José J.</td>\n",
       "      <td>['Physics and Astronomy (all)', 'Engineering (...</td>\n",
       "      <td>8</td>\n",
       "      <td>The characteristics of time-dependent swirling...</td>\n",
       "      <td>[6602877725, 9846695900, 6701499845, 171347649...</td>\n",
       "      <td>...</td>\n",
       "      <td>False</td>\n",
       "      <td>14</td>\n",
       "      <td>None</td>\n",
       "      <td>Journal</td>\n",
       "      <td>2009</td>\n",
       "      <td>Geophysical and Astrophysical Fluid Dynamics</td>\n",
       "      <td>Universidad de Navarra</td>\n",
       "      <td>Numerical and experimental study of the time-d...</td>\n",
       "      <td>Article</td>\n",
       "      <td>1</td>\n",
       "    </tr>\n",
       "    <tr>\n",
       "      <th>62510</th>\n",
       "      <td>4999</td>\n",
       "      <td>9846695900</td>\n",
       "      <td>6</td>\n",
       "      <td>9-s2.0-9846695900</td>\n",
       "      <td>NaN</td>\n",
       "      <td>Sánchez-Álvarez José J.</td>\n",
       "      <td>['Physics and Astronomy (all)', 'Engineering (...</td>\n",
       "      <td>8</td>\n",
       "      <td>Pattern formation in a rotating Rayleigh-Bénar...</td>\n",
       "      <td>[7003445405, 7003329450, 6701499845, 984669590...</td>\n",
       "      <td>...</td>\n",
       "      <td>False</td>\n",
       "      <td>5</td>\n",
       "      <td>None</td>\n",
       "      <td>Conference Proceeding</td>\n",
       "      <td>2005</td>\n",
       "      <td>4th International Symposium on Turbulence and ...</td>\n",
       "      <td>None</td>\n",
       "      <td>Pattern formation in Rayleigh-Bénard convectio...</td>\n",
       "      <td>Conference Paper</td>\n",
       "      <td>3</td>\n",
       "    </tr>\n",
       "  </tbody>\n",
       "</table>\n",
       "<p>62511 rows × 28 columns</p>\n",
       "</div>"
      ],
      "text/plain": [
       "       Unnamed: 0  researcher_id  document-count               eid_x orcid  \\\n",
       "0               0    10242585700              33  9-s2.0-10242585700   NaN   \n",
       "1               0    10242585700              33  9-s2.0-10242585700   NaN   \n",
       "2               0    10242585700              33  9-s2.0-10242585700   NaN   \n",
       "3               0    10242585700              33  9-s2.0-10242585700   NaN   \n",
       "4               0    10242585700              33  9-s2.0-10242585700   NaN   \n",
       "...           ...            ...             ...                 ...   ...   \n",
       "62506        4999     9846695900               6   9-s2.0-9846695900   NaN   \n",
       "62507        4999     9846695900               6   9-s2.0-9846695900   NaN   \n",
       "62508        4999     9846695900               6   9-s2.0-9846695900   NaN   \n",
       "62509        4999     9846695900               6   9-s2.0-9846695900   NaN   \n",
       "62510        4999     9846695900               6   9-s2.0-9846695900   NaN   \n",
       "\n",
       "                          name  \\\n",
       "0                Ruckhaus Edna   \n",
       "1                Ruckhaus Edna   \n",
       "2                Ruckhaus Edna   \n",
       "3                Ruckhaus Edna   \n",
       "4                Ruckhaus Edna   \n",
       "...                        ...   \n",
       "62506  Sánchez-Álvarez José J.   \n",
       "62507  Sánchez-Álvarez José J.   \n",
       "62508  Sánchez-Álvarez José J.   \n",
       "62509  Sánchez-Álvarez José J.   \n",
       "62510  Sánchez-Álvarez José J.   \n",
       "\n",
       "                                            subject-area  newDocumentCount  \\\n",
       "0      ['Computer Science (all)', 'Mathematics (all)'...                35   \n",
       "1      ['Computer Science (all)', 'Mathematics (all)'...                35   \n",
       "2      ['Computer Science (all)', 'Mathematics (all)'...                35   \n",
       "3      ['Computer Science (all)', 'Mathematics (all)'...                35   \n",
       "4      ['Computer Science (all)', 'Mathematics (all)'...                35   \n",
       "...                                                  ...               ...   \n",
       "62506  ['Physics and Astronomy (all)', 'Engineering (...                 8   \n",
       "62507  ['Physics and Astronomy (all)', 'Engineering (...                 8   \n",
       "62508  ['Physics and Astronomy (all)', 'Engineering (...                 8   \n",
       "62509  ['Physics and Astronomy (all)', 'Engineering (...                 8   \n",
       "62510  ['Physics and Astronomy (all)', 'Engineering (...                 8   \n",
       "\n",
       "                                                abstract  \\\n",
       "0      We address the problem of answering Web ontolo...   \n",
       "1      Ontologies play an important role in the Seman...   \n",
       "2      In real-world RDF documents, property subject ...   \n",
       "3      We address the problem of answering Web ontolo...   \n",
       "4      In this paper we describe the OnEQL system, a ...   \n",
       "...                                                  ...   \n",
       "62506  This paper deals with the optimal streaky pert...   \n",
       "62507  Rayleigh-Bénard convection is investigated in ...   \n",
       "62508  The Küppers-Lortz instability occurs in rotati...   \n",
       "62509  The characteristics of time-dependent swirling...   \n",
       "62510  Pattern formation in a rotating Rayleigh-Bénar...   \n",
       "\n",
       "                                                 authors  ...  openaccess  \\\n",
       "0                 [10242585700, 57198103843, 7202765018]  ...       False   \n",
       "1                              [10242585700, 7202765018]  ...       False   \n",
       "2                              [10242585700, 7202765018]  ...       False   \n",
       "3                 [10242585700, 57198103843, 7202765018]  ...       False   \n",
       "4                 [10242585700, 57198103843, 7202765018]  ...       False   \n",
       "...                                                  ...  ...         ...   \n",
       "62506             [9846695900, 55943016100, 35433609500]  ...       False   \n",
       "62507  [9846695900, 6701499845, 6507318717, 23079792200]  ...       False   \n",
       "62508  [9846695900, 6701499845, 6602877725, 23079792200]  ...       False   \n",
       "62509  [6602877725, 9846695900, 6701499845, 171347649...  ...       False   \n",
       "62510  [7003445405, 7003329450, 6701499845, 984669590...  ...       False   \n",
       "\n",
       "      pages                pii        publciationType publicationDate  \\\n",
       "0        16  S1471068407003225                Journal            2008   \n",
       "1         3               None  Conference Proceeding            2003   \n",
       "2        11               None  Conference Proceeding            2010   \n",
       "3        15               None  Conference Proceeding            2006   \n",
       "4        13               None  Conference Proceeding            2007   \n",
       "...     ...                ...                    ...             ...   \n",
       "62506     0               None                Journal            2011   \n",
       "62507     0               None                Journal            2014   \n",
       "62508     0               None                Journal            2005   \n",
       "62509    14               None                Journal            2009   \n",
       "62510     5               None  Conference Proceeding            2005   \n",
       "\n",
       "                                         publicationName  \\\n",
       "0               Theory and Practice of Logic Programming   \n",
       "1      Proceedings of the Interntational Workshop on ...   \n",
       "2                              CEUR Workshop Proceedings   \n",
       "3                              CEUR Workshop Proceedings   \n",
       "4                              CEUR Workshop Proceedings   \n",
       "...                                                  ...   \n",
       "62506                                  Physics of Fluids   \n",
       "62507  Physical Review E - Statistical, Nonlinear, an...   \n",
       "62508  Physical Review E - Statistical, Nonlinear, an...   \n",
       "62509       Geophysical and Astrophysical Fluid Dynamics   \n",
       "62510  4th International Symposium on Turbulence and ...   \n",
       "\n",
       "                                             sponsor  \\\n",
       "0                                               None   \n",
       "1                                               None   \n",
       "2                                               None   \n",
       "3                                               None   \n",
       "4                                               None   \n",
       "...                                              ...   \n",
       "62506                                           None   \n",
       "62507  National Aeronautics and Space Administration   \n",
       "62508                                           None   \n",
       "62509                         Universidad de Navarra   \n",
       "62510                                           None   \n",
       "\n",
       "                                                   title              type  \\\n",
       "0      Query evaluation and optimization in the seman...           Article   \n",
       "1      XWebSOGO: An ontology language to describe and...  Conference Paper   \n",
       "2        The BAY-HIST prediction model for RDF documents  Conference Paper   \n",
       "3      Query evaluation and optimization in the seman...           Article   \n",
       "4      OnEQL: An ontology efficient query language en...  Conference Paper   \n",
       "...                                                  ...               ...   \n",
       "62506   Optimal streaks in a Falkner-Skan boundary layer           Article   \n",
       "62507  Geometry effects on Rayleigh-Bénard convection...           Article   \n",
       "62508  Square patterns in rotating Rayleigh-Bénard co...           Article   \n",
       "62509  Numerical and experimental study of the time-d...           Article   \n",
       "62510  Pattern formation in Rayleigh-Bénard convectio...  Conference Paper   \n",
       "\n",
       "       variable  \n",
       "0             0  \n",
       "1             0  \n",
       "2             0  \n",
       "3             0  \n",
       "4             0  \n",
       "...         ...  \n",
       "62506         0  \n",
       "62507         0  \n",
       "62508         0  \n",
       "62509         1  \n",
       "62510         3  \n",
       "\n",
       "[62511 rows x 28 columns]"
      ]
     },
     "execution_count": 63,
     "metadata": {},
     "output_type": "execute_result"
    }
   ],
   "source": [
    "# This join will creates a new dataframe wich contains one row for each researcher and each publication of that researcher\n",
    "# Including those publications in which is not the first author\n",
    "\n",
    "# Create a row for each author of each publication\n",
    "publications_expanded = publications.authors.apply(pd.Series) \\\n",
    "    .merge(publications, right_index = True, left_index = True) \\\n",
    "    .melt(id_vars = publications.columns, value_name = \"researcher_id\") \\\n",
    "    .dropna(subset=[\"researcher_id\"])\n",
    "\n",
    "# Change the type of the index to int\n",
    "publications_expanded[\"researcher_id\"] = publications_expanded[\"researcher_id\"].astype(\"int64\")\n",
    "\n",
    "# Merge both dataframes\n",
    "data = pd.merge(researchers, publications_expanded, on=\"researcher_id\")\n",
    "\n",
    "data"
   ]
  },
  {
   "cell_type": "markdown",
   "metadata": {
    "collapsed": true
   },
   "source": [
    "### Plotting"
   ]
  },
  {
   "cell_type": "code",
   "execution_count": 64,
   "metadata": {
    "scrolled": false
   },
   "outputs": [
    {
     "data": {
      "image/png": "[encoded data removed]",
      "text/plain": [
       "<Figure size 504x360 with 1 Axes>"
      ]
     },
     "metadata": {
      "needs_background": "light"
     },
     "output_type": "display_data"
    }
   ],
   "source": [
    "fig, ax = plt.subplots(figsize=(7,5))\n",
    "# We just need to specify the column we want to plot\n",
    "ax.hist(researchers['document-count'])\n",
    "plt.show(fig)"
   ]
  },
  {
   "cell_type": "markdown",
   "metadata": {},
   "source": [
    "Dataframes has a plot method which internally uses matplotlib, in some cases we can just call `myData.plot()` or `myData.plot.[plot type]()` https://pandas.pydata.org/pandas-docs/stable/visualization.html.\n",
    "\n",
    "Try to use some of those plots"
   ]
  },
  {
   "cell_type": "code",
   "execution_count": null,
   "metadata": {},
   "outputs": [],
   "source": [
    "publications.groupby(publications['type'])[\"title\"].count().plot.bar()"
   ]
  },
  {
   "cell_type": "markdown",
   "metadata": {},
   "source": [
    "### Save data\n",
    "Saving a dataframe is quite similar to load data, we will use the methods ``dataframe.to_csv(filename)`` or ``dataframe.to_json(filename)``"
   ]
  },
  {
   "cell_type": "code",
   "execution_count": null,
   "metadata": {},
   "outputs": [],
   "source": [
    "researchers.to_json(\"researchers2.json\")"
   ]
  },
  {
   "cell_type": "markdown",
   "metadata": {},
   "source": [
    "## Problems\n",
    "### Problem 1\n",
    "Calculate the number of publications and researchers"
   ]
  },
  {
   "cell_type": "code",
   "execution_count": null,
   "metadata": {},
   "outputs": [],
   "source": [
    "print(\"There are \"+ str(len(publications)) + \" publications\")\n",
    "print(\"There are \"+ str(len(researchers)) + \" researchers\")"
   ]
  },
  {
   "cell_type": "markdown",
   "metadata": {},
   "source": [
    "### Problem 2\n",
    "Count the number of different authors that appear in the publications dataframe"
   ]
  },
  {
   "cell_type": "code",
   "execution_count": null,
   "metadata": {},
   "outputs": [],
   "source": [
    "print(\"There are \"+ str(len(data.researcher_id.unique())) + \" authors\")"
   ]
  },
  {
   "cell_type": "markdown",
   "metadata": {},
   "source": [
    "### Problem 3\n",
    "Plot the top30 publications with more citations (tip: you can use the method `sort_values` https://pandas.pydata.org/pandas-docs/stable/generated/pandas.DataFrame.sort_values.html)"
   ]
  },
  {
   "cell_type": "code",
   "execution_count": null,
   "metadata": {},
   "outputs": [],
   "source": [
    "publications.sort_values(\"citations\", ascending = True)[:30]"
   ]
  },
  {
   "cell_type": "markdown",
   "metadata": {},
   "source": [
    "### Problem 4\n",
    "Calculate the number of publications of any kind of each researcher by counting their publications. Then, calculate the number of article type publications of each researcher."
   ]
  },
  {
   "cell_type": "code",
   "execution_count": null,
   "metadata": {},
   "outputs": [],
   "source": [
    "data.groupby(\"researcher_id\")[\"researcher_id\"].count()"
   ]
  },
  {
   "cell_type": "code",
   "execution_count": null,
   "metadata": {},
   "outputs": [],
   "source": [
    "data[data.type==\"Article\"].groupby(\"researcher_id\")[\"researcher_id\"].count()"
   ]
  },
  {
   "cell_type": "code",
   "execution_count": null,
   "metadata": {},
   "outputs": [],
   "source": []
  }
 ],
 "metadata": {
  "celltoolbar": "Raw Cell Format",
  "kernelspec": {
   "display_name": "Python 3",
   "language": "python",
   "name": "python3"
  },
  "language_info": {
   "codemirror_mode": {
    "name": "ipython",
    "version": 3
   },
   "file_extension": ".py",
   "mimetype": "text/x-python",
   "name": "python",
   "nbconvert_exporter": "python",
   "pygments_lexer": "ipython3",
   "version": "3.7.5"
  }
 },
 "nbformat": 4,
 "nbformat_minor": 2
}
