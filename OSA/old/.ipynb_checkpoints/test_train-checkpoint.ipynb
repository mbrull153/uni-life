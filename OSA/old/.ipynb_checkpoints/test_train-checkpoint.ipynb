{
 "cells": [
  {
   "cell_type": "code",
   "execution_count": 3,
   "metadata": {},
   "outputs": [],
   "source": [
    "import pandas as pd\n",
    "import numpy as np\n",
    "import seaborn as sns\n",
    "import matplotlib.pyplot as plt\n"
   ]
  },
  {
   "cell_type": "markdown",
   "metadata": {},
   "source": [
    "# CHECKING DATAFRAME"
   ]
  },
  {
   "cell_type": "code",
   "execution_count": 5,
   "metadata": {},
   "outputs": [],
   "source": [
    "file = 'OSA_DB_UPM.xlsx'\n",
    "\n",
    "# Load spreadsheet\n",
    "xl = pd.ExcelFile(file)"
   ]
  },
  {
   "cell_type": "code",
   "execution_count": 6,
   "metadata": {},
   "outputs": [
    {
     "data": {
      "text/html": [
       "<div>\n",
       "<style scoped>\n",
       "    .dataframe tbody tr th:only-of-type {\n",
       "        vertical-align: middle;\n",
       "    }\n",
       "\n",
       "    .dataframe tbody tr th {\n",
       "        vertical-align: top;\n",
       "    }\n",
       "\n",
       "    .dataframe thead th {\n",
       "        text-align: right;\n",
       "    }\n",
       "</style>\n",
       "<table border=\"1\" class=\"dataframe\">\n",
       "  <thead>\n",
       "    <tr style=\"text-align: right;\">\n",
       "      <th></th>\n",
       "      <th>Patient</th>\n",
       "      <th>Gender</th>\n",
       "      <th>IAH</th>\n",
       "      <th>Weight</th>\n",
       "      <th>Height</th>\n",
       "      <th>Age</th>\n",
       "      <th>Cervical</th>\n",
       "    </tr>\n",
       "  </thead>\n",
       "  <tbody>\n",
       "    <tr>\n",
       "      <th>0</th>\n",
       "      <td>P0002</td>\n",
       "      <td>hombre</td>\n",
       "      <td>29.6</td>\n",
       "      <td>119</td>\n",
       "      <td>174</td>\n",
       "      <td>56</td>\n",
       "      <td>48.0</td>\n",
       "    </tr>\n",
       "    <tr>\n",
       "      <th>1</th>\n",
       "      <td>P0004</td>\n",
       "      <td>hombre</td>\n",
       "      <td>19.7</td>\n",
       "      <td>78</td>\n",
       "      <td>168</td>\n",
       "      <td>39</td>\n",
       "      <td>42.0</td>\n",
       "    </tr>\n",
       "    <tr>\n",
       "      <th>2</th>\n",
       "      <td>P0005</td>\n",
       "      <td>hombre</td>\n",
       "      <td>9.0</td>\n",
       "      <td>80</td>\n",
       "      <td>173</td>\n",
       "      <td>32</td>\n",
       "      <td>40.0</td>\n",
       "    </tr>\n",
       "    <tr>\n",
       "      <th>3</th>\n",
       "      <td>P0006</td>\n",
       "      <td>hombre</td>\n",
       "      <td>2.0</td>\n",
       "      <td>109</td>\n",
       "      <td>190</td>\n",
       "      <td>32</td>\n",
       "      <td>42.0</td>\n",
       "    </tr>\n",
       "    <tr>\n",
       "      <th>4</th>\n",
       "      <td>P0007</td>\n",
       "      <td>hombre</td>\n",
       "      <td>34.0</td>\n",
       "      <td>86</td>\n",
       "      <td>169</td>\n",
       "      <td>39</td>\n",
       "      <td>42.0</td>\n",
       "    </tr>\n",
       "  </tbody>\n",
       "</table>\n",
       "</div>"
      ],
      "text/plain": [
       "  Patient  Gender   IAH  Weight  Height  Age  Cervical\n",
       "0   P0002  hombre  29.6     119     174   56      48.0\n",
       "1   P0004  hombre  19.7      78     168   39      42.0\n",
       "2   P0005  hombre   9.0      80     173   32      40.0\n",
       "3   P0006  hombre   2.0     109     190   32      42.0\n",
       "4   P0007  hombre  34.0      86     169   39      42.0"
      ]
     },
     "execution_count": 6,
     "metadata": {},
     "output_type": "execute_result"
    }
   ],
   "source": [
    "OSA_df = xl.parse('Sheet1')\n",
    "OSA_df.head()"
   ]
  },
  {
   "cell_type": "code",
   "execution_count": 7,
   "metadata": {},
   "outputs": [],
   "source": [
    "del OSA_df['Patient']\n",
    "del OSA_df['Gender']\n"
   ]
  },
  {
   "cell_type": "markdown",
   "metadata": {},
   "source": [
    "# DEFINING DIFFERENT SPLITTING METHODS"
   ]
  },
  {
   "cell_type": "code",
   "execution_count": null,
   "metadata": {},
   "outputs": [],
   "source": [
    "#To prevent Data Snooping Bias it is important to create a testing set early on in the project."
   ]
  },
  {
   "cell_type": "code",
   "execution_count": 9,
   "metadata": {},
   "outputs": [],
   "source": [
    "import numpy as np\n",
    "from zlib import crc32\n",
    "\n",
    "#Simple random test splitter\n",
    "#Creates a random Test Set. The Test Set will be ${test_ratio}% of the whole dataset. \n",
    "#Drawback: each execution will produce a different test set.\n",
    "def simple_random_test_splitter(data, test_ratio):\n",
    "    shuffled_indices = np.random.permutation(len(data))\n",
    "    test_set_size = int(len(data) * test_ratio)\n",
    "    test_indices = shuffled_indices[:test_set_size]\n",
    "    train_indices = shuffled_indices[test_set_size:]\n",
    "    return data.iloc[train_indices], data.iloc[test_indices]\n",
    "\n",
    "#Seed random test splitter.\n",
    "#Creates a random unique Test Set based on a seed. The Test Set will be ${test_ratio}% of the whole dataset.\n",
    "#Drawback: if new data is added to the dataset the test set won't be unique.\n",
    "def seed_random_test_splitter(data, test_ratio, seed):\n",
    "    #Use a seed in the random generator to split data always on the same indices.\n",
    "    np.random.seed(seed)\n",
    "    shuffled_indices = np.random.permutation(len(data))\n",
    "    test_set_size = int(len(data) * test_ratio)\n",
    "    test_indices = shuffled_indices[:test_set_size]\n",
    "    train_indices = shuffled_indices[test_set_size:]\n",
    "    return data.iloc[train_indices], data.iloc[test_indices]\n",
    "\n",
    "#Hash randon test splitter\n",
    "#Creates a random unique Test Set based on the hash of each instance's identifier.\n",
    "#The Test Set will be ${test_ratio}% of the whole dataset.\n",
    "#DrawBack: Dataset needs a unique identifier column to work.\n",
    "#If no unique identifier exists, an index can be used.\n",
    "#An alternative to using the row index is to build a unique identifier joining two columns.\n",
    "def test_set_check(identifier, test_ratio):\n",
    "    #Checks if the hash of the identifier is < than ${test_ratio}%\n",
    "    return crc32(np.int64(identifier)) & 0xffffffff < test_ratio * 2**32\n",
    "\n",
    "\n",
    "def hash_random_test_splitter(data, test_ratio, id_column):\n",
    "    ids = data[id_column]\n",
    "    #Creates a two column array (id, test_set_check: True/False)\n",
    "    in_test_set = ids.apply(lambda id_: test_set_check(id_, test_ratio))\n",
    "    \n",
    "    #Values with true will be for the test set and values with false for the trainning set.\n",
    "    return data.loc[~in_test_set], data.loc[in_test_set]"
   ]
  },
  {
   "cell_type": "markdown",
   "metadata": {},
   "source": [
    "# STATING WHICH VARIABLES TO GET PREDICT AND TARGET"
   ]
  },
  {
   "cell_type": "code",
   "execution_count": 35,
   "metadata": {},
   "outputs": [
    {
     "name": "stdout",
     "output_type": "stream",
     "text": [
      "Predictors:  ['Weight', 'Height', 'Age', 'Cervical']\n"
     ]
    }
   ],
   "source": [
    "\n",
    "### Picking predictor columns\n",
    "\n",
    "# Get all the columns from the dataframe.\n",
    "columns = OSA_df.columns.tolist()\n",
    "\n",
    "# Filter the columns to remove ones we don't want.\n",
    "columns = [c for c in columns if c not in [\"IAH\",\"Gender\", \"Patient\"]]\n",
    "\n",
    "# Store the variable we'll be predicting on.\n",
    "target = \"IAH\"\n",
    "\n",
    "print('Predictors: ',columns)"
   ]
  },
  {
   "cell_type": "markdown",
   "metadata": {},
   "source": [
    "# "
   ]
  },
  {
   "cell_type": "code",
   "execution_count": 11,
   "metadata": {},
   "outputs": [],
   "source": [
    "#random training splitting 80/20\n",
    "train_df, test_df = simple_random_test_splitter(OSA_df, 0.2)"
   ]
  },
  {
   "cell_type": "code",
   "execution_count": 36,
   "metadata": {},
   "outputs": [],
   "source": [
    "#splitting with seed\n",
    "train_df, test_df = seed_random_test_splitter(OSA_df, 0.2, 42)"
   ]
  },
  {
   "cell_type": "code",
   "execution_count": 201,
   "metadata": {},
   "outputs": [],
   "source": [
    "#splittinh with hash\n",
    "OSA_with_index_df = OSA_df.reset_index()\n",
    "train_df, test_df = hash_random_test_splitter(OSA_with_index_df, 0.2, \"index\")\n",
    "\n",
    "#WE CREATE A HASH UNIQUE VALUE WITH AN INVENTED FORMULA USING WEIGHT AND HEIGHT\n",
    "OSA_with_id = OSA_df\n",
    "OSA_with_id[\"id\"] = abs(OSA_df[\"Weight\"] * 1000 + OSA_df[\"Height\"])\n",
    "\n",
    "train_df, test_df = hash_random_test_splitter(OSA_with_id, 0.2, \"id\")"
   ]
  },
  {
   "cell_type": "code",
   "execution_count": 37,
   "metadata": {},
   "outputs": [
    {
     "data": {
      "text/html": [
       "<div>\n",
       "<style scoped>\n",
       "    .dataframe tbody tr th:only-of-type {\n",
       "        vertical-align: middle;\n",
       "    }\n",
       "\n",
       "    .dataframe tbody tr th {\n",
       "        vertical-align: top;\n",
       "    }\n",
       "\n",
       "    .dataframe thead th {\n",
       "        text-align: right;\n",
       "    }\n",
       "</style>\n",
       "<table border=\"1\" class=\"dataframe\">\n",
       "  <thead>\n",
       "    <tr style=\"text-align: right;\">\n",
       "      <th></th>\n",
       "      <th>IAH</th>\n",
       "      <th>Weight</th>\n",
       "      <th>Height</th>\n",
       "      <th>Age</th>\n",
       "      <th>Cervical</th>\n",
       "    </tr>\n",
       "  </thead>\n",
       "  <tbody>\n",
       "    <tr>\n",
       "      <th>261</th>\n",
       "      <td>57.0</td>\n",
       "      <td>71</td>\n",
       "      <td>165</td>\n",
       "      <td>62</td>\n",
       "      <td>37.0</td>\n",
       "    </tr>\n",
       "    <tr>\n",
       "      <th>596</th>\n",
       "      <td>0.0</td>\n",
       "      <td>64</td>\n",
       "      <td>150</td>\n",
       "      <td>54</td>\n",
       "      <td>35.0</td>\n",
       "    </tr>\n",
       "    <tr>\n",
       "      <th>327</th>\n",
       "      <td>5.3</td>\n",
       "      <td>85</td>\n",
       "      <td>174</td>\n",
       "      <td>36</td>\n",
       "      <td>40.0</td>\n",
       "    </tr>\n",
       "    <tr>\n",
       "      <th>362</th>\n",
       "      <td>18.6</td>\n",
       "      <td>96</td>\n",
       "      <td>180</td>\n",
       "      <td>45</td>\n",
       "      <td>39.0</td>\n",
       "    </tr>\n",
       "    <tr>\n",
       "      <th>231</th>\n",
       "      <td>21.7</td>\n",
       "      <td>96</td>\n",
       "      <td>180</td>\n",
       "      <td>71</td>\n",
       "      <td>43.0</td>\n",
       "    </tr>\n",
       "    <tr>\n",
       "      <th>...</th>\n",
       "      <td>...</td>\n",
       "      <td>...</td>\n",
       "      <td>...</td>\n",
       "      <td>...</td>\n",
       "      <td>...</td>\n",
       "    </tr>\n",
       "    <tr>\n",
       "      <th>71</th>\n",
       "      <td>35.0</td>\n",
       "      <td>86</td>\n",
       "      <td>170</td>\n",
       "      <td>63</td>\n",
       "      <td>42.0</td>\n",
       "    </tr>\n",
       "    <tr>\n",
       "      <th>106</th>\n",
       "      <td>60.0</td>\n",
       "      <td>140</td>\n",
       "      <td>182</td>\n",
       "      <td>54</td>\n",
       "      <td>53.0</td>\n",
       "    </tr>\n",
       "    <tr>\n",
       "      <th>270</th>\n",
       "      <td>2.5</td>\n",
       "      <td>107</td>\n",
       "      <td>160</td>\n",
       "      <td>46</td>\n",
       "      <td>38.0</td>\n",
       "    </tr>\n",
       "    <tr>\n",
       "      <th>435</th>\n",
       "      <td>0.0</td>\n",
       "      <td>67</td>\n",
       "      <td>155</td>\n",
       "      <td>35</td>\n",
       "      <td>35.0</td>\n",
       "    </tr>\n",
       "    <tr>\n",
       "      <th>102</th>\n",
       "      <td>23.3</td>\n",
       "      <td>84</td>\n",
       "      <td>165</td>\n",
       "      <td>56</td>\n",
       "      <td>42.0</td>\n",
       "    </tr>\n",
       "  </tbody>\n",
       "</table>\n",
       "<p>510 rows × 5 columns</p>\n",
       "</div>"
      ],
      "text/plain": [
       "      IAH  Weight  Height  Age  Cervical\n",
       "261  57.0      71     165   62      37.0\n",
       "596   0.0      64     150   54      35.0\n",
       "327   5.3      85     174   36      40.0\n",
       "362  18.6      96     180   45      39.0\n",
       "231  21.7      96     180   71      43.0\n",
       "..    ...     ...     ...  ...       ...\n",
       "71   35.0      86     170   63      42.0\n",
       "106  60.0     140     182   54      53.0\n",
       "270   2.5     107     160   46      38.0\n",
       "435   0.0      67     155   35      35.0\n",
       "102  23.3      84     165   56      42.0\n",
       "\n",
       "[510 rows x 5 columns]"
      ]
     },
     "execution_count": 37,
     "metadata": {},
     "output_type": "execute_result"
    }
   ],
   "source": [
    "train_df"
   ]
  },
  {
   "cell_type": "code",
   "execution_count": 38,
   "metadata": {},
   "outputs": [
    {
     "data": {
      "text/html": [
       "<div>\n",
       "<style scoped>\n",
       "    .dataframe tbody tr th:only-of-type {\n",
       "        vertical-align: middle;\n",
       "    }\n",
       "\n",
       "    .dataframe tbody tr th {\n",
       "        vertical-align: top;\n",
       "    }\n",
       "\n",
       "    .dataframe thead th {\n",
       "        text-align: right;\n",
       "    }\n",
       "</style>\n",
       "<table border=\"1\" class=\"dataframe\">\n",
       "  <thead>\n",
       "    <tr style=\"text-align: right;\">\n",
       "      <th></th>\n",
       "      <th>IAH</th>\n",
       "      <th>Weight</th>\n",
       "      <th>Height</th>\n",
       "      <th>Age</th>\n",
       "      <th>Cervical</th>\n",
       "    </tr>\n",
       "  </thead>\n",
       "  <tbody>\n",
       "    <tr>\n",
       "      <th>260</th>\n",
       "      <td>8.9</td>\n",
       "      <td>85</td>\n",
       "      <td>151</td>\n",
       "      <td>48</td>\n",
       "      <td>39.0</td>\n",
       "    </tr>\n",
       "    <tr>\n",
       "      <th>228</th>\n",
       "      <td>40.8</td>\n",
       "      <td>105</td>\n",
       "      <td>177</td>\n",
       "      <td>50</td>\n",
       "      <td>46.0</td>\n",
       "    </tr>\n",
       "    <tr>\n",
       "      <th>31</th>\n",
       "      <td>43.0</td>\n",
       "      <td>115</td>\n",
       "      <td>182</td>\n",
       "      <td>39</td>\n",
       "      <td>50.0</td>\n",
       "    </tr>\n",
       "    <tr>\n",
       "      <th>507</th>\n",
       "      <td>45.0</td>\n",
       "      <td>100</td>\n",
       "      <td>172</td>\n",
       "      <td>49</td>\n",
       "      <td>44.0</td>\n",
       "    </tr>\n",
       "    <tr>\n",
       "      <th>503</th>\n",
       "      <td>1.7</td>\n",
       "      <td>103</td>\n",
       "      <td>166</td>\n",
       "      <td>31</td>\n",
       "      <td>38.0</td>\n",
       "    </tr>\n",
       "    <tr>\n",
       "      <th>...</th>\n",
       "      <td>...</td>\n",
       "      <td>...</td>\n",
       "      <td>...</td>\n",
       "      <td>...</td>\n",
       "      <td>...</td>\n",
       "    </tr>\n",
       "    <tr>\n",
       "      <th>72</th>\n",
       "      <td>3.3</td>\n",
       "      <td>110</td>\n",
       "      <td>191</td>\n",
       "      <td>29</td>\n",
       "      <td>46.0</td>\n",
       "    </tr>\n",
       "    <tr>\n",
       "      <th>416</th>\n",
       "      <td>5.7</td>\n",
       "      <td>67</td>\n",
       "      <td>157</td>\n",
       "      <td>51</td>\n",
       "      <td>36.0</td>\n",
       "    </tr>\n",
       "    <tr>\n",
       "      <th>174</th>\n",
       "      <td>49.0</td>\n",
       "      <td>118</td>\n",
       "      <td>181</td>\n",
       "      <td>33</td>\n",
       "      <td>44.0</td>\n",
       "    </tr>\n",
       "    <tr>\n",
       "      <th>274</th>\n",
       "      <td>3.2</td>\n",
       "      <td>72</td>\n",
       "      <td>167</td>\n",
       "      <td>51</td>\n",
       "      <td>34.0</td>\n",
       "    </tr>\n",
       "    <tr>\n",
       "      <th>518</th>\n",
       "      <td>1.4</td>\n",
       "      <td>73</td>\n",
       "      <td>173</td>\n",
       "      <td>47</td>\n",
       "      <td>38.0</td>\n",
       "    </tr>\n",
       "  </tbody>\n",
       "</table>\n",
       "<p>127 rows × 5 columns</p>\n",
       "</div>"
      ],
      "text/plain": [
       "      IAH  Weight  Height  Age  Cervical\n",
       "260   8.9      85     151   48      39.0\n",
       "228  40.8     105     177   50      46.0\n",
       "31   43.0     115     182   39      50.0\n",
       "507  45.0     100     172   49      44.0\n",
       "503   1.7     103     166   31      38.0\n",
       "..    ...     ...     ...  ...       ...\n",
       "72    3.3     110     191   29      46.0\n",
       "416   5.7      67     157   51      36.0\n",
       "174  49.0     118     181   33      44.0\n",
       "274   3.2      72     167   51      34.0\n",
       "518   1.4      73     173   47      38.0\n",
       "\n",
       "[127 rows x 5 columns]"
      ]
     },
     "execution_count": 38,
     "metadata": {},
     "output_type": "execute_result"
    }
   ],
   "source": [
    "test_df"
   ]
  },
  {
   "cell_type": "code",
   "execution_count": 39,
   "metadata": {},
   "outputs": [],
   "source": [
    "# Fitting a linear regression\n",
    "\n",
    "# Import the linear models.\n",
    "from sklearn import linear_model\n",
    "\n",
    "# Initialize the model class.\n",
    "\n",
    "model= linear_model.LinearRegression()\n",
    "\n",
    "#model= linear_model.Ridge(alpha = 0.5)\n",
    "# Fit the model to the training data.\n",
    "Trained_model=model.fit(train_df[columns], train_df[target])\n",
    "\n",
    "\n",
    "\n"
   ]
  },
  {
   "cell_type": "code",
   "execution_count": 29,
   "metadata": {},
   "outputs": [],
   "source": [
    "#Decision tree regressor\n",
    "\n",
    "from sklearn.tree import DecisionTreeRegressor\n",
    "\n",
    "model = DecisionTreeRegressor()\n",
    "Trained_model = model.fit(train_df[columns], train_df[target])"
   ]
  },
  {
   "cell_type": "code",
   "execution_count": 40,
   "metadata": {},
   "outputs": [
    {
     "name": "stdout",
     "output_type": "stream",
     "text": [
      "predictions: [22.125082984392453, 31.139135572223378, 35.86556489953645, 28.13759898835401, 18.977784968043014, 28.03771973152713, 19.517336324985987, 22.516548386648278, 32.71146545995046, 13.294118716527311, 15.423598927074469, 26.878467951846336, 23.536207663608746, 17.371570811379218, 20.53693041312128, 8.112298388022548, 17.753255332965576, 8.980809082461345, 24.655471072351222, 34.90081277222829, 13.180699352095584, 14.501049385727665, 8.564099133572523, 14.096909728654335, 26.637327406126193, 3.2900245169299005, 17.935943050149998, 24.508271401984782, 14.54287587519963, 17.52373360591503, 23.9057247655844, 18.293230535247258, 13.47368142807601, 7.189793603967562, 27.23214139714398, 17.6992822164833, 9.294470372662776, 16.575097268772257, 20.132853133849157, 28.759982589812427, 12.624521836622367, 26.43568900820446, 17.46880865521982, 13.223922313719594, 24.124410717418133, 19.44929248153417, 10.547265777540442, 34.87328474698846, 12.911144496814895, 37.87708365579722, 16.233591243085325, 18.330577312665778, 25.979790630205425, 17.811728954101707, 23.63344550744935, 11.967937075448045, 34.17219049815509, 22.694293772263723, 25.044232322752524, 29.613619082295532, 14.712488915318705, 45.20152406073967, 23.135827775071366, 26.204794412626253, 34.04480681971276, 12.401780379140927, 35.431366111421056, 21.2362727053801, 7.330633858546097, 22.91656943813862, 26.13816448130235, 27.1906939957189, 31.997251776759935, 23.132551599184875, 39.126306425542566, 25.896116858661085, 18.587985721469675, 18.66900064005186, 17.89768602371935, 11.494991504604048, 17.391004904232464, 20.78578227002306, 21.388835741630235, 5.510803828777444, 27.54083974370955, 17.788408507427942, 18.622673284859008, 8.890837911863276, 30.15988833100641, 25.6076352873345, 10.434795075230628, 19.826372354931163, 28.14923841909049, 31.725479534365196, 14.554601828962245, 17.737473873555256, 25.751241710501727, 23.549726978613197, 27.58177994886081, 25.09596707898682, 30.80796147810396, 9.37635096349879, 52.338583127325236, 30.687758672012105, 25.549540754245267, 15.653479130105016, 9.479378649052261, 36.9145249509117, 11.316804472606993, 38.029225657732624, 31.366798388139873, 26.344303564411444, 22.120961928852534, 35.429948666135104, 25.4838834497347, 38.445473167639435, 23.55965585744241, 26.04861751711002, 7.078212358069475, 15.599992236762656, 34.10778130656978, 15.900979091613063, 25.536125582776346, 12.865261960094667, 27.800593467320926, 9.300767591182986, 12.818448742828945]\n",
      "labels: [57.0, 0.0, 5.3, 18.6, 21.7, 9.5, 5.0, 44.7, 0.0, 20.0, 30.0, 3.8, 0.0, 65.0, 5.4, 15.0, 61.0, 40.9, 2.4, 28.2, 44.7, 28.0, 27.0, 7.5, 6.0, 26.0, 30.0, 20.0, 15.0, 51.6, 24.0, 30.0, 10.1, 20.3, 25.0, 43.36, 5.9, 37.0, 76.5, 24.0, 58.5, 36.0, 48.7, 24.7, 16.9, 0.0, 29.6, 7.0, 9.3, 32.5, 25.2, 4.8, 12.6, 9.5, 5.0, 19.0, 11.7, 11.9, 5.0, 14.8, 6.9, 74.3, 26.0, 55.0, 20.0, 2.5, 6.3, 6.9, 3.8, 3.4, 11.2, 8.9, 4.3, 25.2, 14.0, 17.3, 56.5, 11.3, 35.9, 54.0, 37.3, 29.6, 33.0, 27.3, 3.3, 7.5, 21.3, 19.4, 47.0, 13.5, 3.7, 4.1, 8.8, 13.0, 3.5, 4.3, 4.0, 7.3, 24.5, 7.3, 0.0, 6.5, 1.8, 42.3, 5.9, 21.4, 19.4, 7.5, 17.0, 24.0, 61.5, 69.0, 9.5, 33.1, 25.0, 7.4, 19.0, 8.1, 31.9, 0.7, 9.0, 3.0, 0.0, 29.9, 11.0, 9.0, 44.8, 5.1, 3.0, 25.8, 67.8, 30.0, 34.0, 20.8, 3.4, 19.4, 6.8, 44.6, 15.2, 0.0, 108.6, 16.2, 0.0, 20.4, 37.3, 53.6, 2.3, 14.4, 22.0, 32.0, 13.3, 50.0, 11.0, 74.0, 10.6, 0.0, 9.0, 4.0, 3.0, 53.0, 2.1, 30.0, 20.0, 9.7, 13.8, 14.1, 40.0, 56.0, 41.7, 8.0, 0.0, 22.0, 2.4, 6.6, 31.3, 21.4, 10.9, 15.0, 36.8, 19.0, 1.8, 35.3, 25.0, 60.0, 3.0, 0.0, 29.0, 35.5, 20.0, 38.6, 27.9, 2.8, 2.0, 34.0, 2.7, 65.0, 27.0, 20.2, 24.9, 0.0, 6.1, 11.0, 0.0, 10.0, 36.0, 32.0, 46.3, 0.7, 8.0, 10.2, 14.0, 17.2, 22.6, 22.3, 6.0, 6.4, 4.7, 20.7, 7.9, 6.0, 19.8, 13.2, 3.6, 11.0, 2.6, 22.0, 19.0, 35.1, 25.0, 13.8, 11.6, 23.0, 22.0, 3.4, 7.6, 22.0, 64.5, 8.2, 4.8, 9.0, 0.0, 4.9, 9.2, 33.9, 16.0, 1.0, 42.2, 3.7, 29.3, 34.0, 16.4, 2.0, 78.4, 0.7, 12.5, 0.0, 10.9, 34.0, 8.8, 19.3, 13.0, 30.0, 17.0, 38.3, 3.6, 2.8, 71.3, 102.0, 33.1, 11.2, 29.1, 46.0, 17.2, 34.3, 8.8, 36.0, 4.4, 27.0, 8.0, 54.5, 11.8, 13.6, 10.9, 25.8, 14.0, 14.5, 35.7, 14.0, 17.0, 0.0, 8.7, 38.7, 43.0, 26.0, 11.0, 1.0, 17.4, 30.0, 6.0, 4.8, 34.0, 31.0, 37.6, 13.2, 29.9, 31.0, 11.5, 45.0, 3.7, 35.0, 12.0, 8.0, 16.1, 15.0, 27.8, 5.0, 8.9, 0.0, 31.1, 4.1, 3.9, 10.4, 4.6, 10.7, 87.0, 36.6, 32.0, 0.0, 58.4, 1.9, 34.0, 15.0, 0.0, 11.6, 22.0, 14.0, 9.9, 2.6, 53.0, 5.8, 3.9, 0.0, 6.0, 24.8, 57.0, 5.7, 10.3, 4.0, 8.4, 0.0, 24.7, 33.3, 8.4, 21.9, 4.2, 6.9, 1.4, 52.3, 45.9, 51.0, 51.9, 66.0, 3.0, 2.1, 23.4, 7.0, 21.0, 10.6, 57.0, 0.0, 33.0, 2.6, 28.3, 12.1, 11.1, 9.6, 29.0, 7.0, 22.5, 4.2, 32.0, 59.6, 5.8, 6.6, 5.4, 10.8, 29.0, 19.3, 6.0, 57.1, 3.8, 84.3, 6.5, 13.5, 64.0, 15.0, 50.9, 2.5, 7.9, 45.3, 37.9, 34.0, 11.0, 9.6, 37.0, 4.6, 32.0, 12.8, 10.8, 19.4, 24.6, 27.3, 20.0, 15.6, 0.0, 108.4, 10.7, 9.2, 6.1, 32.3, 30.0, 22.6, 8.4, 52.6, 7.2, 11.0, 15.0, 4.0, 27.0, 0.0, 31.4, 30.0, 1.3, 2.0, 27.0, 25.0, 30.0, 39.6, 16.3, 52.2, 35.0, 7.1, 13.1, 11.7, 13.0, 4.4, 24.3, 11.8, 17.8, 19.7, 2.7, 10.0, 6.4, 15.2, 3.0, 6.8, 10.0, 9.0, 11.7, 2.2, 28.9, 9.2, 11.0, 5.5, 10.0, 74.0, 13.5, 9.6, 15.6, 27.9, 19.6, 17.2, 15.4, 2.0, 37.8, 10.0, 2.1, 0.0, 61.1, 10.0, 4.2, 22.5, 3.5, 27.0, 64.0, 10.2, 14.3, 50.0, 26.4, 21.7, 48.1, 2.6, 2.1, 23.6, 6.5, 23.7, 29.7, 11.0, 13.3, 30.0, 15.0, 40.0, 20.0, 16.7, 2.1, 35.0, 60.0, 2.5, 0.0, 23.3]\n"
     ]
    }
   ],
   "source": [
    "### Predicting Error\n",
    "\n",
    "# Import the scikit-learn function to compute error.\n",
    "from sklearn.metrics import mean_squared_error\n",
    "\n",
    "# Generate our predictions for the test set.\n",
    "predictions = model.predict(test_df[columns])\n",
    "\n",
    "print ('predictions:',  list(predictions))\n",
    "print ('labels:', list(train_df[target]))"
   ]
  },
  {
   "cell_type": "code",
   "execution_count": 41,
   "metadata": {},
   "outputs": [
    {
     "name": "stdout",
     "output_type": "stream",
     "text": [
      "Mean squared Error:  15.135170939040435\n"
     ]
    }
   ],
   "source": [
    "# Compute error between our test predictions and the actual values.\n",
    "MSE=mean_squared_error(predictions, test_df[target])\n",
    "MSE = np.sqrt(MSE)\n",
    "print('Mean squared Error: ', MSE)"
   ]
  },
  {
   "cell_type": "code",
   "execution_count": 42,
   "metadata": {},
   "outputs": [
    {
     "name": "stdout",
     "output_type": "stream",
     "text": [
      "r^2: 0.28\n"
     ]
    }
   ],
   "source": [
    "# Explained variance score: \n",
    "from sklearn.metrics import r2_score\n",
    "\n",
    "print('r^2: %.2f' % r2_score(test_df[target], predictions))"
   ]
  },
  {
   "cell_type": "code",
   "execution_count": 43,
   "metadata": {},
   "outputs": [
    {
     "name": "stdout",
     "output_type": "stream",
     "text": [
      "Variance score: 0.30\n"
     ]
    }
   ],
   "source": [
    "from sklearn.metrics import explained_variance_score\n",
    "\n",
    "print('Variance score: %.2f' % explained_variance_score(test_df[target], predictions, multioutput='uniform_average'))"
   ]
  },
  {
   "cell_type": "code",
   "execution_count": null,
   "metadata": {},
   "outputs": [],
   "source": []
  },
  {
   "cell_type": "code",
   "execution_count": 52,
   "metadata": {},
   "outputs": [],
   "source": [
    "from sklearn.model_selection import train_test_split\n",
    "\n",
    "#Random sampling method. Similar to simple_random_test_splitter approach.\n",
    "#More than one dataset can be included and all of them will be splitted on the same indices.\n",
    "train_set, test_set = train_test_split(OSA_df, test_size=0.2, random_state=42)"
   ]
  },
  {
   "cell_type": "code",
   "execution_count": 54,
   "metadata": {},
   "outputs": [
    {
     "data": {
      "image/png": "[encoded data removed]",
      "text/plain": [
       "<Figure size 1440x1080 with 1 Axes>"
      ]
     },
     "metadata": {
      "needs_background": "light"
     },
     "output_type": "display_data"
    }
   ],
   "source": [
    "#Stratified sampling method.\n",
    "#The population is divided homogeneous subgroups (strata). \n",
    "#The trainning and testing sets have to have the right proportion of each stratum to be representative \n",
    "#of the population.\n",
    "\n",
    "#Using the OSA dataset, given that the IAH is a very important attribute to predict \n",
    "#OSA condition we will want to ensure that the testing and trainning set are representative of the\n",
    "#various categories of OSA.\n",
    "#First we should check how the IAH is distributed:\n",
    "%matplotlib inline\n",
    "import matplotlib.pyplot as plt\n",
    "\n",
    "OSA_df[\"IAH\"].hist(bins=50, figsize=(20,15))\n",
    "plt.show()"
   ]
  },
  {
   "cell_type": "code",
   "execution_count": 70,
   "metadata": {},
   "outputs": [],
   "source": [
    "#We can see that most of the values lie between 0 and 40, and that values extend far on the right \n",
    "#compared to the left.\n",
    "\n",
    "#Now we will want to create a set of categories (stratum) with value ranges to gather the data. \n",
    "#It is important to have suficient number of instances in each stratum to prevent \n",
    "#biasing the importance of each stratum.\n",
    "\n",
    "#We are going to IAH in 3 categories:\n",
    "OSA_df[\"OSA_var\"] = pd.cut(OSA_df[\"IAH\"],\n",
    "                                  bins=[0., 10., 30., np.inf],\n",
    "                                  labels=[1,2,3])"
   ]
  },
  {
   "cell_type": "code",
   "execution_count": 71,
   "metadata": {},
   "outputs": [
    {
     "data": {
      "text/plain": [
       "<matplotlib.axes._subplots.AxesSubplot at 0x1a1d3c66a0>"
      ]
     },
     "execution_count": 71,
     "metadata": {},
     "output_type": "execute_result"
    },
    {
     "data": {
      "image/png": "[encoded data removed]",
      "text/plain": [
       "<Figure size 432x288 with 1 Axes>"
      ]
     },
     "metadata": {
      "needs_background": "light"
     },
     "output_type": "display_data"
    }
   ],
   "source": [
    "OSA_df[\"OSA_var\"].hist()"
   ]
  },
  {
   "cell_type": "code",
   "execution_count": 77,
   "metadata": {},
   "outputs": [],
   "source": [
    "#Finally we can do stratified sampling based on IAH:\n",
    "from sklearn.model_selection import StratifiedShuffleSplit\n",
    "\n",
    "#n_splits -> Nº of trainning/test samples.\n",
    "#test_size -> size of test sample (0<x<1).\n",
    "#random_state -> seed for the random generator.\n",
    "split = StratifiedShuffleSplit(n_splits=2, test_size=0.2, random_state=42)\n",
    "\n",
    "#Will go through the loop one time per n_splits.\n",
    "#for train_indices, test_indices in split.split(OSA_df, OSA_df[\"OSA_var\"]):\n",
    "  #  print(\"TRAIN:\", train_indices, \"TEST:\", test_indices)\n",
    "  #  strat_train_set = OSA_df.loc[train_indices]\n",
    "  #  strat_test_set = OSA_df.loc[test_indices]"
   ]
  }
 ],
 "metadata": {
  "kernelspec": {
   "display_name": "Python 3",
   "language": "python",
   "name": "python3"
  },
  "language_info": {
   "codemirror_mode": {
    "name": "ipython",
    "version": 3
   },
   "file_extension": ".py",
   "mimetype": "text/x-python",
   "name": "python",
   "nbconvert_exporter": "python",
   "pygments_lexer": "ipython3",
   "version": "3.7.5"
  }
 },
 "nbformat": 4,
 "nbformat_minor": 2
}
