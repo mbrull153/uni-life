{
 "cells": [
  {
   "cell_type": "markdown",
   "metadata": {
    "colab_type": "text",
    "id": "dYUgHiLyKvRj"
   },
   "source": [
    "# <font color=green>OSA case study</font>\n",
    "## <font color=dark>Feature Selection: 3.- Embedded Method <font>\n",
    "    \n",
    "    Embedded methods are iterative in a sense that takes care of each iteration of the model training process and carefully extract those features which contribute the most to the training for a particular iteration!\n",
    "\n",
    "\n",
    "### See some references on Feature Selection such as:\n",
    "\n",
    "https://machinelearningmastery.com/feature-selection-machine-learning-python/\n",
    "\n",
    "https://scikit-learn.org/stable/modules/feature_selection.html\n",
    "\n",
    "https://www.kaggle.com/jepsds/feature-selection-using-selectkbest"
   ]
  },
  {
   "cell_type": "markdown",
   "metadata": {
    "colab_type": "text",
    "id": "s4d_ME8Pei7n"
   },
   "source": [
    "<font size= 5 color=magenta>----------------------------------------------------------------</font>\n",
    "<font size= 5 color=magenta>----------------------------------------------------------------</font>\n",
    "\n",
    "## Read the aggregated (clinical variables + speecg featores) Excel file for exteme male cases"
   ]
  },
  {
   "cell_type": "code",
   "execution_count": 1,
   "metadata": {},
   "outputs": [
    {
     "name": "stdout",
     "output_type": "stream",
     "text": [
      "['Sheet1']\n"
     ]
    }
   ],
   "source": [
    "# Import pandas\n",
    "import pandas as pd\n",
    "\n",
    "# Read Excell with extreme male cases\n",
    "file = 'OSA_Aggregated_UPM.xlsx'\n",
    "\n",
    "# Load spreadsheet\n",
    "xl = pd.ExcelFile(file)\n",
    "\n",
    "# Print the sheet names\n",
    "print(xl.sheet_names)\n"
   ]
  },
  {
   "cell_type": "code",
   "execution_count": 2,
   "metadata": {},
   "outputs": [],
   "source": [
    "\n",
    "# Load a sheet into a DataFrame by name: df_OSA_extreme\n",
    "df_OSA_inner = xl.parse('Sheet1')"
   ]
  },
  {
   "cell_type": "code",
   "execution_count": 3,
   "metadata": {
    "scrolled": true
   },
   "outputs": [
    {
     "data": {
      "text/html": [
       "<div>\n",
       "<style scoped>\n",
       "    .dataframe tbody tr th:only-of-type {\n",
       "        vertical-align: middle;\n",
       "    }\n",
       "\n",
       "    .dataframe tbody tr th {\n",
       "        vertical-align: top;\n",
       "    }\n",
       "\n",
       "    .dataframe thead th {\n",
       "        text-align: right;\n",
       "    }\n",
       "</style>\n",
       "<table border=\"1\" class=\"dataframe\">\n",
       "  <thead>\n",
       "    <tr style=\"text-align: right;\">\n",
       "      <th></th>\n",
       "      <th>Patient</th>\n",
       "      <th>Gender</th>\n",
       "      <th>IAH</th>\n",
       "      <th>Weight</th>\n",
       "      <th>Height</th>\n",
       "      <th>Age</th>\n",
       "      <th>Cervical</th>\n",
       "      <th>OSA</th>\n",
       "      <th>BMI</th>\n",
       "      <th>A_Form1</th>\n",
       "      <th>...</th>\n",
       "      <th>O_Ancho3</th>\n",
       "      <th>O_Ancho4</th>\n",
       "      <th>U_Form1</th>\n",
       "      <th>U_Form2</th>\n",
       "      <th>U_Form3</th>\n",
       "      <th>U_Form4</th>\n",
       "      <th>U_Ancho1</th>\n",
       "      <th>U_Ancho2</th>\n",
       "      <th>U_Ancho3</th>\n",
       "      <th>U_Ancho4</th>\n",
       "    </tr>\n",
       "  </thead>\n",
       "  <tbody>\n",
       "    <tr>\n",
       "      <th>0</th>\n",
       "      <td>P0005</td>\n",
       "      <td>hombre</td>\n",
       "      <td>9.0</td>\n",
       "      <td>80</td>\n",
       "      <td>173</td>\n",
       "      <td>32</td>\n",
       "      <td>40</td>\n",
       "      <td>Healthy</td>\n",
       "      <td>26.729927</td>\n",
       "      <td>746.822118</td>\n",
       "      <td>...</td>\n",
       "      <td>164.953071</td>\n",
       "      <td>223.771504</td>\n",
       "      <td>328.075500</td>\n",
       "      <td>757.032914</td>\n",
       "      <td>2565.730496</td>\n",
       "      <td>3024.500134</td>\n",
       "      <td>74.718076</td>\n",
       "      <td>88.331369</td>\n",
       "      <td>128.496457</td>\n",
       "      <td>379.432142</td>\n",
       "    </tr>\n",
       "    <tr>\n",
       "      <th>1</th>\n",
       "      <td>P0006</td>\n",
       "      <td>hombre</td>\n",
       "      <td>2.0</td>\n",
       "      <td>109</td>\n",
       "      <td>190</td>\n",
       "      <td>32</td>\n",
       "      <td>42</td>\n",
       "      <td>Healthy</td>\n",
       "      <td>30.193906</td>\n",
       "      <td>741.095216</td>\n",
       "      <td>...</td>\n",
       "      <td>74.584464</td>\n",
       "      <td>216.244108</td>\n",
       "      <td>337.409601</td>\n",
       "      <td>735.000000</td>\n",
       "      <td>2532.000000</td>\n",
       "      <td>4132.186568</td>\n",
       "      <td>68.657539</td>\n",
       "      <td>192.000000</td>\n",
       "      <td>134.000000</td>\n",
       "      <td>264.337720</td>\n",
       "    </tr>\n",
       "  </tbody>\n",
       "</table>\n",
       "<p>2 rows × 49 columns</p>\n",
       "</div>"
      ],
      "text/plain": [
       "  Patient  Gender  IAH  Weight  Height  Age  Cervical      OSA        BMI  \\\n",
       "0   P0005  hombre  9.0      80     173   32        40  Healthy  26.729927   \n",
       "1   P0006  hombre  2.0     109     190   32        42  Healthy  30.193906   \n",
       "\n",
       "      A_Form1     ...        O_Ancho3    O_Ancho4     U_Form1     U_Form2  \\\n",
       "0  746.822118     ...      164.953071  223.771504  328.075500  757.032914   \n",
       "1  741.095216     ...       74.584464  216.244108  337.409601  735.000000   \n",
       "\n",
       "       U_Form3      U_Form4   U_Ancho1    U_Ancho2    U_Ancho3    U_Ancho4  \n",
       "0  2565.730496  3024.500134  74.718076   88.331369  128.496457  379.432142  \n",
       "1  2532.000000  4132.186568  68.657539  192.000000  134.000000  264.337720  \n",
       "\n",
       "[2 rows x 49 columns]"
      ]
     },
     "execution_count": 3,
     "metadata": {},
     "output_type": "execute_result"
    }
   ],
   "source": [
    "df_OSA_inner.head(2)"
   ]
  },
  {
   "cell_type": "code",
   "execution_count": 4,
   "metadata": {},
   "outputs": [],
   "source": [
    "# Prepare X and Y data \n",
    "\n",
    "import pandas\n",
    "import numpy as np\n",
    "\n",
    "array = df_OSA_inner.values\n",
    "\n",
    "# Select Features from columns 3 to 6 and 8 to 48\n",
    "X = array[:,np.r_[3:7,8:49]]\n",
    "\n",
    "# Classes are in possition 7 (OSA) \n",
    "Y = array[:,7]"
   ]
  },
  {
   "cell_type": "markdown",
   "metadata": {},
   "source": [
    "## <font color=red>NOTE: </font>\n",
    "    \n",
    "- ### The importance of using Scaling on X\n",
    "\n",
    "- ### $SelectFromModel$: Meta-transformer for selecting features based on importance weight\n",
    "\n",
    "\n",
    "    you pass a desired model to SelectFromModel() and fit it with the input data. After you have done that, it extracts the most viable features based on the importance of model weights.\n",
    "    \n",
    "    \n",
    "[From: selectfrommodel-scikit-learn](https://stackoverflow.com/questions/44954502/selectfrommodel-scikit-learn-resulting-feature-matrix-dimensions-during-trainin)"
   ]
  },
  {
   "cell_type": "code",
   "execution_count": 5,
   "metadata": {},
   "outputs": [
    {
     "name": "stderr",
     "output_type": "stream",
     "text": [
      "/Users/mariabrullmartinez/anaconda3/lib/python3.7/site-packages/sklearn/utils/validation.py:595: DataConversionWarning: Data with input dtype object was converted to float64 by StandardScaler.\n",
      "  warnings.warn(msg, DataConversionWarning)\n",
      "/Users/mariabrullmartinez/anaconda3/lib/python3.7/site-packages/sklearn/utils/validation.py:595: DataConversionWarning: Data with input dtype object was converted to float64 by StandardScaler.\n",
      "  warnings.warn(msg, DataConversionWarning)\n",
      "/Users/mariabrullmartinez/anaconda3/lib/python3.7/site-packages/sklearn/linear_model/logistic.py:433: FutureWarning: Default solver will be changed to 'lbfgs' in 0.22. Specify a solver to silence this warning.\n",
      "  FutureWarning)\n"
     ]
    },
    {
     "data": {
      "text/plain": [
       "SelectFromModel(estimator=LogisticRegression(C=0.1, class_weight=None, dual=False, fit_intercept=True,\n",
       "          intercept_scaling=1, max_iter=100, multi_class='warn',\n",
       "          n_jobs=None, penalty='l1', random_state=None, solver='warn',\n",
       "          tol=0.0001, verbose=0, warm_start=False),\n",
       "        max_features=None, norm_order=1, prefit=False, threshold=None)"
      ]
     },
     "execution_count": 5,
     "metadata": {},
     "output_type": "execute_result"
    }
   ],
   "source": [
    "from sklearn.linear_model import Lasso, LogisticRegression\n",
    "from sklearn.feature_selection import SelectFromModel\n",
    "from sklearn.preprocessing import StandardScaler\n",
    "\n",
    "scaler = StandardScaler()\n",
    "scaler.fit(X)\n",
    "\n",
    "# C : float, optional (default=1.0)\n",
    "#                       Inverse of regularization strength\n",
    "sel_ = SelectFromModel(LogisticRegression(C=0.1, penalty='l1'))\n",
    "sel_.fit(scaler.transform(X), Y)"
   ]
  },
  {
   "cell_type": "code",
   "execution_count": 6,
   "metadata": {},
   "outputs": [
    {
     "data": {
      "text/plain": [
       "array([ True, False,  True,  True, False, False, False, False, False,\n",
       "       False,  True, False, False,  True, False, False, False, False,\n",
       "       False, False, False,  True, False, False, False, False, False,\n",
       "       False, False, False, False,  True, False, False, False, False,\n",
       "       False, False, False,  True, False, False, False, False, False])"
      ]
     },
     "execution_count": 6,
     "metadata": {},
     "output_type": "execute_result"
    }
   ],
   "source": [
    "# Visualising features that were kept by the lasso regularisation\n",
    "\n",
    "sel_.get_support()"
   ]
  },
  {
   "cell_type": "code",
   "execution_count": 7,
   "metadata": {},
   "outputs": [
    {
     "name": "stdout",
     "output_type": "stream",
     "text": [
      "Selected Features: \n",
      "  ['Weight', 'Age', 'Cervical', 'A_Ancho2', 'E_Form1', 'I_Form1', 'O_Form3', 'U_Form3']\n"
     ]
    }
   ],
   "source": [
    "predictors = df_OSA_inner.columns[np.r_[3:7,8:49]]\n",
    "\n",
    "print(\"Selected Features: \\n \", list(predictors[sel_.get_support()]))"
   ]
  },
  {
   "cell_type": "markdown",
   "metadata": {},
   "source": [
    "---\n",
    "---\n",
    "\n",
    "# <font color=FF103>Using a simple interpretable model  </font>\n",
    "\n",
    "- ### For example USE a tree  max_depth=3"
   ]
  },
  {
   "cell_type": "code",
   "execution_count": 31,
   "metadata": {},
   "outputs": [],
   "source": [
    "from sklearn import tree\n",
    "from sklearn.tree import DecisionTreeClassifier\n",
    "#from sklearn.tree import DecisionTreeClassifier, plot_tree\n",
    "\n",
    "tree_model = tree.DecisionTreeClassifier(max_depth=3)\n",
    "tree_model=tree_model.fit(X,Y)"
   ]
  },
  {
   "cell_type": "code",
   "execution_count": 32,
   "metadata": {},
   "outputs": [
    {
     "ename": "AttributeError",
     "evalue": "module 'sklearn.tree' has no attribute 'plot_tree'",
     "output_type": "error",
     "traceback": [
      "\u001b[0;31m---------------------------------------------------------------------------\u001b[0m",
      "\u001b[0;31mAttributeError\u001b[0m                            Traceback (most recent call last)",
      "\u001b[0;32m<ipython-input-32-8721d258e94d>\u001b[0m in \u001b[0;36m<module>\u001b[0;34m()\u001b[0m\n\u001b[0;32m----> 1\u001b[0;31m \u001b[0mtree\u001b[0m\u001b[0;34m.\u001b[0m\u001b[0mplot_tree\u001b[0m\u001b[0;34m(\u001b[0m\u001b[0mtree_model\u001b[0m\u001b[0;34m,\u001b[0m \u001b[0mfilled\u001b[0m\u001b[0;34m=\u001b[0m\u001b[0;32mTrue\u001b[0m\u001b[0;34m)\u001b[0m\u001b[0;34m\u001b[0m\u001b[0m\n\u001b[0m\u001b[1;32m      2\u001b[0m \u001b[0;34m\u001b[0m\u001b[0m\n",
      "\u001b[0;31mAttributeError\u001b[0m: module 'sklearn.tree' has no attribute 'plot_tree'"
     ]
    }
   ],
   "source": [
    "tree.plot_tree(tree_model, filled=True) \n",
    " "
   ]
  },
  {
   "cell_type": "code",
   "execution_count": null,
   "metadata": {},
   "outputs": [
    {
     "name": "stdout",
     "output_type": "stream",
     "text": [
      "Solving environment: | "
     ]
    }
   ],
   "source": [
    "# Install if not installed (it will take time)\n",
    "#! conda install python-graphviz\n",
    "\n",
    "# Check Path\n",
    "# (Win10, Anaconda3) Make sure you have done \"conda install graphviz\"\n",
    "# I have to add to the PATH: C:\\Users\\username\\Anaconda3\\Library\\bin\\graphviz\n",
    "\n",
    "\n",
    "! conda install python-graphviz"
   ]
  },
  {
   "cell_type": "code",
   "execution_count": null,
   "metadata": {},
   "outputs": [],
   "source": [
    "from sklearn.externals.six import StringIO  \n",
    "from IPython.display import Image  \n",
    "from sklearn.tree import export_graphviz\n",
    "import pydotplus\n",
    "dot_data = StringIO()\n",
    "export_graphviz(tree_model, out_file=dot_data,  \n",
    "                filled=True, rounded=True,\n",
    "                special_characters=True,class_names=['0','1'])\n",
    "graph = pydotplus.graph_from_dot_data(dot_data.getvalue())  \n",
    "graph.write_png('OSA.png')\n",
    "Image(graph.create_png())"
   ]
  },
  {
   "cell_type": "markdown",
   "metadata": {},
   "source": [
    "## Random Forest"
   ]
  },
  {
   "cell_type": "code",
   "execution_count": 18,
   "metadata": {},
   "outputs": [
    {
     "name": "stderr",
     "output_type": "stream",
     "text": [
      "D:\\ANACONDA\\Anaconda3\\lib\\site-packages\\sklearn\\ensemble\\forest.py:245: FutureWarning: The default value of n_estimators will change from 10 in version 0.20 to 100 in 0.22.\n",
      "  \"10 in version 0.20 to 100 in 0.22.\", FutureWarning)\n"
     ]
    },
    {
     "data": {
      "text/plain": [
       "RandomForestClassifier(bootstrap=True, class_weight=None, criterion='gini',\n",
       "                       max_depth=10, max_features='auto', max_leaf_nodes=None,\n",
       "                       min_impurity_decrease=0.0, min_impurity_split=None,\n",
       "                       min_samples_leaf=1, min_samples_split=20,\n",
       "                       min_weight_fraction_leaf=0.0, n_estimators=10,\n",
       "                       n_jobs=None, oob_score=False, random_state=None,\n",
       "                       verbose=0, warm_start=False)"
      ]
     },
     "execution_count": 18,
     "metadata": {},
     "output_type": "execute_result"
    }
   ],
   "source": [
    "from sklearn.ensemble import RandomForestClassifier\n",
    "\n",
    "RF_model = RandomForestClassifier(max_depth=10,min_samples_split=20).fit(X, Y)\n",
    "RF_model.fit(X, Y)\n",
    "\n"
   ]
  },
  {
   "cell_type": "code",
   "execution_count": 19,
   "metadata": {},
   "outputs": [
    {
     "name": "stdout",
     "output_type": "stream",
     "text": [
      "Feature ranking:\n",
      "1. feature E_Ancho3 (0.121249)\n",
      "2. feature Weight (0.109565)\n",
      "3. feature BMI (0.101348)\n",
      "4. feature A_Ancho2 (0.066089)\n",
      "5. feature O_Form3 (0.047896)\n",
      "6. feature U_Form3 (0.040586)\n",
      "7. feature I_Form4 (0.034636)\n",
      "8. feature Age (0.032892)\n",
      "9. feature O_Form2 (0.032442)\n",
      "10. feature A_Form1 (0.028508)\n",
      "11. feature E_Ancho4 (0.026136)\n",
      "12. feature Cervical (0.024516)\n",
      "13. feature O_Ancho1 (0.023414)\n",
      "14. feature U_Ancho4 (0.021467)\n",
      "15. feature A_Ancho1 (0.019202)\n",
      "16. feature E_Form4 (0.018111)\n",
      "17. feature A_Ancho3 (0.018025)\n",
      "18. feature O_Form4 (0.017433)\n",
      "19. feature E_Form3 (0.016218)\n",
      "20. feature I_Form1 (0.014206)\n",
      "21. feature O_Ancho3 (0.014126)\n",
      "22. feature E_Form2 (0.013294)\n",
      "23. feature U_Ancho2 (0.012710)\n",
      "24. feature E_Ancho2 (0.012327)\n",
      "25. feature U_Form1 (0.011265)\n",
      "26. feature I_Ancho2 (0.010244)\n",
      "27. feature A_Form4 (0.009921)\n",
      "28. feature I_Form2 (0.009809)\n",
      "29. feature U_Form2 (0.009659)\n",
      "30. feature U_Ancho3 (0.009184)\n",
      "31. feature O_Ancho2 (0.008858)\n",
      "32. feature U_Ancho1 (0.008174)\n",
      "33. feature A_Ancho4 (0.008036)\n",
      "34. feature O_Ancho4 (0.007974)\n",
      "35. feature O_Form1 (0.007883)\n",
      "36. feature A_Form3 (0.007658)\n",
      "37. feature I_Form3 (0.007092)\n",
      "38. feature E_Ancho1 (0.007040)\n",
      "39. feature I_Ancho3 (0.004356)\n",
      "40. feature E_Form1 (0.003581)\n",
      "41. feature A_Form2 (0.002865)\n",
      "42. feature I_Ancho4 (0.000000)\n",
      "43. feature U_Form4 (0.000000)\n",
      "44. feature Height (0.000000)\n",
      "45. feature I_Ancho1 (0.000000)\n"
     ]
    },
    {
     "data": {
      "image/png": "[encoded data removed]",
      "text/plain": [
       "<Figure size 1008x576 with 1 Axes>"
      ]
     },
     "metadata": {
      "needs_background": "light"
     },
     "output_type": "display_data"
    }
   ],
   "source": [
    "import matplotlib.pyplot as plt\n",
    "%matplotlib inline\n",
    "\n",
    "labels = df_OSA_inner.iloc[:,np.r_[3:7,8:49]].columns\n",
    "importances = RF_model.feature_importances_\n",
    "std = np.std([tree.feature_importances_ for tree in RF_model.estimators_],\n",
    "             axis=0)\n",
    "indices = np.argsort(importances)[::-1]\n",
    "\n",
    "# Print the feature ranking\n",
    "print(\"Feature ranking:\")\n",
    "\n",
    "for f in range(X.shape[1]):\n",
    "    print(\"%d. feature %s (%f)\" % (f + 1, labels[indices[f]], importances[indices[f]]))\n",
    "\n",
    "# Plot the feature importances of the forest\n",
    "plt.figure(figsize=(14,8))\n",
    "plt.title(\"Feature importances\", fontsize=20)\n",
    "plt.bar(range(X.shape[1]), importances[indices],\n",
    "       color=\"r\", yerr=std[indices], align=\"center\")\n",
    "plt.xticks(range(X.shape[1]), [labels[k] for k in indices],rotation='vertical')\n",
    "ax = plt.gca()\n",
    "ax.tick_params(axis = 'both', which = 'major', labelsize = 16)\n",
    "\n",
    "plt.xlim([-1, X.shape[1]])\n",
    "plt.show()"
   ]
  },
  {
   "cell_type": "code",
   "execution_count": null,
   "metadata": {},
   "outputs": [],
   "source": []
  }
 ],
 "metadata": {
  "colab": {
   "collapsed_sections": [],
   "name": "MSTC_Numpy_Matplolib_Pandas_Scikitlearn_OSA.ipynb",
   "provenance": [],
   "version": "0.3.2"
  },
  "kernelspec": {
   "display_name": "Python 3",
   "language": "python",
   "name": "python3"
  },
  "language_info": {
   "codemirror_mode": {
    "name": "ipython",
    "version": 3
   },
   "file_extension": ".py",
   "mimetype": "text/x-python",
   "name": "python",
   "nbconvert_exporter": "python",
   "pygments_lexer": "ipython3",
   "version": "3.7.0"
  }
 },
 "nbformat": 4,
 "nbformat_minor": 1
}
